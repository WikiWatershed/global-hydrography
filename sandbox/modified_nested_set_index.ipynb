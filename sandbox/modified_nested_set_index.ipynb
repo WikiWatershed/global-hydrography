{
 "cells": [
  {
   "cell_type": "markdown",
   "metadata": {
    "vscode": {
     "languageId": "latex"
    }
   },
   "source": [
    "# Generate a Modified Nested Set Index from NGA TDX-Hydro\n",
    "\n",
    "This notebook demonstrates how to use functions in the [WikiWatershed/global-hydrography](https://github.com/WikiWatershed/global-hydrography) package to generate a modified nested set index using the TDX-Hydro datasets released by the [US National Geospatial-Intelligence Agency (NGA)](https://www.nga.mil).\n",
    "\n",
    "This example notebook assumes that you have already downloaded the applicable data using the example provided in the `1_GetData.ipynb` notebook. This notebook also assumes that you will have completed the necessary setup steps outline in the **[Installation Instructions](README.md#get-started)** (and also completed as part of the notebook `1_GetData.ipynb`) "
   ]
  },
  {
   "cell_type": "markdown",
   "metadata": {},
   "source": []
  },
  {
   "cell_type": "markdown",
   "metadata": {},
   "source": [
    "# Python Imports\n",
    "\n",
    "In this step we will import the necessary python dependencies for this example"
   ]
  },
  {
   "cell_type": "code",
   "execution_count": 1,
   "metadata": {},
   "outputs": [],
   "source": [
    "from pathlib import Path\n",
    "import re\n",
    "from importlib import reload\n",
    "\n",
    "import pyogrio\n",
    "import geopandas as gpd\n",
    "\n",
    "from global_hydrography.delineation.mnsi import modified_nest_set_index\n",
    "from global_hydrography.preprocess import TDXPreprocessor"
   ]
  },
  {
   "cell_type": "markdown",
   "metadata": {},
   "source": [
    "# Compile files that need to be processed\n",
    "\n",
    "In this step we will compile a list of the files that need to be processed to have a modified nested set index. Note this step assumes that you have downloaded the files to the same directory and used the same naming convention as the `1_GetData.ipynb` example notebook. If you have opted to use a different location or naming convention you will need to modify this step accordingly."
   ]
  },
  {
   "cell_type": "code",
   "execution_count": 2,
   "metadata": {},
   "outputs": [],
   "source": [
    "# Confirm your current working directory (cwd) and repo/project directory\n",
    "working_dir = Path.cwd()\n",
    "project_dir = working_dir.parent\n",
    "data_dir = project_dir / 'data_temp' # a temporary data directory that we .gitignore\n",
    "tdx_dir = data_dir / 'nga'"
   ]
  },
  {
   "cell_type": "code",
   "execution_count": 3,
   "metadata": {},
   "outputs": [],
   "source": [
    "#Scan the files in the data directory and only pull of the streamnet (blueline) files\n",
    "files_to_process = []\n",
    "for item in tdx_dir.iterdir():\n",
    "    if item.is_file() and 'streamnet' in item.name:\n",
    "        files_to_process.append(item)"
   ]
  },
  {
   "cell_type": "code",
   "execution_count": 4,
   "metadata": {},
   "outputs": [
    {
     "data": {
      "text/plain": [
       "[PosixPath('/Users/aaufdenkampe/Documents/Python/global-hydrography/data_temp/nga/TDX_streamnet_1020011530_01.gpkg'),\n",
       " PosixPath('/Users/aaufdenkampe/Documents/Python/global-hydrography/data_temp/nga/TDX_streamnet_7020038340_01.gpkg'),\n",
       " PosixPath('/Users/aaufdenkampe/Documents/Python/global-hydrography/data_temp/nga/TDX_streamnet_7020038340_01.xedit.gpkg')]"
      ]
     },
     "execution_count": 4,
     "metadata": {},
     "output_type": "execute_result"
    }
   ],
   "source": [
    "files_to_process"
   ]
  },
  {
   "cell_type": "markdown",
   "metadata": {},
   "source": [
    "# Explore Workflows and Test Functions"
   ]
  },
  {
   "cell_type": "markdown",
   "metadata": {},
   "source": [
    "## Read Files"
   ]
  },
  {
   "cell_type": "code",
   "execution_count": 6,
   "metadata": {},
   "outputs": [
    {
     "data": {
      "text/plain": [
       "PosixPath('/Users/aaufdenkampe/Documents/Python/global-hydrography/data_temp/nga/TDX_streamnet_7020038340_01.gpkg')"
      ]
     },
     "execution_count": 6,
     "metadata": {},
     "output_type": "execute_result"
    }
   ],
   "source": [
    "file = files_to_process[1]\n",
    "file"
   ]
  },
  {
   "cell_type": "code",
   "execution_count": 7,
   "metadata": {},
   "outputs": [
    {
     "data": {
      "text/plain": [
       "7020038340"
      ]
     },
     "execution_count": 7,
     "metadata": {},
     "output_type": "execute_result"
    }
   ],
   "source": [
    "#parse the file name to get the HDX Basin Id\n",
    "tdx_basin_id = int(re.search(\"\\d{10}\",file.name).group(0))\n",
    "tdx_basin_id"
   ]
  },
  {
   "cell_type": "code",
   "execution_count": 8,
   "metadata": {},
   "outputs": [
    {
     "data": {
      "text/plain": [
       "{'layer_name': 'TDX_streamnet_7020038340_01',\n",
       " 'crs': 'EPSG:4326',\n",
       " 'encoding': 'UTF-8',\n",
       " 'fields': array(['LINKNO', 'DSLINKNO', 'USLINKNO1', 'USLINKNO2', 'DSNODEID',\n",
       "        'strmOrder', 'Length', 'Magnitude', 'DSContArea', 'strmDrop',\n",
       "        'Slope', 'StraightL', 'USContArea', 'WSNO', 'DOUTEND', 'DOUTSTART',\n",
       "        'DOUTMID'], dtype=object),\n",
       " 'dtypes': array(['int32', 'int32', 'int32', 'int32', 'int64', 'int32', 'float64',\n",
       "        'int32', 'float64', 'float64', 'float64', 'float64', 'float64',\n",
       "        'int32', 'float64', 'float64', 'float64'], dtype=object),\n",
       " 'fid_column': 'fid',\n",
       " 'geometry_name': 'geom',\n",
       " 'geometry_type': 'LineString',\n",
       " 'features': 140097,\n",
       " 'total_bounds': (-89.8212222222222,\n",
       "  24.5589999999989,\n",
       "  -66.1413333333321,\n",
       "  46.4454444444444),\n",
       " 'driver': 'GPKG',\n",
       " 'capabilities': {'random_read': True,\n",
       "  'fast_set_next_by_index': True,\n",
       "  'fast_spatial_filter': True,\n",
       "  'fast_feature_count': True,\n",
       "  'fast_total_bounds': True},\n",
       " 'layer_metadata': {'DBF_DATE_LAST_UPDATE': '2021-12-08'},\n",
       " 'dataset_metadata': None}"
      ]
     },
     "execution_count": 8,
     "metadata": {},
     "output_type": "execute_result"
    }
   ],
   "source": [
    "info = pyogrio.read_info(file)\n",
    "info"
   ]
  },
  {
   "cell_type": "code",
   "execution_count": 9,
   "metadata": {},
   "outputs": [
    {
     "data": {
      "text/plain": [
       "{'DBF_DATE_LAST_UPDATE': '2021-12-08'}"
      ]
     },
     "execution_count": 9,
     "metadata": {},
     "output_type": "execute_result"
    }
   ],
   "source": [
    "info['layer_metadata']"
   ]
  },
  {
   "cell_type": "code",
   "execution_count": 10,
   "metadata": {},
   "outputs": [
    {
     "name": "stdout",
     "output_type": "stream",
     "text": [
      "<class 'geopandas.geodataframe.GeoDataFrame'>\n",
      "RangeIndex: 140097 entries, 0 to 140096\n",
      "Data columns (total 18 columns):\n",
      " #   Column      Non-Null Count   Dtype   \n",
      "---  ------      --------------   -----   \n",
      " 0   LINKNO      140097 non-null  int32   \n",
      " 1   DSLINKNO    140097 non-null  int32   \n",
      " 2   USLINKNO1   140097 non-null  int32   \n",
      " 3   USLINKNO2   140097 non-null  int32   \n",
      " 4   DSNODEID    140097 non-null  int64   \n",
      " 5   strmOrder   140097 non-null  int32   \n",
      " 6   Length      140097 non-null  float64 \n",
      " 7   Magnitude   140097 non-null  int32   \n",
      " 8   DSContArea  140097 non-null  float64 \n",
      " 9   strmDrop    140097 non-null  float64 \n",
      " 10  Slope       140097 non-null  float64 \n",
      " 11  StraightL   140097 non-null  float64 \n",
      " 12  USContArea  140097 non-null  float64 \n",
      " 13  WSNO        140097 non-null  int32   \n",
      " 14  DOUTEND     140097 non-null  float64 \n",
      " 15  DOUTSTART   140097 non-null  float64 \n",
      " 16  DOUTMID     140097 non-null  float64 \n",
      " 17  geometry    140097 non-null  geometry\n",
      "dtypes: float64(9), geometry(1), int32(7), int64(1)\n",
      "memory usage: 15.5 MB\n"
     ]
    },
    {
     "data": {
      "text/html": [
       "<div>\n",
       "<style scoped>\n",
       "    .dataframe tbody tr th:only-of-type {\n",
       "        vertical-align: middle;\n",
       "    }\n",
       "\n",
       "    .dataframe tbody tr th {\n",
       "        vertical-align: top;\n",
       "    }\n",
       "\n",
       "    .dataframe thead th {\n",
       "        text-align: right;\n",
       "    }\n",
       "</style>\n",
       "<table border=\"1\" class=\"dataframe\">\n",
       "  <thead>\n",
       "    <tr style=\"text-align: right;\">\n",
       "      <th></th>\n",
       "      <th>LINKNO</th>\n",
       "      <th>DSLINKNO</th>\n",
       "      <th>USLINKNO1</th>\n",
       "      <th>USLINKNO2</th>\n",
       "      <th>DSNODEID</th>\n",
       "      <th>strmOrder</th>\n",
       "      <th>Length</th>\n",
       "      <th>Magnitude</th>\n",
       "      <th>DSContArea</th>\n",
       "      <th>strmDrop</th>\n",
       "      <th>Slope</th>\n",
       "      <th>StraightL</th>\n",
       "      <th>USContArea</th>\n",
       "      <th>WSNO</th>\n",
       "      <th>DOUTEND</th>\n",
       "      <th>DOUTSTART</th>\n",
       "      <th>DOUTMID</th>\n",
       "      <th>geometry</th>\n",
       "    </tr>\n",
       "  </thead>\n",
       "  <tbody>\n",
       "    <tr>\n",
       "      <th>0</th>\n",
       "      <td>0</td>\n",
       "      <td>1777</td>\n",
       "      <td>-1</td>\n",
       "      <td>-1</td>\n",
       "      <td>-1</td>\n",
       "      <td>1</td>\n",
       "      <td>3847.9</td>\n",
       "      <td>1</td>\n",
       "      <td>9567845.0</td>\n",
       "      <td>42.07</td>\n",
       "      <td>0.010933</td>\n",
       "      <td>3233.7</td>\n",
       "      <td>5254867.5</td>\n",
       "      <td>0</td>\n",
       "      <td>45853.6</td>\n",
       "      <td>49701.4</td>\n",
       "      <td>47777.5</td>\n",
       "      <td>LINESTRING (-69.67822 46.41356, -69.67822 46.4...</td>\n",
       "    </tr>\n",
       "    <tr>\n",
       "      <th>1</th>\n",
       "      <td>1</td>\n",
       "      <td>2369</td>\n",
       "      <td>-1</td>\n",
       "      <td>-1</td>\n",
       "      <td>-1</td>\n",
       "      <td>1</td>\n",
       "      <td>2251.3</td>\n",
       "      <td>1</td>\n",
       "      <td>8768556.0</td>\n",
       "      <td>34.66</td>\n",
       "      <td>0.015397</td>\n",
       "      <td>1749.2</td>\n",
       "      <td>4320561.0</td>\n",
       "      <td>1</td>\n",
       "      <td>44802.7</td>\n",
       "      <td>47054.1</td>\n",
       "      <td>45928.4</td>\n",
       "      <td>LINESTRING (-69.68589 46.40778, -69.686 46.407...</td>\n",
       "    </tr>\n",
       "    <tr>\n",
       "      <th>2</th>\n",
       "      <td>593</td>\n",
       "      <td>1777</td>\n",
       "      <td>-1</td>\n",
       "      <td>-1</td>\n",
       "      <td>-1</td>\n",
       "      <td>1</td>\n",
       "      <td>1469.3</td>\n",
       "      <td>1</td>\n",
       "      <td>8466694.0</td>\n",
       "      <td>11.98</td>\n",
       "      <td>0.008153</td>\n",
       "      <td>1286.2</td>\n",
       "      <td>4319318.0</td>\n",
       "      <td>593</td>\n",
       "      <td>45853.6</td>\n",
       "      <td>47322.9</td>\n",
       "      <td>46588.3</td>\n",
       "      <td>LINESTRING (-69.67822 46.41356, -69.67811 46.4...</td>\n",
       "    </tr>\n",
       "    <tr>\n",
       "      <th>3</th>\n",
       "      <td>1777</td>\n",
       "      <td>2369</td>\n",
       "      <td>0</td>\n",
       "      <td>593</td>\n",
       "      <td>-1</td>\n",
       "      <td>2</td>\n",
       "      <td>1050.9</td>\n",
       "      <td>2</td>\n",
       "      <td>19939082.0</td>\n",
       "      <td>0.91</td>\n",
       "      <td>0.000870</td>\n",
       "      <td>871.8</td>\n",
       "      <td>18034788.0</td>\n",
       "      <td>1777</td>\n",
       "      <td>44802.7</td>\n",
       "      <td>45853.6</td>\n",
       "      <td>45328.2</td>\n",
       "      <td>LINESTRING (-69.68589 46.40778, -69.68589 46.4...</td>\n",
       "    </tr>\n",
       "    <tr>\n",
       "      <th>4</th>\n",
       "      <td>2</td>\n",
       "      <td>4146</td>\n",
       "      <td>-1</td>\n",
       "      <td>-1</td>\n",
       "      <td>-1</td>\n",
       "      <td>1</td>\n",
       "      <td>3551.0</td>\n",
       "      <td>1</td>\n",
       "      <td>9120895.0</td>\n",
       "      <td>67.48</td>\n",
       "      <td>0.019002</td>\n",
       "      <td>2593.6</td>\n",
       "      <td>5267176.0</td>\n",
       "      <td>2</td>\n",
       "      <td>41041.1</td>\n",
       "      <td>44591.7</td>\n",
       "      <td>42816.4</td>\n",
       "      <td>LINESTRING (-69.687 46.37911, -69.687 46.379, ...</td>\n",
       "    </tr>\n",
       "  </tbody>\n",
       "</table>\n",
       "</div>"
      ],
      "text/plain": [
       "   LINKNO  DSLINKNO  USLINKNO1  USLINKNO2  DSNODEID  strmOrder  Length  \\\n",
       "0       0      1777         -1         -1        -1          1  3847.9   \n",
       "1       1      2369         -1         -1        -1          1  2251.3   \n",
       "2     593      1777         -1         -1        -1          1  1469.3   \n",
       "3    1777      2369          0        593        -1          2  1050.9   \n",
       "4       2      4146         -1         -1        -1          1  3551.0   \n",
       "\n",
       "   Magnitude  DSContArea  strmDrop     Slope  StraightL  USContArea  WSNO  \\\n",
       "0          1   9567845.0     42.07  0.010933     3233.7   5254867.5     0   \n",
       "1          1   8768556.0     34.66  0.015397     1749.2   4320561.0     1   \n",
       "2          1   8466694.0     11.98  0.008153     1286.2   4319318.0   593   \n",
       "3          2  19939082.0      0.91  0.000870      871.8  18034788.0  1777   \n",
       "4          1   9120895.0     67.48  0.019002     2593.6   5267176.0     2   \n",
       "\n",
       "   DOUTEND  DOUTSTART  DOUTMID  \\\n",
       "0  45853.6    49701.4  47777.5   \n",
       "1  44802.7    47054.1  45928.4   \n",
       "2  45853.6    47322.9  46588.3   \n",
       "3  44802.7    45853.6  45328.2   \n",
       "4  41041.1    44591.7  42816.4   \n",
       "\n",
       "                                            geometry  \n",
       "0  LINESTRING (-69.67822 46.41356, -69.67822 46.4...  \n",
       "1  LINESTRING (-69.68589 46.40778, -69.686 46.407...  \n",
       "2  LINESTRING (-69.67822 46.41356, -69.67811 46.4...  \n",
       "3  LINESTRING (-69.68589 46.40778, -69.68589 46.4...  \n",
       "4  LINESTRING (-69.687 46.37911, -69.687 46.379, ...  "
      ]
     },
     "execution_count": 10,
     "metadata": {},
     "output_type": "execute_result"
    }
   ],
   "source": [
    "#open the file as GeoDataFrame, using the fastest direct method from issue #1\n",
    "gdf = gpd.read_file(file, engine='pyogrio', layer=0, use_arrow=True)\n",
    "gdf.info()\n",
    "gdf.head()"
   ]
  },
  {
   "cell_type": "code",
   "execution_count": 11,
   "metadata": {},
   "outputs": [
    {
     "data": {
      "text/plain": [
       "<Geographic 2D CRS: EPSG:4326>\n",
       "Name: WGS 84\n",
       "Axis Info [ellipsoidal]:\n",
       "- Lat[north]: Geodetic latitude (degree)\n",
       "- Lon[east]: Geodetic longitude (degree)\n",
       "Area of Use:\n",
       "- name: World.\n",
       "- bounds: (-180.0, -90.0, 180.0, 90.0)\n",
       "Datum: World Geodetic System 1984 ensemble\n",
       "- Ellipsoid: WGS 84\n",
       "- Prime Meridian: Greenwich"
      ]
     },
     "execution_count": 11,
     "metadata": {},
     "output_type": "execute_result"
    }
   ],
   "source": [
    "gdf.crs"
   ]
  },
  {
   "cell_type": "markdown",
   "metadata": {},
   "source": [
    "## Preprocess GeoDataFrame"
   ]
  },
  {
   "cell_type": "code",
   "execution_count": null,
   "metadata": {},
   "outputs": [],
   "source": [
    "# Create an instance of the preprocessor class from our package\n",
    "preprocessor = TDXPreprocessor()"
   ]
  },
  {
   "cell_type": "code",
   "execution_count": 12,
   "metadata": {},
   "outputs": [],
   "source": [
    "test0_gdf = gdf.copy()"
   ]
  },
  {
   "cell_type": "code",
   "execution_count": 13,
   "metadata": {},
   "outputs": [
    {
     "name": "stdout",
     "output_type": "stream",
     "text": [
      "7.57 ms ± 4.84 ms per loop (mean ± std. dev. of 7 runs, 1 loop each)\n"
     ]
    }
   ],
   "source": [
    "%%timeit\n",
    "# apply preprocessing to make linkno globally unique\n",
    "preprocessor.tdx_to_global_linkno(test0_gdf, tdx_basin_id)"
   ]
  },
  {
   "cell_type": "code",
   "execution_count": 14,
   "metadata": {},
   "outputs": [
    {
     "name": "stdout",
     "output_type": "stream",
     "text": [
      "<class 'geopandas.geodataframe.GeoDataFrame'>\n",
      "RangeIndex: 140097 entries, 0 to 140096\n",
      "Data columns (total 18 columns):\n",
      " #   Column      Non-Null Count   Dtype   \n",
      "---  ------      --------------   -----   \n",
      " 0   LINKNO      140097 non-null  int32   \n",
      " 1   DSLINKNO    140097 non-null  int32   \n",
      " 2   USLINKNO1   140097 non-null  int32   \n",
      " 3   USLINKNO2   140097 non-null  int32   \n",
      " 4   DSNODEID    140097 non-null  int64   \n",
      " 5   strmOrder   140097 non-null  int32   \n",
      " 6   Length      140097 non-null  float64 \n",
      " 7   Magnitude   140097 non-null  int32   \n",
      " 8   DSContArea  140097 non-null  float64 \n",
      " 9   strmDrop    140097 non-null  float64 \n",
      " 10  Slope       140097 non-null  float64 \n",
      " 11  StraightL   140097 non-null  float64 \n",
      " 12  USContArea  140097 non-null  float64 \n",
      " 13  WSNO        140097 non-null  int32   \n",
      " 14  DOUTEND     140097 non-null  float64 \n",
      " 15  DOUTSTART   140097 non-null  float64 \n",
      " 16  DOUTMID     140097 non-null  float64 \n",
      " 17  geometry    140097 non-null  geometry\n",
      "dtypes: float64(9), geometry(1), int32(7), int64(1)\n",
      "memory usage: 15.5 MB\n"
     ]
    },
    {
     "data": {
      "text/html": [
       "<div>\n",
       "<style scoped>\n",
       "    .dataframe tbody tr th:only-of-type {\n",
       "        vertical-align: middle;\n",
       "    }\n",
       "\n",
       "    .dataframe tbody tr th {\n",
       "        vertical-align: top;\n",
       "    }\n",
       "\n",
       "    .dataframe thead th {\n",
       "        text-align: right;\n",
       "    }\n",
       "</style>\n",
       "<table border=\"1\" class=\"dataframe\">\n",
       "  <thead>\n",
       "    <tr style=\"text-align: right;\">\n",
       "      <th></th>\n",
       "      <th>LINKNO</th>\n",
       "      <th>DSLINKNO</th>\n",
       "      <th>USLINKNO1</th>\n",
       "      <th>USLINKNO2</th>\n",
       "      <th>DSNODEID</th>\n",
       "      <th>strmOrder</th>\n",
       "      <th>Length</th>\n",
       "      <th>Magnitude</th>\n",
       "      <th>DSContArea</th>\n",
       "      <th>strmDrop</th>\n",
       "      <th>Slope</th>\n",
       "      <th>StraightL</th>\n",
       "      <th>USContArea</th>\n",
       "      <th>WSNO</th>\n",
       "      <th>DOUTEND</th>\n",
       "      <th>DOUTSTART</th>\n",
       "      <th>DOUTMID</th>\n",
       "      <th>geometry</th>\n",
       "    </tr>\n",
       "  </thead>\n",
       "  <tbody>\n",
       "    <tr>\n",
       "      <th>0</th>\n",
       "      <td>750000000</td>\n",
       "      <td>750001777</td>\n",
       "      <td>-1</td>\n",
       "      <td>-1</td>\n",
       "      <td>-1</td>\n",
       "      <td>1</td>\n",
       "      <td>3847.9</td>\n",
       "      <td>1</td>\n",
       "      <td>9567845.0</td>\n",
       "      <td>42.07</td>\n",
       "      <td>0.010933</td>\n",
       "      <td>3233.7</td>\n",
       "      <td>5254867.5</td>\n",
       "      <td>0</td>\n",
       "      <td>45853.6</td>\n",
       "      <td>49701.4</td>\n",
       "      <td>47777.5</td>\n",
       "      <td>LINESTRING (-69.67822 46.41356, -69.67822 46.4...</td>\n",
       "    </tr>\n",
       "    <tr>\n",
       "      <th>1</th>\n",
       "      <td>750000001</td>\n",
       "      <td>750002369</td>\n",
       "      <td>-1</td>\n",
       "      <td>-1</td>\n",
       "      <td>-1</td>\n",
       "      <td>1</td>\n",
       "      <td>2251.3</td>\n",
       "      <td>1</td>\n",
       "      <td>8768556.0</td>\n",
       "      <td>34.66</td>\n",
       "      <td>0.015397</td>\n",
       "      <td>1749.2</td>\n",
       "      <td>4320561.0</td>\n",
       "      <td>1</td>\n",
       "      <td>44802.7</td>\n",
       "      <td>47054.1</td>\n",
       "      <td>45928.4</td>\n",
       "      <td>LINESTRING (-69.68589 46.40778, -69.686 46.407...</td>\n",
       "    </tr>\n",
       "    <tr>\n",
       "      <th>2</th>\n",
       "      <td>750000593</td>\n",
       "      <td>750001777</td>\n",
       "      <td>-1</td>\n",
       "      <td>-1</td>\n",
       "      <td>-1</td>\n",
       "      <td>1</td>\n",
       "      <td>1469.3</td>\n",
       "      <td>1</td>\n",
       "      <td>8466694.0</td>\n",
       "      <td>11.98</td>\n",
       "      <td>0.008153</td>\n",
       "      <td>1286.2</td>\n",
       "      <td>4319318.0</td>\n",
       "      <td>593</td>\n",
       "      <td>45853.6</td>\n",
       "      <td>47322.9</td>\n",
       "      <td>46588.3</td>\n",
       "      <td>LINESTRING (-69.67822 46.41356, -69.67811 46.4...</td>\n",
       "    </tr>\n",
       "    <tr>\n",
       "      <th>3</th>\n",
       "      <td>750001777</td>\n",
       "      <td>750002369</td>\n",
       "      <td>750000000</td>\n",
       "      <td>750000593</td>\n",
       "      <td>-1</td>\n",
       "      <td>2</td>\n",
       "      <td>1050.9</td>\n",
       "      <td>2</td>\n",
       "      <td>19939082.0</td>\n",
       "      <td>0.91</td>\n",
       "      <td>0.000870</td>\n",
       "      <td>871.8</td>\n",
       "      <td>18034788.0</td>\n",
       "      <td>1777</td>\n",
       "      <td>44802.7</td>\n",
       "      <td>45853.6</td>\n",
       "      <td>45328.2</td>\n",
       "      <td>LINESTRING (-69.68589 46.40778, -69.68589 46.4...</td>\n",
       "    </tr>\n",
       "    <tr>\n",
       "      <th>4</th>\n",
       "      <td>750000002</td>\n",
       "      <td>750004146</td>\n",
       "      <td>-1</td>\n",
       "      <td>-1</td>\n",
       "      <td>-1</td>\n",
       "      <td>1</td>\n",
       "      <td>3551.0</td>\n",
       "      <td>1</td>\n",
       "      <td>9120895.0</td>\n",
       "      <td>67.48</td>\n",
       "      <td>0.019002</td>\n",
       "      <td>2593.6</td>\n",
       "      <td>5267176.0</td>\n",
       "      <td>2</td>\n",
       "      <td>41041.1</td>\n",
       "      <td>44591.7</td>\n",
       "      <td>42816.4</td>\n",
       "      <td>LINESTRING (-69.687 46.37911, -69.687 46.379, ...</td>\n",
       "    </tr>\n",
       "  </tbody>\n",
       "</table>\n",
       "</div>"
      ],
      "text/plain": [
       "      LINKNO   DSLINKNO  USLINKNO1  USLINKNO2  DSNODEID  strmOrder  Length  \\\n",
       "0  750000000  750001777         -1         -1        -1          1  3847.9   \n",
       "1  750000001  750002369         -1         -1        -1          1  2251.3   \n",
       "2  750000593  750001777         -1         -1        -1          1  1469.3   \n",
       "3  750001777  750002369  750000000  750000593        -1          2  1050.9   \n",
       "4  750000002  750004146         -1         -1        -1          1  3551.0   \n",
       "\n",
       "   Magnitude  DSContArea  strmDrop     Slope  StraightL  USContArea  WSNO  \\\n",
       "0          1   9567845.0     42.07  0.010933     3233.7   5254867.5     0   \n",
       "1          1   8768556.0     34.66  0.015397     1749.2   4320561.0     1   \n",
       "2          1   8466694.0     11.98  0.008153     1286.2   4319318.0   593   \n",
       "3          2  19939082.0      0.91  0.000870      871.8  18034788.0  1777   \n",
       "4          1   9120895.0     67.48  0.019002     2593.6   5267176.0     2   \n",
       "\n",
       "   DOUTEND  DOUTSTART  DOUTMID  \\\n",
       "0  45853.6    49701.4  47777.5   \n",
       "1  44802.7    47054.1  45928.4   \n",
       "2  45853.6    47322.9  46588.3   \n",
       "3  44802.7    45853.6  45328.2   \n",
       "4  41041.1    44591.7  42816.4   \n",
       "\n",
       "                                            geometry  \n",
       "0  LINESTRING (-69.67822 46.41356, -69.67822 46.4...  \n",
       "1  LINESTRING (-69.68589 46.40778, -69.686 46.407...  \n",
       "2  LINESTRING (-69.67822 46.41356, -69.67811 46.4...  \n",
       "3  LINESTRING (-69.68589 46.40778, -69.68589 46.4...  \n",
       "4  LINESTRING (-69.687 46.37911, -69.687 46.379, ...  "
      ]
     },
     "execution_count": 14,
     "metadata": {},
     "output_type": "execute_result"
    }
   ],
   "source": [
    "# apply preprocessing to make linkno globally unique\n",
    "processed_gdf = preprocessor.tdx_to_global_linkno(gdf, tdx_basin_id)\n",
    "processed_gdf.info()\n",
    "processed_gdf.head()"
   ]
  },
  {
   "cell_type": "markdown",
   "metadata": {},
   "source": [
    "## Compute Modified Nested Set Index"
   ]
  },
  {
   "cell_type": "code",
   "execution_count": 15,
   "metadata": {},
   "outputs": [],
   "source": [
    "test_gdf = processed_gdf.copy(deep=True)"
   ]
  },
  {
   "cell_type": "code",
   "execution_count": 16,
   "metadata": {},
   "outputs": [
    {
     "name": "stdout",
     "output_type": "stream",
     "text": [
      "9.72 s ± 160 ms per loop (mean ± std. dev. of 7 runs, 1 loop each)\n"
     ]
    }
   ],
   "source": [
    "%%timeit\n",
    "# compute the modified nested set index is quite fast!! \n",
    "modified_nest_set_index(test_gdf)"
   ]
  },
  {
   "cell_type": "code",
   "execution_count": 17,
   "metadata": {},
   "outputs": [
    {
     "name": "stdout",
     "output_type": "stream",
     "text": [
      "<class 'geopandas.geodataframe.GeoDataFrame'>\n",
      "RangeIndex: 140097 entries, 0 to 140096\n",
      "Data columns (total 21 columns):\n",
      " #   Column         Non-Null Count   Dtype   \n",
      "---  ------         --------------   -----   \n",
      " 0   LINKNO         140097 non-null  int32   \n",
      " 1   DSLINKNO       140097 non-null  int32   \n",
      " 2   USLINKNO1      140097 non-null  int32   \n",
      " 3   USLINKNO2      140097 non-null  int32   \n",
      " 4   DSNODEID       140097 non-null  int64   \n",
      " 5   strmOrder      140097 non-null  int32   \n",
      " 6   Length         140097 non-null  float64 \n",
      " 7   Magnitude      140097 non-null  int32   \n",
      " 8   DSContArea     140097 non-null  float64 \n",
      " 9   strmDrop       140097 non-null  float64 \n",
      " 10  Slope          140097 non-null  float64 \n",
      " 11  StraightL      140097 non-null  float64 \n",
      " 12  USContArea     140097 non-null  float64 \n",
      " 13  WSNO           140097 non-null  int32   \n",
      " 14  DOUTEND        140097 non-null  float64 \n",
      " 15  DOUTSTART      140097 non-null  float64 \n",
      " 16  DOUTMID        140097 non-null  float64 \n",
      " 17  geometry       140097 non-null  geometry\n",
      " 18  DISCOVER_TIME  140097 non-null  int32   \n",
      " 19  FINISH_TIME    140097 non-null  int32   \n",
      " 20  ROOT_ID        140097 non-null  int32   \n",
      "dtypes: float64(9), geometry(1), int32(10), int64(1)\n",
      "memory usage: 17.1 MB\n"
     ]
    }
   ],
   "source": [
    "#compute the modified nested set index\n",
    "mnsi_gdf = modified_nest_set_index(processed_gdf)\n",
    "mnsi_gdf.info()"
   ]
  },
  {
   "cell_type": "code",
   "execution_count": 18,
   "metadata": {},
   "outputs": [
    {
     "data": {
      "text/plain": [
       "<Geographic 2D CRS: EPSG:4326>\n",
       "Name: WGS 84\n",
       "Axis Info [ellipsoidal]:\n",
       "- Lat[north]: Geodetic latitude (degree)\n",
       "- Lon[east]: Geodetic longitude (degree)\n",
       "Area of Use:\n",
       "- name: World.\n",
       "- bounds: (-180.0, -90.0, 180.0, 90.0)\n",
       "Datum: World Geodetic System 1984 ensemble\n",
       "- Ellipsoid: WGS 84\n",
       "- Prime Meridian: Greenwich"
      ]
     },
     "execution_count": 18,
     "metadata": {},
     "output_type": "execute_result"
    }
   ],
   "source": [
    "mnsi_gdf.crs"
   ]
  },
  {
   "cell_type": "code",
   "execution_count": 19,
   "metadata": {},
   "outputs": [
    {
     "data": {
      "text/plain": [
       "RangeIndex(start=0, stop=140097, step=1)"
      ]
     },
     "execution_count": 19,
     "metadata": {},
     "output_type": "execute_result"
    }
   ],
   "source": [
    "mnsi_gdf.index"
   ]
  },
  {
   "cell_type": "code",
   "execution_count": 20,
   "metadata": {},
   "outputs": [
    {
     "data": {
      "text/plain": [
       "Index(['LINKNO', 'DSLINKNO', 'USLINKNO1', 'USLINKNO2', 'DSNODEID', 'strmOrder',\n",
       "       'Length', 'Magnitude', 'DSContArea', 'strmDrop', 'Slope', 'StraightL',\n",
       "       'USContArea', 'WSNO', 'DOUTEND', 'DOUTSTART', 'DOUTMID', 'geometry',\n",
       "       'DISCOVER_TIME', 'FINISH_TIME', 'ROOT_ID'],\n",
       "      dtype='object')"
      ]
     },
     "execution_count": 20,
     "metadata": {},
     "output_type": "execute_result"
    }
   ],
   "source": [
    "mnsi_gdf.columns"
   ]
  },
  {
   "cell_type": "code",
   "execution_count": 21,
   "metadata": {},
   "outputs": [
    {
     "data": {
      "text/html": [
       "<div>\n",
       "<style scoped>\n",
       "    .dataframe tbody tr th:only-of-type {\n",
       "        vertical-align: middle;\n",
       "    }\n",
       "\n",
       "    .dataframe tbody tr th {\n",
       "        vertical-align: top;\n",
       "    }\n",
       "\n",
       "    .dataframe thead th {\n",
       "        text-align: right;\n",
       "    }\n",
       "</style>\n",
       "<table border=\"1\" class=\"dataframe\">\n",
       "  <thead>\n",
       "    <tr style=\"text-align: right;\">\n",
       "      <th></th>\n",
       "      <th>LINKNO</th>\n",
       "      <th>DSLINKNO</th>\n",
       "      <th>USLINKNO1</th>\n",
       "      <th>USLINKNO2</th>\n",
       "      <th>DSNODEID</th>\n",
       "      <th>DISCOVER_TIME</th>\n",
       "      <th>FINISH_TIME</th>\n",
       "      <th>ROOT_ID</th>\n",
       "    </tr>\n",
       "  </thead>\n",
       "  <tbody>\n",
       "    <tr>\n",
       "      <th>0</th>\n",
       "      <td>750000000</td>\n",
       "      <td>750001777</td>\n",
       "      <td>-1</td>\n",
       "      <td>-1</td>\n",
       "      <td>-1</td>\n",
       "      <td>52</td>\n",
       "      <td>53</td>\n",
       "      <td>750021317</td>\n",
       "    </tr>\n",
       "    <tr>\n",
       "      <th>1</th>\n",
       "      <td>750000001</td>\n",
       "      <td>750002369</td>\n",
       "      <td>-1</td>\n",
       "      <td>-1</td>\n",
       "      <td>-1</td>\n",
       "      <td>49</td>\n",
       "      <td>50</td>\n",
       "      <td>750021317</td>\n",
       "    </tr>\n",
       "    <tr>\n",
       "      <th>2</th>\n",
       "      <td>750000593</td>\n",
       "      <td>750001777</td>\n",
       "      <td>-1</td>\n",
       "      <td>-1</td>\n",
       "      <td>-1</td>\n",
       "      <td>51</td>\n",
       "      <td>52</td>\n",
       "      <td>750021317</td>\n",
       "    </tr>\n",
       "    <tr>\n",
       "      <th>3</th>\n",
       "      <td>750001777</td>\n",
       "      <td>750002369</td>\n",
       "      <td>750000000</td>\n",
       "      <td>750000593</td>\n",
       "      <td>-1</td>\n",
       "      <td>50</td>\n",
       "      <td>53</td>\n",
       "      <td>750021317</td>\n",
       "    </tr>\n",
       "    <tr>\n",
       "      <th>4</th>\n",
       "      <td>750000002</td>\n",
       "      <td>750004146</td>\n",
       "      <td>-1</td>\n",
       "      <td>-1</td>\n",
       "      <td>-1</td>\n",
       "      <td>47</td>\n",
       "      <td>48</td>\n",
       "      <td>750021317</td>\n",
       "    </tr>\n",
       "    <tr>\n",
       "      <th>...</th>\n",
       "      <td>...</td>\n",
       "      <td>...</td>\n",
       "      <td>...</td>\n",
       "      <td>...</td>\n",
       "      <td>...</td>\n",
       "      <td>...</td>\n",
       "      <td>...</td>\n",
       "      <td>...</td>\n",
       "    </tr>\n",
       "    <tr>\n",
       "      <th>140092</th>\n",
       "      <td>750000587</td>\n",
       "      <td>-1</td>\n",
       "      <td>-1</td>\n",
       "      <td>-1</td>\n",
       "      <td>-1</td>\n",
       "      <td>1</td>\n",
       "      <td>2</td>\n",
       "      <td>750000587</td>\n",
       "    </tr>\n",
       "    <tr>\n",
       "      <th>140093</th>\n",
       "      <td>750001180</td>\n",
       "      <td>-1</td>\n",
       "      <td>-1</td>\n",
       "      <td>-1</td>\n",
       "      <td>-1</td>\n",
       "      <td>1</td>\n",
       "      <td>2</td>\n",
       "      <td>750001180</td>\n",
       "    </tr>\n",
       "    <tr>\n",
       "      <th>140094</th>\n",
       "      <td>750001772</td>\n",
       "      <td>-1</td>\n",
       "      <td>-1</td>\n",
       "      <td>-1</td>\n",
       "      <td>-1</td>\n",
       "      <td>1</td>\n",
       "      <td>2</td>\n",
       "      <td>750001772</td>\n",
       "    </tr>\n",
       "    <tr>\n",
       "      <th>140095</th>\n",
       "      <td>750000588</td>\n",
       "      <td>-1</td>\n",
       "      <td>-1</td>\n",
       "      <td>-1</td>\n",
       "      <td>-1</td>\n",
       "      <td>1</td>\n",
       "      <td>2</td>\n",
       "      <td>750000588</td>\n",
       "    </tr>\n",
       "    <tr>\n",
       "      <th>140096</th>\n",
       "      <td>750000589</td>\n",
       "      <td>-1</td>\n",
       "      <td>-1</td>\n",
       "      <td>-1</td>\n",
       "      <td>-1</td>\n",
       "      <td>1</td>\n",
       "      <td>2</td>\n",
       "      <td>750000589</td>\n",
       "    </tr>\n",
       "  </tbody>\n",
       "</table>\n",
       "<p>140097 rows × 8 columns</p>\n",
       "</div>"
      ],
      "text/plain": [
       "           LINKNO   DSLINKNO  USLINKNO1  USLINKNO2  DSNODEID  DISCOVER_TIME  \\\n",
       "0       750000000  750001777         -1         -1        -1             52   \n",
       "1       750000001  750002369         -1         -1        -1             49   \n",
       "2       750000593  750001777         -1         -1        -1             51   \n",
       "3       750001777  750002369  750000000  750000593        -1             50   \n",
       "4       750000002  750004146         -1         -1        -1             47   \n",
       "...           ...        ...        ...        ...       ...            ...   \n",
       "140092  750000587         -1         -1         -1        -1              1   \n",
       "140093  750001180         -1         -1         -1        -1              1   \n",
       "140094  750001772         -1         -1         -1        -1              1   \n",
       "140095  750000588         -1         -1         -1        -1              1   \n",
       "140096  750000589         -1         -1         -1        -1              1   \n",
       "\n",
       "        FINISH_TIME    ROOT_ID  \n",
       "0                53  750021317  \n",
       "1                50  750021317  \n",
       "2                52  750021317  \n",
       "3                53  750021317  \n",
       "4                48  750021317  \n",
       "...             ...        ...  \n",
       "140092            2  750000587  \n",
       "140093            2  750001180  \n",
       "140094            2  750001772  \n",
       "140095            2  750000588  \n",
       "140096            2  750000589  \n",
       "\n",
       "[140097 rows x 8 columns]"
      ]
     },
     "execution_count": 21,
     "metadata": {},
     "output_type": "execute_result"
    }
   ],
   "source": [
    "mnsi_gdf[['LINKNO', 'DSLINKNO', 'USLINKNO1', 'USLINKNO2', 'DSNODEID', \n",
    "          'DISCOVER_TIME', 'FINISH_TIME', 'ROOT_ID']]"
   ]
  },
  {
   "cell_type": "code",
   "execution_count": 24,
   "metadata": {},
   "outputs": [
    {
     "data": {
      "text/plain": [
       "ROOT_ID\n",
       "750005168        1\n",
       "750000464        1\n",
       "750075251        1\n",
       "750000462        1\n",
       "750070517        1\n",
       "             ...  \n",
       "750170058     4979\n",
       "750301090     5929\n",
       "750093395     6453\n",
       "750127466     9771\n",
       "750236632    14095\n",
       "Name: count, Length: 1635, dtype: int64"
      ]
     },
     "execution_count": 24,
     "metadata": {},
     "output_type": "execute_result"
    }
   ],
   "source": [
    "mnsi_gdf.ROOT_ID.value_counts().sort_values()"
   ]
  },
  {
   "cell_type": "code",
   "execution_count": 21,
   "metadata": {},
   "outputs": [
    {
     "name": "stdout",
     "output_type": "stream",
     "text": [
      "<class 'geopandas.geodataframe.GeoDataFrame'>\n",
      "RangeIndex: 140097 entries, 0 to 140096\n",
      "Data columns (total 19 columns):\n",
      " #   Column         Non-Null Count   Dtype   \n",
      "---  ------         --------------   -----   \n",
      " 0   LINKNO         140097 non-null  int32   \n",
      " 1   DSLINKNO       140097 non-null  int32   \n",
      " 2   USLINKNO1      140097 non-null  int32   \n",
      " 3   USLINKNO2      140097 non-null  int32   \n",
      " 4   strmOrder      140097 non-null  int32   \n",
      " 5   Length         140097 non-null  float64 \n",
      " 6   Magnitude      140097 non-null  int32   \n",
      " 7   DSContArea     140097 non-null  float64 \n",
      " 8   strmDrop       140097 non-null  float64 \n",
      " 9   Slope          140097 non-null  float64 \n",
      " 10  StraightL      140097 non-null  float64 \n",
      " 11  USContArea     140097 non-null  float64 \n",
      " 12  DOUTEND        140097 non-null  float64 \n",
      " 13  DOUTSTART      140097 non-null  float64 \n",
      " 14  DOUTMID        140097 non-null  float64 \n",
      " 15  geometry       140097 non-null  geometry\n",
      " 16  DISCOVER_TIME  140097 non-null  int32   \n",
      " 17  FINISH_TIME    140097 non-null  int32   \n",
      " 18  ROOT_ID        140097 non-null  int32   \n",
      "dtypes: float64(9), geometry(1), int32(9)\n",
      "memory usage: 15.5 MB\n"
     ]
    }
   ],
   "source": [
    "# Drop columns with no value. See `sandbox/explore_data_sources.ipynb`\n",
    "columns_to_drop = [\n",
    "    'WSNO', # identical values to 'LINKNO'\n",
    "    'DSNODEID', # all -1\n",
    "]\n",
    "mnsi_gdf.drop(columns=columns_to_drop, inplace=True)\n",
    "mnsi_gdf.info()"
   ]
  },
  {
   "cell_type": "markdown",
   "metadata": {},
   "source": [
    "## Write GeoParquet File"
   ]
  },
  {
   "cell_type": "code",
   "execution_count": null,
   "metadata": {},
   "outputs": [],
   "source": [
    "\n",
    "#write back to the file\n",
    "mnsi_gdf.to_parquet(\n",
    "    \n",
    ")"
   ]
  },
  {
   "cell_type": "markdown",
   "metadata": {},
   "source": [
    "# Compute the modified nested set index\n",
    "\n",
    "In this step we will loop through each of the files to be processed, open them as a GeoDataFrame, applied the modified nested set algorithm, and then write them back to the original file. Note this steps assumes you have used the same file naming convention as the `1_GetData.ipynb` example notebook. If your naming convention is different, you may need to modify the code below. "
   ]
  },
  {
   "cell_type": "code",
   "execution_count": 25,
   "metadata": {},
   "outputs": [],
   "source": [
    "# define a helper function for the operation\n",
    "def compute_mnsi(file:Path, preprocessor:TDXPreprocessor) -> None:\n",
    "\n",
    "    #parse the file name to get the HDX Basin Id\n",
    "    tdx_basin_id = int(re.search(\"\\d{10}\",file.name).group(0))\n",
    "\n",
    "    #open the file as GeoDataFrame\n",
    "    gdf = pyogrio.read_dataframe(file, use_arrow=True)\n",
    "    info = pyogrio.read_info(file)\n",
    "\n",
    "    #apply preprocessing to make linkno globally unique\n",
    "    gdf = preprocessor.tdx_to_global_linkno(gdf, tdx_basin_id)\n",
    "\n",
    "    #compute the modified nested set index\n",
    "    gdf = modified_nest_set_index(gdf)\n",
    "\n",
    "    #write back to the file\n",
    "    # FUNCTION BELOW OVER-WRITES FILE!!!\n",
    "    # pyogrio.write_dataframe(gdf, file, layer=info['layer_name'], use_arrow=True)"
   ]
  },
  {
   "cell_type": "code",
   "execution_count": 26,
   "metadata": {},
   "outputs": [
    {
     "name": "stderr",
     "output_type": "stream",
     "text": [
      "/Users/aaufdenkampe/miniconda3/envs/hydrography/lib/python3.11/site-packages/pyogrio/raw.py:842: UserWarning: 'crs' was not provided.  The output dataset will not have projection information defined and may not be usable in other systems.\n",
      "  warnings.warn(\n"
     ]
    }
   ],
   "source": [
    "#initialize a preprocessor instance\n",
    "#we want to reuse this object to take advantage of the cached TDX Basin Id crosswalk\n",
    "preprocessor = TDXPreprocessor()\n",
    "\n",
    "file = files_to_process[1]\n",
    "\n",
    "compute_mnsi(file, preprocessor)"
   ]
  }
 ],
 "metadata": {
  "kernelspec": {
   "display_name": "Python 3",
   "language": "python",
   "name": "python3"
  },
  "language_info": {
   "codemirror_mode": {
    "name": "ipython",
    "version": 3
   },
   "file_extension": ".py",
   "mimetype": "text/x-python",
   "name": "python",
   "nbconvert_exporter": "python",
   "pygments_lexer": "ipython3",
   "version": "3.11.9"
  }
 },
 "nbformat": 4,
 "nbformat_minor": 2
}
