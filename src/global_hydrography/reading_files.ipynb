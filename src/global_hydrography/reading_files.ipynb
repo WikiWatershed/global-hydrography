{
 "cells": [
  {
   "cell_type": "code",
   "execution_count": 1,
   "id": "d41efc86-01a0-4c00-8b80-514400052989",
   "metadata": {},
   "outputs": [],
   "source": [
    "import fsspec\n",
    "import s3fs\n",
    "from pathlib import Path"
   ]
  },
  {
   "cell_type": "code",
   "execution_count": 2,
   "id": "0e5a0942-2adb-4171-833f-7269a37997dc",
   "metadata": {},
   "outputs": [],
   "source": [
    "# Download URL for Basin GeoJSON File with ID Numbers\n",
    "hydrobasins_url = 'https://earth-info.nga.mil/php/download.php?file=hydrobasins_level2'"
   ]
  },
  {
   "cell_type": "code",
   "execution_count": 3,
   "id": "33b0a19e-e296-4981-8fab-1bd498ed8436",
   "metadata": {},
   "outputs": [
    {
     "data": {
      "text/plain": [
       "True"
      ]
     },
     "execution_count": 3,
     "metadata": {},
     "output_type": "execute_result"
    }
   ],
   "source": [
    "fsspec_http = fsspec.filesystem(protocol='http')\n",
    "fsspec_http.exists(hydrobasins_url)"
   ]
  },
  {
   "cell_type": "code",
   "execution_count": 4,
   "id": "549288df-4d4e-4814-8b72-2d833bc91ae1",
   "metadata": {},
   "outputs": [
    {
     "data": {
      "text/plain": [
       "{'name': 'https://earth-info.nga.mil/php/download.php?file=hydrobasins_level2',\n",
       " 'size': 95389402,\n",
       " 'mimetype': 'application/octet-stream',\n",
       " 'url': 'https://earth-info.nga.mil/php/download.php?file=hydrobasins_level2',\n",
       " 'type': 'file'}"
      ]
     },
     "execution_count": 4,
     "metadata": {},
     "output_type": "execute_result"
    }
   ],
   "source": [
    "fsspec_http.info(hydrobasins_url)"
   ]
  },
  {
   "cell_type": "code",
   "execution_count": 16,
   "id": "f242dfe9-e8e4-4daa-b290-e15aec43cb20",
   "metadata": {},
   "outputs": [],
   "source": [
    "working_dir = Path.cwd()\n",
    "project_dir = working_dir.parent\n",
    "data_dir = project_dir / 'data_temp'  # Temporary data directory to be .gitignored\n",
    "data_dir.mkdir(parents=True, exist_ok=True)"
   ]
  },
  {
   "cell_type": "code",
   "execution_count": 36,
   "id": "8ac9fec4-f94f-4f6b-b68f-c8457b934abf",
   "metadata": {},
   "outputs": [
    {
     "data": {
      "text/plain": [
       "WindowsPath('C:/Users/kbartels/OneDrive - LimnoTech/GitHub/global-hydrography/src/data_temp/hydrobasins_level2.zip')"
      ]
     },
     "execution_count": 36,
     "metadata": {},
     "output_type": "execute_result"
    }
   ],
   "source": [
    "file_name = 'hydrobasins_level2.zip'\n",
    "local_filepath = data_dir / file_name\n",
    "local_filepath"
   ]
  },
  {
   "cell_type": "code",
   "execution_count": 37,
   "id": "f8e6e18c-090a-4175-ae73-7a465a0c7894",
   "metadata": {},
   "outputs": [],
   "source": [
    "# Not working\n",
    "fsspec_http.get(hydrobasins_url, str(local_filepath))"
   ]
  },
  {
   "cell_type": "code",
   "execution_count": 35,
   "id": "dac1400f-3d2d-4da7-a3a8-c8dcc5ce330b",
   "metadata": {},
   "outputs": [
    {
     "name": "stdout",
     "output_type": "stream",
     "text": [
      "CPU times: total: 2.84 s\n",
      "Wall time: 3min 10s\n"
     ]
    }
   ],
   "source": [
    "%%time\n",
    "with fsspec_http.open(hydrobasins_url, 'rb') as remote_file:\n",
    "    with open(local_filepath, 'wb') as local_file:\n",
    "        local_file.write(remote_file.read())"
   ]
  },
  {
   "cell_type": "code",
   "execution_count": null,
   "id": "4291f5cc-bbe1-48d1-af07-08a32b68f6a5",
   "metadata": {},
   "outputs": [],
   "source": []
  }
 ],
 "metadata": {
  "kernelspec": {
   "display_name": "Python 3 (ipykernel)",
   "language": "python",
   "name": "python3"
  },
  "language_info": {
   "codemirror_mode": {
    "name": "ipython",
    "version": 3
   },
   "file_extension": ".py",
   "mimetype": "text/x-python",
   "name": "python",
   "nbconvert_exporter": "python",
   "pygments_lexer": "ipython3",
   "version": "3.11.9"
  }
 },
 "nbformat": 4,
 "nbformat_minor": 5
}
