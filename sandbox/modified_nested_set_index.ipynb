{
 "cells": [
  {
   "cell_type": "markdown",
   "metadata": {
    "vscode": {
     "languageId": "latex"
    }
   },
   "source": [
    "# Generate a Modified Nested Set Index from NGA TDX-Hydro\n",
    "\n",
    "This notebook demonstrates how to use functions in the [WikiWatershed/global-hydrography](https://github.com/WikiWatershed/global-hydrography) package to generate a modified nested set index using the TDX-Hydro datasets released by the [US National Geospatial-Intelligence Agency (NGA)](https://www.nga.mil).\n",
    "\n",
    "This example notebook assumes that you have already downloaded the applicable data using the example provided in the `1_GetData.ipynb` notebook. This notebook also assumes that you will have completed the necessary setup steps outline in the **[Installation Instructions](README.md#get-started)** (and also completed as part of the notebook `1_GetData.ipynb`) "
   ]
  },
  {
   "cell_type": "markdown",
   "metadata": {},
   "source": []
  },
  {
   "cell_type": "markdown",
   "metadata": {},
   "source": [
    "# Python Imports\n",
    "\n",
    "In this step we will import the necessary python dependencies for this example"
   ]
  },
  {
   "cell_type": "code",
   "execution_count": 64,
   "metadata": {},
   "outputs": [],
   "source": [
    "from pathlib import Path\n",
    "import re\n",
    "from importlib import reload\n",
    "\n",
    "import pyogrio\n",
    "import geopandas as gpd\n",
    "import pandas as pd\n",
    "\n",
    "import global_hydrography as gh\n",
    "from global_hydrography.delineation.mnsi import modified_nest_set_index\n",
    "from global_hydrography.preprocess import TDXPreprocessor"
   ]
  },
  {
   "cell_type": "code",
   "execution_count": 2,
   "metadata": {},
   "outputs": [
    {
     "data": {
      "text/plain": [
       "['__builtins__',\n",
       " '__cached__',\n",
       " '__doc__',\n",
       " '__file__',\n",
       " '__loader__',\n",
       " '__name__',\n",
       " '__package__',\n",
       " '__path__',\n",
       " '__spec__',\n",
       " 'delineation',\n",
       " 'io',\n",
       " 'mnsi',\n",
       " 'preprocess',\n",
       " 'process']"
      ]
     },
     "execution_count": 2,
     "metadata": {},
     "output_type": "execute_result"
    }
   ],
   "source": [
    "# Explore the namespace for global-hydrography modules, functions, etc.\n",
    "dir(gh)"
   ]
  },
  {
   "cell_type": "markdown",
   "metadata": {},
   "source": [
    "# Compile files that need to be processed\n",
    "\n",
    "In this step we will compile a list of the files that need to be processed to have a modified nested set index. Note this step assumes that you have downloaded the files to the same directory and used the same naming convention as the `1_GetData.ipynb` example notebook. If you have opted to use a different location or naming convention you will need to modify this step accordingly."
   ]
  },
  {
   "cell_type": "code",
   "execution_count": 3,
   "metadata": {},
   "outputs": [],
   "source": [
    "# Confirm your current working directory (cwd) and repo/project directory\n",
    "working_dir = Path.cwd()\n",
    "project_dir = working_dir.parent\n",
    "data_dir = project_dir / 'data_temp' # a temporary data directory that we .gitignore\n",
    "tdx_dir = data_dir / 'nga'"
   ]
  },
  {
   "cell_type": "code",
   "execution_count": 4,
   "metadata": {},
   "outputs": [],
   "source": [
    "#Scan the files in the data directory and only pull of the streamnet (blueline) files\n",
    "files_to_process = []\n",
    "for item in tdx_dir.iterdir():\n",
    "    if item.is_file() and 'streamnet' in item.name:\n",
    "        files_to_process.append(item)"
   ]
  },
  {
   "cell_type": "code",
   "execution_count": 5,
   "metadata": {},
   "outputs": [
    {
     "data": {
      "text/plain": [
       "[PosixPath('/Users/aaufdenkampe/Documents/Python/global-hydrography/data_temp/nga/TDX_streamnet_1020011530_01.gpkg'),\n",
       " PosixPath('/Users/aaufdenkampe/Documents/Python/global-hydrography/data_temp/nga/TDX_streamnet_7020038340_01.parquet'),\n",
       " PosixPath('/Users/aaufdenkampe/Documents/Python/global-hydrography/data_temp/nga/TDX_streamnet_7020038340_01.gpkg-shm'),\n",
       " PosixPath('/Users/aaufdenkampe/Documents/Python/global-hydrography/data_temp/nga/TDX_streamnet_7020038340_01.gpkg-wal'),\n",
       " PosixPath('/Users/aaufdenkampe/Documents/Python/global-hydrography/data_temp/nga/TDX_streamnet_7020038340_01.gpkg'),\n",
       " PosixPath('/Users/aaufdenkampe/Documents/Python/global-hydrography/data_temp/nga/TDX_streamnet_7020038340_01_mnsi.parquet')]"
      ]
     },
     "execution_count": 5,
     "metadata": {},
     "output_type": "execute_result"
    }
   ],
   "source": [
    "files_to_process"
   ]
  },
  {
   "cell_type": "markdown",
   "metadata": {},
   "source": [
    "# Explore Workflows and Test Functions"
   ]
  },
  {
   "cell_type": "markdown",
   "metadata": {},
   "source": [
    "## Read Files"
   ]
  },
  {
   "cell_type": "code",
   "execution_count": 6,
   "metadata": {},
   "outputs": [
    {
     "data": {
      "text/plain": [
       "'TDX_streamnet_7020038340_01.gpkg'"
      ]
     },
     "execution_count": 6,
     "metadata": {},
     "output_type": "execute_result"
    }
   ],
   "source": [
    "file = files_to_process[4]\n",
    "file.name"
   ]
  },
  {
   "cell_type": "code",
   "execution_count": 7,
   "metadata": {},
   "outputs": [
    {
     "data": {
      "text/plain": [
       "'.gpkg'"
      ]
     },
     "execution_count": 7,
     "metadata": {},
     "output_type": "execute_result"
    }
   ],
   "source": [
    "file.suffix"
   ]
  },
  {
   "cell_type": "code",
   "execution_count": 8,
   "metadata": {},
   "outputs": [
    {
     "data": {
      "text/plain": [
       "7020038340"
      ]
     },
     "execution_count": 8,
     "metadata": {},
     "output_type": "execute_result"
    }
   ],
   "source": [
    "#parse the file name to get the HDX Basin Id\n",
    "tdx_basin_id = int(re.search(\"\\d{10}\",file.name).group(0))\n",
    "tdx_basin_id"
   ]
  },
  {
   "cell_type": "code",
   "execution_count": 9,
   "metadata": {},
   "outputs": [
    {
     "data": {
      "text/plain": [
       "{'layer_name': 'TDX_streamnet_7020038340_01',\n",
       " 'crs': 'EPSG:4326',\n",
       " 'encoding': 'UTF-8',\n",
       " 'fields': array(['LINKNO', 'DSLINKNO', 'USLINKNO1', 'USLINKNO2', 'DSNODEID',\n",
       "        'strmOrder', 'Length', 'Magnitude', 'DSContArea', 'strmDrop',\n",
       "        'Slope', 'StraightL', 'USContArea', 'WSNO', 'DOUTEND', 'DOUTSTART',\n",
       "        'DOUTMID'], dtype=object),\n",
       " 'dtypes': array(['int32', 'int32', 'int32', 'int32', 'int64', 'int32', 'float64',\n",
       "        'int32', 'float64', 'float64', 'float64', 'float64', 'float64',\n",
       "        'int32', 'float64', 'float64', 'float64'], dtype=object),\n",
       " 'fid_column': 'fid',\n",
       " 'geometry_name': 'geom',\n",
       " 'geometry_type': 'LineString',\n",
       " 'features': 140097,\n",
       " 'total_bounds': (-89.8212222222222,\n",
       "  24.5589999999989,\n",
       "  -66.1413333333321,\n",
       "  46.4454444444444),\n",
       " 'driver': 'GPKG',\n",
       " 'capabilities': {'random_read': True,\n",
       "  'fast_set_next_by_index': True,\n",
       "  'fast_spatial_filter': True,\n",
       "  'fast_feature_count': True,\n",
       "  'fast_total_bounds': True},\n",
       " 'layer_metadata': {'DBF_DATE_LAST_UPDATE': '2021-12-08'},\n",
       " 'dataset_metadata': None}"
      ]
     },
     "execution_count": 9,
     "metadata": {},
     "output_type": "execute_result"
    }
   ],
   "source": [
    "info = pyogrio.read_info(file, layer=0)\n",
    "info"
   ]
  },
  {
   "cell_type": "code",
   "execution_count": 10,
   "metadata": {},
   "outputs": [
    {
     "data": {
      "text/plain": [
       "'TDX_streamnet_7020038340_01'"
      ]
     },
     "execution_count": 10,
     "metadata": {},
     "output_type": "execute_result"
    }
   ],
   "source": [
    "info['layer_name']"
   ]
  },
  {
   "cell_type": "code",
   "execution_count": 11,
   "metadata": {},
   "outputs": [
    {
     "data": {
      "text/plain": [
       "7020038340"
      ]
     },
     "execution_count": 11,
     "metadata": {},
     "output_type": "execute_result"
    }
   ],
   "source": [
    "int(re.search(\"\\d{10}\",info['layer_name']).group(0))"
   ]
  },
  {
   "cell_type": "code",
   "execution_count": 12,
   "metadata": {},
   "outputs": [
    {
     "data": {
      "text/plain": [
       "{'DBF_DATE_LAST_UPDATE': '2021-12-08'}"
      ]
     },
     "execution_count": 12,
     "metadata": {},
     "output_type": "execute_result"
    }
   ],
   "source": [
    "info['layer_metadata']"
   ]
  },
  {
   "cell_type": "code",
   "execution_count": 13,
   "metadata": {},
   "outputs": [
    {
     "name": "stdout",
     "output_type": "stream",
     "text": [
      "<class 'geopandas.geodataframe.GeoDataFrame'>\n",
      "RangeIndex: 140097 entries, 0 to 140096\n",
      "Data columns (total 18 columns):\n",
      " #   Column      Non-Null Count   Dtype   \n",
      "---  ------      --------------   -----   \n",
      " 0   LINKNO      140097 non-null  int32   \n",
      " 1   DSLINKNO    140097 non-null  int32   \n",
      " 2   USLINKNO1   140097 non-null  int32   \n",
      " 3   USLINKNO2   140097 non-null  int32   \n",
      " 4   DSNODEID    140097 non-null  int64   \n",
      " 5   strmOrder   140097 non-null  int32   \n",
      " 6   Length      140097 non-null  float64 \n",
      " 7   Magnitude   140097 non-null  int32   \n",
      " 8   DSContArea  140097 non-null  float64 \n",
      " 9   strmDrop    140097 non-null  float64 \n",
      " 10  Slope       140097 non-null  float64 \n",
      " 11  StraightL   140097 non-null  float64 \n",
      " 12  USContArea  140097 non-null  float64 \n",
      " 13  WSNO        140097 non-null  int32   \n",
      " 14  DOUTEND     140097 non-null  float64 \n",
      " 15  DOUTSTART   140097 non-null  float64 \n",
      " 16  DOUTMID     140097 non-null  float64 \n",
      " 17  geometry    140097 non-null  geometry\n",
      "dtypes: float64(9), geometry(1), int32(7), int64(1)\n",
      "memory usage: 15.5 MB\n"
     ]
    },
    {
     "data": {
      "text/html": [
       "<div>\n",
       "<style scoped>\n",
       "    .dataframe tbody tr th:only-of-type {\n",
       "        vertical-align: middle;\n",
       "    }\n",
       "\n",
       "    .dataframe tbody tr th {\n",
       "        vertical-align: top;\n",
       "    }\n",
       "\n",
       "    .dataframe thead th {\n",
       "        text-align: right;\n",
       "    }\n",
       "</style>\n",
       "<table border=\"1\" class=\"dataframe\">\n",
       "  <thead>\n",
       "    <tr style=\"text-align: right;\">\n",
       "      <th></th>\n",
       "      <th>LINKNO</th>\n",
       "      <th>DSLINKNO</th>\n",
       "      <th>USLINKNO1</th>\n",
       "      <th>USLINKNO2</th>\n",
       "      <th>DSNODEID</th>\n",
       "      <th>strmOrder</th>\n",
       "      <th>Length</th>\n",
       "      <th>Magnitude</th>\n",
       "      <th>DSContArea</th>\n",
       "      <th>strmDrop</th>\n",
       "      <th>Slope</th>\n",
       "      <th>StraightL</th>\n",
       "      <th>USContArea</th>\n",
       "      <th>WSNO</th>\n",
       "      <th>DOUTEND</th>\n",
       "      <th>DOUTSTART</th>\n",
       "      <th>DOUTMID</th>\n",
       "      <th>geometry</th>\n",
       "    </tr>\n",
       "  </thead>\n",
       "  <tbody>\n",
       "    <tr>\n",
       "      <th>0</th>\n",
       "      <td>0</td>\n",
       "      <td>1777</td>\n",
       "      <td>-1</td>\n",
       "      <td>-1</td>\n",
       "      <td>-1</td>\n",
       "      <td>1</td>\n",
       "      <td>3847.9</td>\n",
       "      <td>1</td>\n",
       "      <td>9567845.0</td>\n",
       "      <td>42.07</td>\n",
       "      <td>0.010933</td>\n",
       "      <td>3233.7</td>\n",
       "      <td>5254867.5</td>\n",
       "      <td>0</td>\n",
       "      <td>45853.6</td>\n",
       "      <td>49701.4</td>\n",
       "      <td>47777.5</td>\n",
       "      <td>LINESTRING (-69.67822 46.41356, -69.67822 46.4...</td>\n",
       "    </tr>\n",
       "    <tr>\n",
       "      <th>1</th>\n",
       "      <td>1</td>\n",
       "      <td>2369</td>\n",
       "      <td>-1</td>\n",
       "      <td>-1</td>\n",
       "      <td>-1</td>\n",
       "      <td>1</td>\n",
       "      <td>2251.3</td>\n",
       "      <td>1</td>\n",
       "      <td>8768556.0</td>\n",
       "      <td>34.66</td>\n",
       "      <td>0.015397</td>\n",
       "      <td>1749.2</td>\n",
       "      <td>4320561.0</td>\n",
       "      <td>1</td>\n",
       "      <td>44802.7</td>\n",
       "      <td>47054.1</td>\n",
       "      <td>45928.4</td>\n",
       "      <td>LINESTRING (-69.68589 46.40778, -69.686 46.407...</td>\n",
       "    </tr>\n",
       "    <tr>\n",
       "      <th>2</th>\n",
       "      <td>593</td>\n",
       "      <td>1777</td>\n",
       "      <td>-1</td>\n",
       "      <td>-1</td>\n",
       "      <td>-1</td>\n",
       "      <td>1</td>\n",
       "      <td>1469.3</td>\n",
       "      <td>1</td>\n",
       "      <td>8466694.0</td>\n",
       "      <td>11.98</td>\n",
       "      <td>0.008153</td>\n",
       "      <td>1286.2</td>\n",
       "      <td>4319318.0</td>\n",
       "      <td>593</td>\n",
       "      <td>45853.6</td>\n",
       "      <td>47322.9</td>\n",
       "      <td>46588.3</td>\n",
       "      <td>LINESTRING (-69.67822 46.41356, -69.67811 46.4...</td>\n",
       "    </tr>\n",
       "    <tr>\n",
       "      <th>3</th>\n",
       "      <td>1777</td>\n",
       "      <td>2369</td>\n",
       "      <td>0</td>\n",
       "      <td>593</td>\n",
       "      <td>-1</td>\n",
       "      <td>2</td>\n",
       "      <td>1050.9</td>\n",
       "      <td>2</td>\n",
       "      <td>19939082.0</td>\n",
       "      <td>0.91</td>\n",
       "      <td>0.000870</td>\n",
       "      <td>871.8</td>\n",
       "      <td>18034788.0</td>\n",
       "      <td>1777</td>\n",
       "      <td>44802.7</td>\n",
       "      <td>45853.6</td>\n",
       "      <td>45328.2</td>\n",
       "      <td>LINESTRING (-69.68589 46.40778, -69.68589 46.4...</td>\n",
       "    </tr>\n",
       "    <tr>\n",
       "      <th>4</th>\n",
       "      <td>2</td>\n",
       "      <td>4146</td>\n",
       "      <td>-1</td>\n",
       "      <td>-1</td>\n",
       "      <td>-1</td>\n",
       "      <td>1</td>\n",
       "      <td>3551.0</td>\n",
       "      <td>1</td>\n",
       "      <td>9120895.0</td>\n",
       "      <td>67.48</td>\n",
       "      <td>0.019002</td>\n",
       "      <td>2593.6</td>\n",
       "      <td>5267176.0</td>\n",
       "      <td>2</td>\n",
       "      <td>41041.1</td>\n",
       "      <td>44591.7</td>\n",
       "      <td>42816.4</td>\n",
       "      <td>LINESTRING (-69.687 46.37911, -69.687 46.379, ...</td>\n",
       "    </tr>\n",
       "  </tbody>\n",
       "</table>\n",
       "</div>"
      ],
      "text/plain": [
       "   LINKNO  DSLINKNO  USLINKNO1  USLINKNO2  DSNODEID  strmOrder  Length  \\\n",
       "0       0      1777         -1         -1        -1          1  3847.9   \n",
       "1       1      2369         -1         -1        -1          1  2251.3   \n",
       "2     593      1777         -1         -1        -1          1  1469.3   \n",
       "3    1777      2369          0        593        -1          2  1050.9   \n",
       "4       2      4146         -1         -1        -1          1  3551.0   \n",
       "\n",
       "   Magnitude  DSContArea  strmDrop     Slope  StraightL  USContArea  WSNO  \\\n",
       "0          1   9567845.0     42.07  0.010933     3233.7   5254867.5     0   \n",
       "1          1   8768556.0     34.66  0.015397     1749.2   4320561.0     1   \n",
       "2          1   8466694.0     11.98  0.008153     1286.2   4319318.0   593   \n",
       "3          2  19939082.0      0.91  0.000870      871.8  18034788.0  1777   \n",
       "4          1   9120895.0     67.48  0.019002     2593.6   5267176.0     2   \n",
       "\n",
       "   DOUTEND  DOUTSTART  DOUTMID  \\\n",
       "0  45853.6    49701.4  47777.5   \n",
       "1  44802.7    47054.1  45928.4   \n",
       "2  45853.6    47322.9  46588.3   \n",
       "3  44802.7    45853.6  45328.2   \n",
       "4  41041.1    44591.7  42816.4   \n",
       "\n",
       "                                            geometry  \n",
       "0  LINESTRING (-69.67822 46.41356, -69.67822 46.4...  \n",
       "1  LINESTRING (-69.68589 46.40778, -69.686 46.407...  \n",
       "2  LINESTRING (-69.67822 46.41356, -69.67811 46.4...  \n",
       "3  LINESTRING (-69.68589 46.40778, -69.68589 46.4...  \n",
       "4  LINESTRING (-69.687 46.37911, -69.687 46.379, ...  "
      ]
     },
     "execution_count": 13,
     "metadata": {},
     "output_type": "execute_result"
    }
   ],
   "source": [
    "#open the file as GeoDataFrame, using the fastest direct method from issue #1\n",
    "gdf = gpd.read_file(file, engine='pyogrio', layer=0, use_arrow=True)\n",
    "gdf.info()\n",
    "gdf.head()"
   ]
  },
  {
   "cell_type": "code",
   "execution_count": 14,
   "metadata": {},
   "outputs": [
    {
     "data": {
      "text/plain": [
       "<Geographic 2D CRS: EPSG:4326>\n",
       "Name: WGS 84\n",
       "Axis Info [ellipsoidal]:\n",
       "- Lat[north]: Geodetic latitude (degree)\n",
       "- Lon[east]: Geodetic longitude (degree)\n",
       "Area of Use:\n",
       "- name: World.\n",
       "- bounds: (-180.0, -90.0, 180.0, 90.0)\n",
       "Datum: World Geodetic System 1984 ensemble\n",
       "- Ellipsoid: WGS 84\n",
       "- Prime Meridian: Greenwich"
      ]
     },
     "execution_count": 14,
     "metadata": {},
     "output_type": "execute_result"
    }
   ],
   "source": [
    "gdf.crs"
   ]
  },
  {
   "cell_type": "markdown",
   "metadata": {},
   "source": [
    "## Preprocess GeoDataFrame"
   ]
  },
  {
   "cell_type": "code",
   "execution_count": 15,
   "metadata": {},
   "outputs": [],
   "source": [
    "# Create an instance of the preprocessor class from our package\n",
    "preprocessor = TDXPreprocessor()"
   ]
  },
  {
   "cell_type": "code",
   "execution_count": 16,
   "metadata": {},
   "outputs": [],
   "source": [
    "test0_gdf = gdf.copy()"
   ]
  },
  {
   "cell_type": "code",
   "execution_count": 17,
   "metadata": {},
   "outputs": [
    {
     "name": "stdout",
     "output_type": "stream",
     "text": [
      "5.72 ms ± 3.73 ms per loop (mean ± std. dev. of 7 runs, 1 loop each)\n"
     ]
    }
   ],
   "source": [
    "%%timeit\n",
    "# apply preprocessing to make linkno globally unique\n",
    "preprocessor.tdx_to_global_linkno(test0_gdf, tdx_basin_id)"
   ]
  },
  {
   "cell_type": "code",
   "execution_count": 18,
   "metadata": {},
   "outputs": [
    {
     "name": "stdout",
     "output_type": "stream",
     "text": [
      "<class 'geopandas.geodataframe.GeoDataFrame'>\n",
      "RangeIndex: 140097 entries, 0 to 140096\n",
      "Data columns (total 18 columns):\n",
      " #   Column      Non-Null Count   Dtype   \n",
      "---  ------      --------------   -----   \n",
      " 0   LINKNO      140097 non-null  int32   \n",
      " 1   DSLINKNO    140097 non-null  int32   \n",
      " 2   USLINKNO1   140097 non-null  int32   \n",
      " 3   USLINKNO2   140097 non-null  int32   \n",
      " 4   DSNODEID    140097 non-null  int64   \n",
      " 5   strmOrder   140097 non-null  int32   \n",
      " 6   Length      140097 non-null  float64 \n",
      " 7   Magnitude   140097 non-null  int32   \n",
      " 8   DSContArea  140097 non-null  float64 \n",
      " 9   strmDrop    140097 non-null  float64 \n",
      " 10  Slope       140097 non-null  float64 \n",
      " 11  StraightL   140097 non-null  float64 \n",
      " 12  USContArea  140097 non-null  float64 \n",
      " 13  WSNO        140097 non-null  int32   \n",
      " 14  DOUTEND     140097 non-null  float64 \n",
      " 15  DOUTSTART   140097 non-null  float64 \n",
      " 16  DOUTMID     140097 non-null  float64 \n",
      " 17  geometry    140097 non-null  geometry\n",
      "dtypes: float64(9), geometry(1), int32(7), int64(1)\n",
      "memory usage: 15.5 MB\n"
     ]
    },
    {
     "data": {
      "text/html": [
       "<div>\n",
       "<style scoped>\n",
       "    .dataframe tbody tr th:only-of-type {\n",
       "        vertical-align: middle;\n",
       "    }\n",
       "\n",
       "    .dataframe tbody tr th {\n",
       "        vertical-align: top;\n",
       "    }\n",
       "\n",
       "    .dataframe thead th {\n",
       "        text-align: right;\n",
       "    }\n",
       "</style>\n",
       "<table border=\"1\" class=\"dataframe\">\n",
       "  <thead>\n",
       "    <tr style=\"text-align: right;\">\n",
       "      <th></th>\n",
       "      <th>LINKNO</th>\n",
       "      <th>DSLINKNO</th>\n",
       "      <th>USLINKNO1</th>\n",
       "      <th>USLINKNO2</th>\n",
       "      <th>DSNODEID</th>\n",
       "      <th>strmOrder</th>\n",
       "      <th>Length</th>\n",
       "      <th>Magnitude</th>\n",
       "      <th>DSContArea</th>\n",
       "      <th>strmDrop</th>\n",
       "      <th>Slope</th>\n",
       "      <th>StraightL</th>\n",
       "      <th>USContArea</th>\n",
       "      <th>WSNO</th>\n",
       "      <th>DOUTEND</th>\n",
       "      <th>DOUTSTART</th>\n",
       "      <th>DOUTMID</th>\n",
       "      <th>geometry</th>\n",
       "    </tr>\n",
       "  </thead>\n",
       "  <tbody>\n",
       "    <tr>\n",
       "      <th>0</th>\n",
       "      <td>750000000</td>\n",
       "      <td>750001777</td>\n",
       "      <td>-1</td>\n",
       "      <td>-1</td>\n",
       "      <td>-1</td>\n",
       "      <td>1</td>\n",
       "      <td>3847.9</td>\n",
       "      <td>1</td>\n",
       "      <td>9567845.0</td>\n",
       "      <td>42.07</td>\n",
       "      <td>0.010933</td>\n",
       "      <td>3233.7</td>\n",
       "      <td>5254867.5</td>\n",
       "      <td>0</td>\n",
       "      <td>45853.6</td>\n",
       "      <td>49701.4</td>\n",
       "      <td>47777.5</td>\n",
       "      <td>LINESTRING (-69.67822 46.41356, -69.67822 46.4...</td>\n",
       "    </tr>\n",
       "    <tr>\n",
       "      <th>1</th>\n",
       "      <td>750000001</td>\n",
       "      <td>750002369</td>\n",
       "      <td>-1</td>\n",
       "      <td>-1</td>\n",
       "      <td>-1</td>\n",
       "      <td>1</td>\n",
       "      <td>2251.3</td>\n",
       "      <td>1</td>\n",
       "      <td>8768556.0</td>\n",
       "      <td>34.66</td>\n",
       "      <td>0.015397</td>\n",
       "      <td>1749.2</td>\n",
       "      <td>4320561.0</td>\n",
       "      <td>1</td>\n",
       "      <td>44802.7</td>\n",
       "      <td>47054.1</td>\n",
       "      <td>45928.4</td>\n",
       "      <td>LINESTRING (-69.68589 46.40778, -69.686 46.407...</td>\n",
       "    </tr>\n",
       "    <tr>\n",
       "      <th>2</th>\n",
       "      <td>750000593</td>\n",
       "      <td>750001777</td>\n",
       "      <td>-1</td>\n",
       "      <td>-1</td>\n",
       "      <td>-1</td>\n",
       "      <td>1</td>\n",
       "      <td>1469.3</td>\n",
       "      <td>1</td>\n",
       "      <td>8466694.0</td>\n",
       "      <td>11.98</td>\n",
       "      <td>0.008153</td>\n",
       "      <td>1286.2</td>\n",
       "      <td>4319318.0</td>\n",
       "      <td>593</td>\n",
       "      <td>45853.6</td>\n",
       "      <td>47322.9</td>\n",
       "      <td>46588.3</td>\n",
       "      <td>LINESTRING (-69.67822 46.41356, -69.67811 46.4...</td>\n",
       "    </tr>\n",
       "    <tr>\n",
       "      <th>3</th>\n",
       "      <td>750001777</td>\n",
       "      <td>750002369</td>\n",
       "      <td>750000000</td>\n",
       "      <td>750000593</td>\n",
       "      <td>-1</td>\n",
       "      <td>2</td>\n",
       "      <td>1050.9</td>\n",
       "      <td>2</td>\n",
       "      <td>19939082.0</td>\n",
       "      <td>0.91</td>\n",
       "      <td>0.000870</td>\n",
       "      <td>871.8</td>\n",
       "      <td>18034788.0</td>\n",
       "      <td>1777</td>\n",
       "      <td>44802.7</td>\n",
       "      <td>45853.6</td>\n",
       "      <td>45328.2</td>\n",
       "      <td>LINESTRING (-69.68589 46.40778, -69.68589 46.4...</td>\n",
       "    </tr>\n",
       "    <tr>\n",
       "      <th>4</th>\n",
       "      <td>750000002</td>\n",
       "      <td>750004146</td>\n",
       "      <td>-1</td>\n",
       "      <td>-1</td>\n",
       "      <td>-1</td>\n",
       "      <td>1</td>\n",
       "      <td>3551.0</td>\n",
       "      <td>1</td>\n",
       "      <td>9120895.0</td>\n",
       "      <td>67.48</td>\n",
       "      <td>0.019002</td>\n",
       "      <td>2593.6</td>\n",
       "      <td>5267176.0</td>\n",
       "      <td>2</td>\n",
       "      <td>41041.1</td>\n",
       "      <td>44591.7</td>\n",
       "      <td>42816.4</td>\n",
       "      <td>LINESTRING (-69.687 46.37911, -69.687 46.379, ...</td>\n",
       "    </tr>\n",
       "  </tbody>\n",
       "</table>\n",
       "</div>"
      ],
      "text/plain": [
       "      LINKNO   DSLINKNO  USLINKNO1  USLINKNO2  DSNODEID  strmOrder  Length  \\\n",
       "0  750000000  750001777         -1         -1        -1          1  3847.9   \n",
       "1  750000001  750002369         -1         -1        -1          1  2251.3   \n",
       "2  750000593  750001777         -1         -1        -1          1  1469.3   \n",
       "3  750001777  750002369  750000000  750000593        -1          2  1050.9   \n",
       "4  750000002  750004146         -1         -1        -1          1  3551.0   \n",
       "\n",
       "   Magnitude  DSContArea  strmDrop     Slope  StraightL  USContArea  WSNO  \\\n",
       "0          1   9567845.0     42.07  0.010933     3233.7   5254867.5     0   \n",
       "1          1   8768556.0     34.66  0.015397     1749.2   4320561.0     1   \n",
       "2          1   8466694.0     11.98  0.008153     1286.2   4319318.0   593   \n",
       "3          2  19939082.0      0.91  0.000870      871.8  18034788.0  1777   \n",
       "4          1   9120895.0     67.48  0.019002     2593.6   5267176.0     2   \n",
       "\n",
       "   DOUTEND  DOUTSTART  DOUTMID  \\\n",
       "0  45853.6    49701.4  47777.5   \n",
       "1  44802.7    47054.1  45928.4   \n",
       "2  45853.6    47322.9  46588.3   \n",
       "3  44802.7    45853.6  45328.2   \n",
       "4  41041.1    44591.7  42816.4   \n",
       "\n",
       "                                            geometry  \n",
       "0  LINESTRING (-69.67822 46.41356, -69.67822 46.4...  \n",
       "1  LINESTRING (-69.68589 46.40778, -69.686 46.407...  \n",
       "2  LINESTRING (-69.67822 46.41356, -69.67811 46.4...  \n",
       "3  LINESTRING (-69.68589 46.40778, -69.68589 46.4...  \n",
       "4  LINESTRING (-69.687 46.37911, -69.687 46.379, ...  "
      ]
     },
     "execution_count": 18,
     "metadata": {},
     "output_type": "execute_result"
    }
   ],
   "source": [
    "# apply preprocessing to make linkno globally unique\n",
    "processed_gdf = preprocessor.tdx_to_global_linkno(gdf, tdx_basin_id)\n",
    "processed_gdf.info()\n",
    "processed_gdf.head()"
   ]
  },
  {
   "cell_type": "markdown",
   "metadata": {},
   "source": [
    "## Drop Useless Columns"
   ]
  },
  {
   "cell_type": "code",
   "execution_count": 19,
   "metadata": {},
   "outputs": [],
   "source": [
    "preprocessor.tdx_drop_useless_columns(processed_gdf)"
   ]
  },
  {
   "cell_type": "code",
   "execution_count": 20,
   "metadata": {},
   "outputs": [
    {
     "name": "stdout",
     "output_type": "stream",
     "text": [
      "<class 'geopandas.geodataframe.GeoDataFrame'>\n",
      "RangeIndex: 140097 entries, 0 to 140096\n",
      "Data columns (total 16 columns):\n",
      " #   Column      Non-Null Count   Dtype   \n",
      "---  ------      --------------   -----   \n",
      " 0   LINKNO      140097 non-null  int32   \n",
      " 1   DSLINKNO    140097 non-null  int32   \n",
      " 2   USLINKNO1   140097 non-null  int32   \n",
      " 3   USLINKNO2   140097 non-null  int32   \n",
      " 4   strmOrder   140097 non-null  int32   \n",
      " 5   Length      140097 non-null  float64 \n",
      " 6   Magnitude   140097 non-null  int32   \n",
      " 7   DSContArea  140097 non-null  float64 \n",
      " 8   strmDrop    140097 non-null  float64 \n",
      " 9   Slope       140097 non-null  float64 \n",
      " 10  StraightL   140097 non-null  float64 \n",
      " 11  USContArea  140097 non-null  float64 \n",
      " 12  DOUTEND     140097 non-null  float64 \n",
      " 13  DOUTSTART   140097 non-null  float64 \n",
      " 14  DOUTMID     140097 non-null  float64 \n",
      " 15  geometry    140097 non-null  geometry\n",
      "dtypes: float64(9), geometry(1), int32(6)\n",
      "memory usage: 13.9 MB\n"
     ]
    }
   ],
   "source": [
    "processed_gdf.info()"
   ]
  },
  {
   "cell_type": "code",
   "execution_count": 21,
   "metadata": {},
   "outputs": [
    {
     "data": {
      "text/plain": [
       "['WSNO', 'DSNODEID']"
      ]
     },
     "execution_count": 21,
     "metadata": {},
     "output_type": "execute_result"
    }
   ],
   "source": [
    "# Drop columns with no value. See `sandbox/explore_data_sources.ipynb`\n",
    "useless_columns = [\n",
    "    'WSNO', # identical values to 'LINKNO'\n",
    "    'DSNODEID', # all -1\n",
    "]\n",
    "columns_to_drop = []\n",
    "for column in useless_columns:\n",
    "    if any(test0_gdf.columns.isin([column])):\n",
    "        columns_to_drop.append(column)\n",
    "\n",
    "columns_to_drop"
   ]
  },
  {
   "cell_type": "code",
   "execution_count": 22,
   "metadata": {},
   "outputs": [],
   "source": [
    "# Produces error if already dropped\n",
    "# processed_gdf.drop(columns=columns_to_drop, inplace=True)"
   ]
  },
  {
   "cell_type": "code",
   "execution_count": 23,
   "metadata": {},
   "outputs": [],
   "source": [
    "# Test function to avoid missing columns error\n",
    "preprocessor.tdx_drop_useless_columns(processed_gdf)"
   ]
  },
  {
   "cell_type": "markdown",
   "metadata": {},
   "source": [
    "## Compute Modified Nested Set Index"
   ]
  },
  {
   "cell_type": "code",
   "execution_count": 24,
   "metadata": {},
   "outputs": [],
   "source": [
    "test_gdf = processed_gdf.copy(deep=True)"
   ]
  },
  {
   "cell_type": "code",
   "execution_count": 25,
   "metadata": {},
   "outputs": [],
   "source": [
    "# %%timeit\n",
    "# compute the modified nested set index is quite fast!! \n",
    "# modified_nest_set_index(test_gdf)\n",
    "# 6.17 s ± 73.9 ms"
   ]
  },
  {
   "cell_type": "code",
   "execution_count": 26,
   "metadata": {},
   "outputs": [
    {
     "name": "stdout",
     "output_type": "stream",
     "text": [
      "<class 'geopandas.geodataframe.GeoDataFrame'>\n",
      "RangeIndex: 140097 entries, 0 to 140096\n",
      "Data columns (total 19 columns):\n",
      " #   Column         Non-Null Count   Dtype   \n",
      "---  ------         --------------   -----   \n",
      " 0   LINKNO         140097 non-null  int32   \n",
      " 1   DSLINKNO       140097 non-null  int32   \n",
      " 2   USLINKNO1      140097 non-null  int32   \n",
      " 3   USLINKNO2      140097 non-null  int32   \n",
      " 4   ROOT_ID        140097 non-null  int32   \n",
      " 5   DISCOVER_TIME  140097 non-null  int32   \n",
      " 6   FINISH_TIME    140097 non-null  int32   \n",
      " 7   strmOrder      140097 non-null  int32   \n",
      " 8   Length         140097 non-null  float64 \n",
      " 9   Magnitude      140097 non-null  int32   \n",
      " 10  DSContArea     140097 non-null  float64 \n",
      " 11  strmDrop       140097 non-null  float64 \n",
      " 12  Slope          140097 non-null  float64 \n",
      " 13  StraightL      140097 non-null  float64 \n",
      " 14  USContArea     140097 non-null  float64 \n",
      " 15  DOUTEND        140097 non-null  float64 \n",
      " 16  DOUTSTART      140097 non-null  float64 \n",
      " 17  DOUTMID        140097 non-null  float64 \n",
      " 18  geometry       140097 non-null  geometry\n",
      "dtypes: float64(9), geometry(1), int32(9)\n",
      "memory usage: 15.5 MB\n"
     ]
    }
   ],
   "source": [
    "#compute the modified nested set index\n",
    "mnsi_gdf = modified_nest_set_index(processed_gdf)\n",
    "mnsi_gdf.info()"
   ]
  },
  {
   "cell_type": "code",
   "execution_count": 27,
   "metadata": {},
   "outputs": [
    {
     "data": {
      "text/plain": [
       "<Geographic 2D CRS: EPSG:4326>\n",
       "Name: WGS 84\n",
       "Axis Info [ellipsoidal]:\n",
       "- Lat[north]: Geodetic latitude (degree)\n",
       "- Lon[east]: Geodetic longitude (degree)\n",
       "Area of Use:\n",
       "- name: World.\n",
       "- bounds: (-180.0, -90.0, 180.0, 90.0)\n",
       "Datum: World Geodetic System 1984 ensemble\n",
       "- Ellipsoid: WGS 84\n",
       "- Prime Meridian: Greenwich"
      ]
     },
     "execution_count": 27,
     "metadata": {},
     "output_type": "execute_result"
    }
   ],
   "source": [
    "mnsi_gdf.crs"
   ]
  },
  {
   "cell_type": "code",
   "execution_count": 28,
   "metadata": {},
   "outputs": [
    {
     "data": {
      "text/plain": [
       "RangeIndex(start=0, stop=140097, step=1)"
      ]
     },
     "execution_count": 28,
     "metadata": {},
     "output_type": "execute_result"
    }
   ],
   "source": [
    "mnsi_gdf.index"
   ]
  },
  {
   "cell_type": "code",
   "execution_count": 51,
   "metadata": {},
   "outputs": [],
   "source": [
    "# Set 'LINKNO' as index, to facilitate selection\n",
    "# and interoperability with basins\n",
    "mnsi_gdf.set_index('LINKNO', inplace=True)"
   ]
  },
  {
   "cell_type": "code",
   "execution_count": 53,
   "metadata": {},
   "outputs": [
    {
     "data": {
      "text/html": [
       "<div>\n",
       "<style scoped>\n",
       "    .dataframe tbody tr th:only-of-type {\n",
       "        vertical-align: middle;\n",
       "    }\n",
       "\n",
       "    .dataframe tbody tr th {\n",
       "        vertical-align: top;\n",
       "    }\n",
       "\n",
       "    .dataframe thead th {\n",
       "        text-align: right;\n",
       "    }\n",
       "</style>\n",
       "<table border=\"1\" class=\"dataframe\">\n",
       "  <thead>\n",
       "    <tr style=\"text-align: right;\">\n",
       "      <th></th>\n",
       "      <th>DSLINKNO</th>\n",
       "      <th>USLINKNO1</th>\n",
       "      <th>USLINKNO2</th>\n",
       "      <th>ROOT_ID</th>\n",
       "      <th>DISCOVER_TIME</th>\n",
       "      <th>FINISH_TIME</th>\n",
       "    </tr>\n",
       "    <tr>\n",
       "      <th>LINKNO</th>\n",
       "      <th></th>\n",
       "      <th></th>\n",
       "      <th></th>\n",
       "      <th></th>\n",
       "      <th></th>\n",
       "      <th></th>\n",
       "    </tr>\n",
       "  </thead>\n",
       "  <tbody>\n",
       "    <tr>\n",
       "      <th>750000000</th>\n",
       "      <td>750001777</td>\n",
       "      <td>-1</td>\n",
       "      <td>-1</td>\n",
       "      <td>750021317</td>\n",
       "      <td>52</td>\n",
       "      <td>53</td>\n",
       "    </tr>\n",
       "    <tr>\n",
       "      <th>750000001</th>\n",
       "      <td>750002369</td>\n",
       "      <td>-1</td>\n",
       "      <td>-1</td>\n",
       "      <td>750021317</td>\n",
       "      <td>49</td>\n",
       "      <td>50</td>\n",
       "    </tr>\n",
       "    <tr>\n",
       "      <th>750000593</th>\n",
       "      <td>750001777</td>\n",
       "      <td>-1</td>\n",
       "      <td>-1</td>\n",
       "      <td>750021317</td>\n",
       "      <td>51</td>\n",
       "      <td>52</td>\n",
       "    </tr>\n",
       "    <tr>\n",
       "      <th>750001777</th>\n",
       "      <td>750002369</td>\n",
       "      <td>750000000</td>\n",
       "      <td>750000593</td>\n",
       "      <td>750021317</td>\n",
       "      <td>50</td>\n",
       "      <td>53</td>\n",
       "    </tr>\n",
       "    <tr>\n",
       "      <th>750000002</th>\n",
       "      <td>750004146</td>\n",
       "      <td>-1</td>\n",
       "      <td>-1</td>\n",
       "      <td>750021317</td>\n",
       "      <td>47</td>\n",
       "      <td>48</td>\n",
       "    </tr>\n",
       "    <tr>\n",
       "      <th>...</th>\n",
       "      <td>...</td>\n",
       "      <td>...</td>\n",
       "      <td>...</td>\n",
       "      <td>...</td>\n",
       "      <td>...</td>\n",
       "      <td>...</td>\n",
       "    </tr>\n",
       "    <tr>\n",
       "      <th>750000587</th>\n",
       "      <td>-1</td>\n",
       "      <td>-1</td>\n",
       "      <td>-1</td>\n",
       "      <td>750000587</td>\n",
       "      <td>1</td>\n",
       "      <td>2</td>\n",
       "    </tr>\n",
       "    <tr>\n",
       "      <th>750001180</th>\n",
       "      <td>-1</td>\n",
       "      <td>-1</td>\n",
       "      <td>-1</td>\n",
       "      <td>750001180</td>\n",
       "      <td>1</td>\n",
       "      <td>2</td>\n",
       "    </tr>\n",
       "    <tr>\n",
       "      <th>750001772</th>\n",
       "      <td>-1</td>\n",
       "      <td>-1</td>\n",
       "      <td>-1</td>\n",
       "      <td>750001772</td>\n",
       "      <td>1</td>\n",
       "      <td>2</td>\n",
       "    </tr>\n",
       "    <tr>\n",
       "      <th>750000588</th>\n",
       "      <td>-1</td>\n",
       "      <td>-1</td>\n",
       "      <td>-1</td>\n",
       "      <td>750000588</td>\n",
       "      <td>1</td>\n",
       "      <td>2</td>\n",
       "    </tr>\n",
       "    <tr>\n",
       "      <th>750000589</th>\n",
       "      <td>-1</td>\n",
       "      <td>-1</td>\n",
       "      <td>-1</td>\n",
       "      <td>750000589</td>\n",
       "      <td>1</td>\n",
       "      <td>2</td>\n",
       "    </tr>\n",
       "  </tbody>\n",
       "</table>\n",
       "<p>140097 rows × 6 columns</p>\n",
       "</div>"
      ],
      "text/plain": [
       "            DSLINKNO  USLINKNO1  USLINKNO2    ROOT_ID  DISCOVER_TIME  \\\n",
       "LINKNO                                                                 \n",
       "750000000  750001777         -1         -1  750021317             52   \n",
       "750000001  750002369         -1         -1  750021317             49   \n",
       "750000593  750001777         -1         -1  750021317             51   \n",
       "750001777  750002369  750000000  750000593  750021317             50   \n",
       "750000002  750004146         -1         -1  750021317             47   \n",
       "...              ...        ...        ...        ...            ...   \n",
       "750000587         -1         -1         -1  750000587              1   \n",
       "750001180         -1         -1         -1  750001180              1   \n",
       "750001772         -1         -1         -1  750001772              1   \n",
       "750000588         -1         -1         -1  750000588              1   \n",
       "750000589         -1         -1         -1  750000589              1   \n",
       "\n",
       "           FINISH_TIME  \n",
       "LINKNO                  \n",
       "750000000           53  \n",
       "750000001           50  \n",
       "750000593           52  \n",
       "750001777           53  \n",
       "750000002           48  \n",
       "...                ...  \n",
       "750000587            2  \n",
       "750001180            2  \n",
       "750001772            2  \n",
       "750000588            2  \n",
       "750000589            2  \n",
       "\n",
       "[140097 rows x 6 columns]"
      ]
     },
     "execution_count": 53,
     "metadata": {},
     "output_type": "execute_result"
    }
   ],
   "source": [
    "mnsi_gdf[['DSLINKNO', 'USLINKNO1', 'USLINKNO2', \n",
    "          'ROOT_ID', 'DISCOVER_TIME', 'FINISH_TIME' ]]"
   ]
  },
  {
   "cell_type": "code",
   "execution_count": 54,
   "metadata": {},
   "outputs": [
    {
     "data": {
      "text/plain": [
       "ROOT_ID\n",
       "750005168        1\n",
       "750000464        1\n",
       "750075251        1\n",
       "750000462        1\n",
       "750070517        1\n",
       "             ...  \n",
       "750170058     4979\n",
       "750301090     5929\n",
       "750093395     6453\n",
       "750127466     9771\n",
       "750236632    14095\n",
       "Name: count, Length: 1635, dtype: int64"
      ]
     },
     "execution_count": 54,
     "metadata": {},
     "output_type": "execute_result"
    }
   ],
   "source": [
    "mnsi_gdf.ROOT_ID.value_counts().sort_values()"
   ]
  },
  {
   "cell_type": "markdown",
   "metadata": {},
   "source": [
    "## Write GeoParquet File"
   ]
  },
  {
   "cell_type": "code",
   "execution_count": 58,
   "metadata": {},
   "outputs": [
    {
     "data": {
      "text/plain": [
       "PosixPath('/Users/aaufdenkampe/Documents/Python/global-hydrography/data_temp/nga/TDX_streamnet_7020038340_01_mnsi_test.parquet')"
      ]
     },
     "execution_count": 58,
     "metadata": {},
     "output_type": "execute_result"
    }
   ],
   "source": [
    "tdx_parquet_path = tdx_dir / f\"{info['layer_name']}_mnsi_test.parquet\"\n",
    "tdx_parquet_path\n"
   ]
  },
  {
   "cell_type": "code",
   "execution_count": 56,
   "metadata": {},
   "outputs": [
    {
     "data": {
      "text/plain": [
       "{'DBF_DATE_LAST_UPDATE': '2021-12-08'}"
      ]
     },
     "execution_count": 56,
     "metadata": {},
     "output_type": "execute_result"
    }
   ],
   "source": [
    "# Test to see if adding metadata to gdf gets saved to parquet\n",
    "mnsi_gdf.source_info = info['layer_metadata']\n",
    "mnsi_gdf.source_info"
   ]
  },
  {
   "cell_type": "code",
   "execution_count": 33,
   "metadata": {},
   "outputs": [],
   "source": [
    "#write back to a file\n",
    "mnsi_gdf.to_parquet(tdx_parquet_path, compression='zstd')"
   ]
  },
  {
   "cell_type": "code",
   "execution_count": 34,
   "metadata": {},
   "outputs": [
    {
     "data": {
      "text/plain": [
       "{'layer_name': 'TDX_streamnet_7020038340_01_mnsi',\n",
       " 'crs': 'EPSG:4326',\n",
       " 'encoding': 'UTF-8',\n",
       " 'fields': array(['LINKNO', 'DSLINKNO', 'USLINKNO1', 'USLINKNO2', 'ROOT_ID',\n",
       "        'DISCOVER_TIME', 'FINISH_TIME', 'strmOrder', 'Length', 'Magnitude',\n",
       "        'DSContArea', 'strmDrop', 'Slope', 'StraightL', 'USContArea',\n",
       "        'DOUTEND', 'DOUTSTART', 'DOUTMID'], dtype=object),\n",
       " 'dtypes': array(['int32', 'int32', 'int32', 'int32', 'int32', 'int32', 'int32',\n",
       "        'int32', 'float64', 'int32', 'float64', 'float64', 'float64',\n",
       "        'float64', 'float64', 'float64', 'float64', 'float64'],\n",
       "       dtype=object),\n",
       " 'fid_column': '',\n",
       " 'geometry_name': 'geometry',\n",
       " 'geometry_type': 'LineString',\n",
       " 'features': 140097,\n",
       " 'total_bounds': (-89.82122222222222,\n",
       "  24.558999999998896,\n",
       "  -66.14133333333214,\n",
       "  46.44544444444445),\n",
       " 'driver': 'Parquet',\n",
       " 'capabilities': {'random_read': False,\n",
       "  'fast_set_next_by_index': True,\n",
       "  'fast_spatial_filter': False,\n",
       "  'fast_feature_count': True,\n",
       "  'fast_total_bounds': True},\n",
       " 'layer_metadata': None,\n",
       " 'dataset_metadata': None}"
      ]
     },
     "execution_count": 34,
     "metadata": {},
     "output_type": "execute_result"
    }
   ],
   "source": [
    "pyogrio.read_info(tdx_parquet_path)"
   ]
  },
  {
   "cell_type": "markdown",
   "metadata": {},
   "source": [
    "# Alternate: Create Basins with MNSI\n",
    "\n",
    "To only read the basin's file for delinating the upstream watershed boundary.\n",
    "\n",
    "Using new functions in source directory to streamline production."
   ]
  },
  {
   "cell_type": "code",
   "execution_count": 35,
   "metadata": {},
   "outputs": [
    {
     "data": {
      "text/plain": [
       "<module 'global_hydrography.process' from '/Users/aaufdenkampe/Documents/Python/global-hydrography/src/global_hydrography/process.py'>"
      ]
     },
     "execution_count": 35,
     "metadata": {},
     "output_type": "execute_result"
    }
   ],
   "source": [
    "# Reload module after editing\n",
    "reload(gh.process)"
   ]
  },
  {
   "cell_type": "markdown",
   "metadata": {},
   "source": [
    "## `select_tdx_files()` function"
   ]
  },
  {
   "cell_type": "code",
   "execution_count": 48,
   "metadata": {},
   "outputs": [],
   "source": [
    "tdx_hydro_region = 7020038340"
   ]
  },
  {
   "cell_type": "code",
   "execution_count": 38,
   "metadata": {},
   "outputs": [
    {
     "data": {
      "text/plain": [
       "'TDX_streamnet_7020038340_01.gpkg'"
      ]
     },
     "execution_count": 38,
     "metadata": {},
     "output_type": "execute_result"
    }
   ],
   "source": [
    "# Test new select_tdx_files()\n",
    "streamnet_file, basins_file = gh.process.select_tdx_files(\n",
    "    tdx_dir, tdxhydroregion,'.gpkg')\n",
    "\n",
    "streamnet_file.name"
   ]
  },
  {
   "cell_type": "code",
   "execution_count": 39,
   "metadata": {},
   "outputs": [
    {
     "data": {
      "text/plain": [
       "'TDX_streamreach_basins_7020038340_01.gpkg'"
      ]
     },
     "execution_count": 39,
     "metadata": {},
     "output_type": "execute_result"
    }
   ],
   "source": [
    "basins_file.name"
   ]
  },
  {
   "cell_type": "markdown",
   "metadata": {},
   "source": [
    "## Process basins file"
   ]
  },
  {
   "cell_type": "code",
   "execution_count": 47,
   "metadata": {},
   "outputs": [],
   "source": [
    "# open basins file as GeoDataFrame\n",
    "basins_gdf = gpd.read_file(basins_file, engine='pyogrio', layer=0, use_arrow=True)"
   ]
  },
  {
   "cell_type": "code",
   "execution_count": 49,
   "metadata": {},
   "outputs": [
    {
     "name": "stdout",
     "output_type": "stream",
     "text": [
      "<class 'geopandas.geodataframe.GeoDataFrame'>\n",
      "Index: 140053 entries, 750000001 to 750327711\n",
      "Data columns (total 1 columns):\n",
      " #   Column    Non-Null Count   Dtype   \n",
      "---  ------    --------------   -----   \n",
      " 0   geometry  140053 non-null  geometry\n",
      "dtypes: geometry(1)\n",
      "memory usage: 2.1 MB\n"
     ]
    }
   ],
   "source": [
    "# Rename 'streamID' to 'LINKNO' to facilitate interoperability \n",
    "# with streamnet files\n",
    "basins_gdf.rename(columns={'streamID':'LINKNO'}, inplace=True)\n",
    "\n",
    "# apply preprocessing to make linkno globally unique\n",
    "preprocessor.tdx_to_global_linkno(basins_gdf, tdx_hydro_region)\n",
    "\n",
    "# Set 'LINKNO' as index, to facilitate selection\n",
    "basins_gdf.set_index('LINKNO', inplace=True)\n",
    "\n",
    "basins_gdf.info()"
   ]
  },
  {
   "cell_type": "markdown",
   "metadata": {},
   "source": [
    "## Move MNSI fields from streamnet to basins"
   ]
  },
  {
   "cell_type": "code",
   "execution_count": 77,
   "metadata": {},
   "outputs": [],
   "source": [
    "stream_mnsi_gdf = mnsi_gdf.copy(deep=True)"
   ]
  },
  {
   "cell_type": "code",
   "execution_count": 78,
   "metadata": {},
   "outputs": [
    {
     "name": "stdout",
     "output_type": "stream",
     "text": [
      "<class 'geopandas.geodataframe.GeoDataFrame'>\n",
      "Index: 140097 entries, 750000000 to 750000589\n",
      "Data columns (total 3 columns):\n",
      " #   Column      Non-Null Count   Dtype   \n",
      "---  ------      --------------   -----   \n",
      " 0   geometry    140053 non-null  geometry\n",
      " 1   DSContArea  140097 non-null  float64 \n",
      " 2   USContArea  140097 non-null  float64 \n",
      "dtypes: float64(2), geometry(1)\n",
      "memory usage: 4.3 MB\n"
     ]
    }
   ],
   "source": [
    "columns_to_merge = ['DSContArea', 'USContArea']\n",
    "\n",
    "# Merge confirms that their LINKNO values match\n",
    "# Although there are not as many basins as there are stream reaches!\n",
    "basins_test_gdf = pd.merge(\n",
    "    basins_test_gdf, \n",
    "    stream_mnsi_gdf[columns_to_merge], \n",
    "    how='right', \n",
    "    on='LINKNO',\n",
    ")\n",
    "basins_test_gdf.info()"
   ]
  },
  {
   "cell_type": "code",
   "execution_count": 81,
   "metadata": {},
   "outputs": [
    {
     "name": "stdout",
     "output_type": "stream",
     "text": [
      "<class 'geopandas.geodataframe.GeoDataFrame'>\n",
      "Index: 44 entries, 750000000 to 750020103\n",
      "Data columns (total 18 columns):\n",
      " #   Column         Non-Null Count  Dtype   \n",
      "---  ------         --------------  -----   \n",
      " 0   DSLINKNO       44 non-null     int32   \n",
      " 1   USLINKNO1      44 non-null     int32   \n",
      " 2   USLINKNO2      44 non-null     int32   \n",
      " 3   ROOT_ID        44 non-null     int32   \n",
      " 4   DISCOVER_TIME  44 non-null     int32   \n",
      " 5   FINISH_TIME    44 non-null     int32   \n",
      " 6   strmOrder      44 non-null     int32   \n",
      " 7   Length         44 non-null     float64 \n",
      " 8   Magnitude      44 non-null     int32   \n",
      " 9   DSContArea     44 non-null     float64 \n",
      " 10  strmDrop       44 non-null     float64 \n",
      " 11  Slope          44 non-null     float64 \n",
      " 12  StraightL      44 non-null     float64 \n",
      " 13  USContArea     44 non-null     float64 \n",
      " 14  DOUTEND        44 non-null     float64 \n",
      " 15  DOUTSTART      44 non-null     float64 \n",
      " 16  DOUTMID        44 non-null     float64 \n",
      " 17  geometry       44 non-null     geometry\n",
      "dtypes: float64(9), geometry(1), int32(8)\n",
      "memory usage: 5.0 KB\n"
     ]
    },
    {
     "data": {
      "text/html": [
       "<div>\n",
       "<style scoped>\n",
       "    .dataframe tbody tr th:only-of-type {\n",
       "        vertical-align: middle;\n",
       "    }\n",
       "\n",
       "    .dataframe tbody tr th {\n",
       "        vertical-align: top;\n",
       "    }\n",
       "\n",
       "    .dataframe thead th {\n",
       "        text-align: right;\n",
       "    }\n",
       "</style>\n",
       "<table border=\"1\" class=\"dataframe\">\n",
       "  <thead>\n",
       "    <tr style=\"text-align: right;\">\n",
       "      <th></th>\n",
       "      <th>DSLINKNO</th>\n",
       "      <th>USLINKNO1</th>\n",
       "      <th>USLINKNO2</th>\n",
       "      <th>ROOT_ID</th>\n",
       "      <th>DISCOVER_TIME</th>\n",
       "      <th>FINISH_TIME</th>\n",
       "      <th>strmOrder</th>\n",
       "      <th>Length</th>\n",
       "      <th>Magnitude</th>\n",
       "      <th>DSContArea</th>\n",
       "      <th>strmDrop</th>\n",
       "      <th>Slope</th>\n",
       "      <th>StraightL</th>\n",
       "      <th>USContArea</th>\n",
       "      <th>DOUTEND</th>\n",
       "      <th>DOUTSTART</th>\n",
       "      <th>DOUTMID</th>\n",
       "      <th>geometry</th>\n",
       "    </tr>\n",
       "    <tr>\n",
       "      <th>LINKNO</th>\n",
       "      <th></th>\n",
       "      <th></th>\n",
       "      <th></th>\n",
       "      <th></th>\n",
       "      <th></th>\n",
       "      <th></th>\n",
       "      <th></th>\n",
       "      <th></th>\n",
       "      <th></th>\n",
       "      <th></th>\n",
       "      <th></th>\n",
       "      <th></th>\n",
       "      <th></th>\n",
       "      <th></th>\n",
       "      <th></th>\n",
       "      <th></th>\n",
       "      <th></th>\n",
       "      <th></th>\n",
       "    </tr>\n",
       "  </thead>\n",
       "  <tbody>\n",
       "    <tr>\n",
       "      <th>750000000</th>\n",
       "      <td>750001777</td>\n",
       "      <td>-1</td>\n",
       "      <td>-1</td>\n",
       "      <td>750021317</td>\n",
       "      <td>52</td>\n",
       "      <td>53</td>\n",
       "      <td>1</td>\n",
       "      <td>3847.9</td>\n",
       "      <td>1</td>\n",
       "      <td>9.567845e+06</td>\n",
       "      <td>42.07</td>\n",
       "      <td>0.010933</td>\n",
       "      <td>3233.7</td>\n",
       "      <td>5.254868e+06</td>\n",
       "      <td>45853.6</td>\n",
       "      <td>49701.4</td>\n",
       "      <td>47777.5</td>\n",
       "      <td>LINESTRING (-69.67822 46.41356, -69.67822 46.4...</td>\n",
       "    </tr>\n",
       "    <tr>\n",
       "      <th>750100709</th>\n",
       "      <td>750101301</td>\n",
       "      <td>750090644</td>\n",
       "      <td>750068149</td>\n",
       "      <td>750100710</td>\n",
       "      <td>5</td>\n",
       "      <td>16</td>\n",
       "      <td>3</td>\n",
       "      <td>0.0</td>\n",
       "      <td>6</td>\n",
       "      <td>9.573266e+07</td>\n",
       "      <td>0.00</td>\n",
       "      <td>0.000000</td>\n",
       "      <td>0.0</td>\n",
       "      <td>9.573266e+07</td>\n",
       "      <td>7889.2</td>\n",
       "      <td>7889.2</td>\n",
       "      <td>7889.2</td>\n",
       "      <td>LINESTRING (-69.74322 43.89322, -69.74322 43.8...</td>\n",
       "    </tr>\n",
       "    <tr>\n",
       "      <th>750155209</th>\n",
       "      <td>750155801</td>\n",
       "      <td>750154617</td>\n",
       "      <td>750113177</td>\n",
       "      <td>750170058</td>\n",
       "      <td>1767</td>\n",
       "      <td>4980</td>\n",
       "      <td>7</td>\n",
       "      <td>0.0</td>\n",
       "      <td>1607</td>\n",
       "      <td>2.410359e+10</td>\n",
       "      <td>0.00</td>\n",
       "      <td>0.000000</td>\n",
       "      <td>0.0</td>\n",
       "      <td>2.410359e+10</td>\n",
       "      <td>234019.3</td>\n",
       "      <td>234019.3</td>\n",
       "      <td>234019.3</td>\n",
       "      <td>LINESTRING (-73.75744 42.54056, -73.75744 42.5...</td>\n",
       "    </tr>\n",
       "    <tr>\n",
       "      <th>750127463</th>\n",
       "      <td>750128055</td>\n",
       "      <td>750141672</td>\n",
       "      <td>750010841</td>\n",
       "      <td>750129283</td>\n",
       "      <td>3471</td>\n",
       "      <td>4886</td>\n",
       "      <td>6</td>\n",
       "      <td>0.0</td>\n",
       "      <td>708</td>\n",
       "      <td>1.099047e+10</td>\n",
       "      <td>0.00</td>\n",
       "      <td>0.000000</td>\n",
       "      <td>0.0</td>\n",
       "      <td>1.099047e+10</td>\n",
       "      <td>423795.8</td>\n",
       "      <td>423795.8</td>\n",
       "      <td>423795.8</td>\n",
       "      <td>LINESTRING (-78.23989 39.65089, -78.23989 39.6...</td>\n",
       "    </tr>\n",
       "    <tr>\n",
       "      <th>750099079</th>\n",
       "      <td>750099671</td>\n",
       "      <td>750055269</td>\n",
       "      <td>750055861</td>\n",
       "      <td>750102638</td>\n",
       "      <td>89</td>\n",
       "      <td>96</td>\n",
       "      <td>2</td>\n",
       "      <td>0.0</td>\n",
       "      <td>4</td>\n",
       "      <td>8.714499e+07</td>\n",
       "      <td>0.00</td>\n",
       "      <td>0.000000</td>\n",
       "      <td>0.0</td>\n",
       "      <td>8.714499e+07</td>\n",
       "      <td>68889.3</td>\n",
       "      <td>68889.3</td>\n",
       "      <td>68889.3</td>\n",
       "      <td>LINESTRING (-76.08133 38.47233, -76.08133 38.4...</td>\n",
       "    </tr>\n",
       "  </tbody>\n",
       "</table>\n",
       "</div>"
      ],
      "text/plain": [
       "            DSLINKNO  USLINKNO1  USLINKNO2    ROOT_ID  DISCOVER_TIME  \\\n",
       "LINKNO                                                                 \n",
       "750000000  750001777         -1         -1  750021317             52   \n",
       "750100709  750101301  750090644  750068149  750100710              5   \n",
       "750155209  750155801  750154617  750113177  750170058           1767   \n",
       "750127463  750128055  750141672  750010841  750129283           3471   \n",
       "750099079  750099671  750055269  750055861  750102638             89   \n",
       "\n",
       "           FINISH_TIME  strmOrder  Length  Magnitude    DSContArea  strmDrop  \\\n",
       "LINKNO                                                                         \n",
       "750000000           53          1  3847.9          1  9.567845e+06     42.07   \n",
       "750100709           16          3     0.0          6  9.573266e+07      0.00   \n",
       "750155209         4980          7     0.0       1607  2.410359e+10      0.00   \n",
       "750127463         4886          6     0.0        708  1.099047e+10      0.00   \n",
       "750099079           96          2     0.0          4  8.714499e+07      0.00   \n",
       "\n",
       "              Slope  StraightL    USContArea   DOUTEND  DOUTSTART   DOUTMID  \\\n",
       "LINKNO                                                                        \n",
       "750000000  0.010933     3233.7  5.254868e+06   45853.6    49701.4   47777.5   \n",
       "750100709  0.000000        0.0  9.573266e+07    7889.2     7889.2    7889.2   \n",
       "750155209  0.000000        0.0  2.410359e+10  234019.3   234019.3  234019.3   \n",
       "750127463  0.000000        0.0  1.099047e+10  423795.8   423795.8  423795.8   \n",
       "750099079  0.000000        0.0  8.714499e+07   68889.3    68889.3   68889.3   \n",
       "\n",
       "                                                    geometry  \n",
       "LINKNO                                                        \n",
       "750000000  LINESTRING (-69.67822 46.41356, -69.67822 46.4...  \n",
       "750100709  LINESTRING (-69.74322 43.89322, -69.74322 43.8...  \n",
       "750155209  LINESTRING (-73.75744 42.54056, -73.75744 42.5...  \n",
       "750127463  LINESTRING (-78.23989 39.65089, -78.23989 39.6...  \n",
       "750099079  LINESTRING (-76.08133 38.47233, -76.08133 38.4...  "
      ]
     },
     "execution_count": 81,
     "metadata": {},
     "output_type": "execute_result"
    }
   ],
   "source": [
    "# Explore stream links with no basin geometry.\n",
    "streams_no_basins_gdf = stream_mnsi_gdf[basins_test_gdf.geometry==None]\n",
    "streams_no_basins_gdf.info()\n",
    "streams_no_basins_gdf.head()"
   ]
  },
  {
   "cell_type": "code",
   "execution_count": 84,
   "metadata": {},
   "outputs": [
    {
     "data": {
      "text/plain": [
       "Length\n",
       "0.0       43\n",
       "3847.9     1\n",
       "Name: count, dtype: int64"
      ]
     },
     "execution_count": 84,
     "metadata": {},
     "output_type": "execute_result"
    }
   ],
   "source": [
    "streams_no_basins_gdf.Length.value_counts()"
   ]
  },
  {
   "cell_type": "markdown",
   "metadata": {},
   "source": [
    "**NOTE: All but one have zero stream length. The one with a lenghth is a headwater stream at the edge of the TDXHydroRegion."
   ]
  },
  {
   "cell_type": "code",
   "execution_count": 83,
   "metadata": {},
   "outputs": [],
   "source": [
    "# Write to GeoPackage to explore in QGIS\n",
    "pyogrio.write_dataframe(streams_no_basins_gdf, tdx_dir / 'streams_no_basins.gpkg')\n",
    "# looks like random mistakes\n"
   ]
  },
  {
   "cell_type": "code",
   "execution_count": null,
   "metadata": {},
   "outputs": [],
   "source": [
    "DISCOVER = \"DISCOVER_TIME\"\n",
    "FINISH = \"FINISH_TIME\"\n",
    "ROOT = \"ROOT_ID\"\n",
    "# at column locations right after other LINK info\n",
    "for f in (FINISH, DISCOVER, ROOT):\n",
    "    basins_gdf.insert(0, f, None)"
   ]
  },
  {
   "cell_type": "code",
   "execution_count": null,
   "metadata": {},
   "outputs": [],
   "source": []
  }
 ],
 "metadata": {
  "kernelspec": {
   "display_name": "Python 3",
   "language": "python",
   "name": "python3"
  },
  "language_info": {
   "codemirror_mode": {
    "name": "ipython",
    "version": 3
   },
   "file_extension": ".py",
   "mimetype": "text/x-python",
   "name": "python",
   "nbconvert_exporter": "python",
   "pygments_lexer": "ipython3",
   "version": "3.11.9"
  }
 },
 "nbformat": 4,
 "nbformat_minor": 2
}
