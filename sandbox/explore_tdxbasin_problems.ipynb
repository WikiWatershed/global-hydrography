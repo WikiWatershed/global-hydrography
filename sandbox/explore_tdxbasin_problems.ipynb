{
 "cells": [
  {
   "cell_type": "markdown",
   "metadata": {},
   "source": [
    "# Explore issues with duplicate basins\n",
    "\n",
    "Email thread on \"Upload Stream Data to S3\" with Terence, with problem described on Dec. 3, 2024.\n",
    "\n",
    "Anthony's first round of exploration in QGIS uncovered:\n",
    "\n",
    "Those duplicates come from two TDX-HydroRegions:\n",
    "\n",
    "- \"1020018110\": \"13\", (Congo River Basin, Africa)\n",
    "- \"5020049720\": \"54\", (Australia, Australia and Oceania)"
   ]
  },
  {
   "cell_type": "code",
   "execution_count": null,
   "metadata": {},
   "outputs": [],
   "source": []
  },
  {
   "cell_type": "markdown",
   "metadata": {},
   "source": [
    "## Python Imports"
   ]
  },
  {
   "cell_type": "code",
   "execution_count": 1,
   "metadata": {},
   "outputs": [],
   "source": [
    "import os\n",
    "from pathlib import Path\n",
    "from importlib import reload\n",
    "\n",
    "import fsspec\n",
    "# import s3fs\n",
    "# import numpy as np\n",
    "import pandas as pd\n",
    "import geopandas as gpd\n",
    "import pyogrio\n",
    "import pyarrow as pa"
   ]
  },
  {
   "cell_type": "code",
   "execution_count": 2,
   "metadata": {},
   "outputs": [],
   "source": [
    "# Custom functions for Global Hydrography\n",
    "import global_hydrography as gh"
   ]
  },
  {
   "cell_type": "markdown",
   "metadata": {},
   "source": [
    "## Paths"
   ]
  },
  {
   "cell_type": "code",
   "execution_count": 13,
   "metadata": {},
   "outputs": [],
   "source": [
    "# Confirm your current working directory (cwd) and repo/project directory\n",
    "working_dir = Path.cwd()\n",
    "project_dir = working_dir.parent\n",
    "data_dir = project_dir / 'data_temp' # a temporary data directory that we .gitignore\n",
    "tdx_dir = data_dir / 'nga'\n",
    "raw_dir = tdx_dir / 'TDX_HydroRaw'\n",
    "mnsi_dir = tdx_dir / 'TDX_MNSI_Output'"
   ]
  },
  {
   "cell_type": "markdown",
   "metadata": {},
   "source": [
    "# Congo\n",
    "\"1020018110\": \"13\", (Congo River Basin, Africa)"
   ]
  },
  {
   "cell_type": "markdown",
   "metadata": {},
   "source": [
    "## Processed parquet file"
   ]
  },
  {
   "cell_type": "code",
   "execution_count": 25,
   "metadata": {},
   "outputs": [
    {
     "data": {
      "text/plain": [
       "True"
      ]
     },
     "execution_count": 25,
     "metadata": {},
     "output_type": "execute_result"
    }
   ],
   "source": [
    "# Processed file delivered to E84\n",
    "basins_congo_mnsi_fp = (\n",
    "    mnsi_dir /\n",
    "    f'TDX_streamreach_basins_mnsi_1020018110_01.parquet'\n",
    ")\n",
    "basins_congo_mnsi_fp.exists()"
   ]
  },
  {
   "cell_type": "code",
   "execution_count": 27,
   "metadata": {},
   "outputs": [
    {
     "name": "stdout",
     "output_type": "stream",
     "text": [
      "<class 'geopandas.geodataframe.GeoDataFrame'>\n",
      "Index: 924556 entries, 130000001 to 130006845\n",
      "Data columns (total 6 columns):\n",
      " #   Column            Non-Null Count   Dtype   \n",
      "---  ------            --------------   -----   \n",
      " 0   geometry          924556 non-null  geometry\n",
      " 1   ROOT_ID           924556 non-null  int32   \n",
      " 2   FINISH_TIME       924556 non-null  int32   \n",
      " 3   DISCOVER_TIME     924556 non-null  int32   \n",
      " 4   ELEMENT_COUNT     924556 non-null  int32   \n",
      " 5   DISSOLVE_ROOT_ID  924556 non-null  int32   \n",
      "dtypes: geometry(1), int32(5)\n",
      "memory usage: 28.2 MB\n"
     ]
    }
   ],
   "source": [
    "basins_congo_mnsi_gdf = gpd.read_parquet(basins_congo_mnsi_fp)\n",
    "basins_congo_mnsi_gdf.info()"
   ]
  },
  {
   "cell_type": "code",
   "execution_count": 32,
   "metadata": {},
   "outputs": [
    {
     "data": {
      "text/plain": [
       "Index([130000001, 130001717, 130000003, 130000005, 130001715, 130003429,\n",
       "       130000006, 130001718, 130003430, 130005141,\n",
       "       ...\n",
       "       130008557, 130008557, 130008557, 130001709, 130001710, 130003421,\n",
       "       130003421, 130003421, 130006845, 130006845],\n",
       "      dtype='int32', name='LINKNO', length=924556)"
      ]
     },
     "execution_count": 32,
     "metadata": {},
     "output_type": "execute_result"
    }
   ],
   "source": [
    "basins_congo_mnsi_gdf.index"
   ]
  },
  {
   "cell_type": "code",
   "execution_count": 33,
   "metadata": {},
   "outputs": [
    {
     "data": {
      "text/plain": [
       "LINKNO\n",
       "130565963    2105\n",
       "130356958    1923\n",
       "130690836    1774\n",
       "130642990    1772\n",
       "130565970    1767\n",
       "             ... \n",
       "130070783       1\n",
       "130069072       1\n",
       "130069071       1\n",
       "130065646       1\n",
       "130495509       1\n",
       "Name: count, Length: 515349, dtype: int64"
      ]
     },
     "execution_count": 33,
     "metadata": {},
     "output_type": "execute_result"
    }
   ],
   "source": [
    "basins_congo_mnsi_gdf.index.value_counts()"
   ]
  },
  {
   "cell_type": "code",
   "execution_count": 34,
   "metadata": {},
   "outputs": [
    {
     "data": {
      "text/plain": [
       "Index([130000001, 130001717, 130000003, 130000005, 130001715, 130003429,\n",
       "       130000006, 130001718, 130003430, 130005141,\n",
       "       ...\n",
       "       130003419, 130005131, 130001708, 130003420, 130005133, 130008557,\n",
       "       130001709, 130001710, 130003421, 130006845],\n",
       "      dtype='int32', name='LINKNO', length=515349)"
      ]
     },
     "execution_count": 34,
     "metadata": {},
     "output_type": "execute_result"
    }
   ],
   "source": [
    "basins_congo_mnsi_gdf.index.unique()"
   ]
  },
  {
   "cell_type": "code",
   "execution_count": 36,
   "metadata": {},
   "outputs": [
    {
     "data": {
      "text/html": [
       "<div>\n",
       "<style scoped>\n",
       "    .dataframe tbody tr th:only-of-type {\n",
       "        vertical-align: middle;\n",
       "    }\n",
       "\n",
       "    .dataframe tbody tr th {\n",
       "        vertical-align: top;\n",
       "    }\n",
       "\n",
       "    .dataframe thead th {\n",
       "        text-align: right;\n",
       "    }\n",
       "</style>\n",
       "<table border=\"1\" class=\"dataframe\">\n",
       "  <thead>\n",
       "    <tr style=\"text-align: right;\">\n",
       "      <th></th>\n",
       "      <th>geometry</th>\n",
       "      <th>ROOT_ID</th>\n",
       "      <th>FINISH_TIME</th>\n",
       "      <th>DISCOVER_TIME</th>\n",
       "      <th>ELEMENT_COUNT</th>\n",
       "      <th>DISSOLVE_ROOT_ID</th>\n",
       "    </tr>\n",
       "    <tr>\n",
       "      <th>LINKNO</th>\n",
       "      <th></th>\n",
       "      <th></th>\n",
       "      <th></th>\n",
       "      <th></th>\n",
       "      <th></th>\n",
       "      <th></th>\n",
       "    </tr>\n",
       "  </thead>\n",
       "  <tbody>\n",
       "    <tr>\n",
       "      <th>130565963</th>\n",
       "      <td>POLYGON ((29.97561 -6.76683, 29.97561 -6.76717...</td>\n",
       "      <td>130747391</td>\n",
       "      <td>321017</td>\n",
       "      <td>321004</td>\n",
       "      <td>13</td>\n",
       "      <td>130586507</td>\n",
       "    </tr>\n",
       "    <tr>\n",
       "      <th>130565963</th>\n",
       "      <td>POLYGON ((29.9755 -6.76717, 29.9755 -6.76728, ...</td>\n",
       "      <td>130747391</td>\n",
       "      <td>321017</td>\n",
       "      <td>321004</td>\n",
       "      <td>13</td>\n",
       "      <td>130586507</td>\n",
       "    </tr>\n",
       "    <tr>\n",
       "      <th>130565963</th>\n",
       "      <td>POLYGON ((29.97539 -6.76728, 29.97539 -6.76739...</td>\n",
       "      <td>130747391</td>\n",
       "      <td>321017</td>\n",
       "      <td>321004</td>\n",
       "      <td>13</td>\n",
       "      <td>130586507</td>\n",
       "    </tr>\n",
       "    <tr>\n",
       "      <th>130565963</th>\n",
       "      <td>POLYGON ((29.97528 -6.76739, 29.97528 -6.7675,...</td>\n",
       "      <td>130747391</td>\n",
       "      <td>321017</td>\n",
       "      <td>321004</td>\n",
       "      <td>13</td>\n",
       "      <td>130586507</td>\n",
       "    </tr>\n",
       "    <tr>\n",
       "      <th>130565963</th>\n",
       "      <td>POLYGON ((29.97517 -6.7675, 29.97517 -6.76761,...</td>\n",
       "      <td>130747391</td>\n",
       "      <td>321017</td>\n",
       "      <td>321004</td>\n",
       "      <td>13</td>\n",
       "      <td>130586507</td>\n",
       "    </tr>\n",
       "    <tr>\n",
       "      <th>...</th>\n",
       "      <td>...</td>\n",
       "      <td>...</td>\n",
       "      <td>...</td>\n",
       "      <td>...</td>\n",
       "      <td>...</td>\n",
       "      <td>...</td>\n",
       "    </tr>\n",
       "    <tr>\n",
       "      <th>130565963</th>\n",
       "      <td>POLYGON ((29.74228 -7.00039, 29.74228 -7.0005,...</td>\n",
       "      <td>130747391</td>\n",
       "      <td>321017</td>\n",
       "      <td>321004</td>\n",
       "      <td>13</td>\n",
       "      <td>130586507</td>\n",
       "    </tr>\n",
       "    <tr>\n",
       "      <th>130565963</th>\n",
       "      <td>POLYGON ((29.74217 -7.0005, 29.74217 -7.00061,...</td>\n",
       "      <td>130747391</td>\n",
       "      <td>321017</td>\n",
       "      <td>321004</td>\n",
       "      <td>13</td>\n",
       "      <td>130586507</td>\n",
       "    </tr>\n",
       "    <tr>\n",
       "      <th>130565963</th>\n",
       "      <td>POLYGON ((29.74206 -7.00061, 29.74206 -7.00072...</td>\n",
       "      <td>130747391</td>\n",
       "      <td>321017</td>\n",
       "      <td>321004</td>\n",
       "      <td>13</td>\n",
       "      <td>130586507</td>\n",
       "    </tr>\n",
       "    <tr>\n",
       "      <th>130565963</th>\n",
       "      <td>POLYGON ((29.74194 -7.00072, 29.74194 -7.00083...</td>\n",
       "      <td>130747391</td>\n",
       "      <td>321017</td>\n",
       "      <td>321004</td>\n",
       "      <td>13</td>\n",
       "      <td>130586507</td>\n",
       "    </tr>\n",
       "    <tr>\n",
       "      <th>130565963</th>\n",
       "      <td>POLYGON ((29.74139 -7.00083, 29.74139 -7.00094...</td>\n",
       "      <td>130747391</td>\n",
       "      <td>321017</td>\n",
       "      <td>321004</td>\n",
       "      <td>13</td>\n",
       "      <td>130586507</td>\n",
       "    </tr>\n",
       "  </tbody>\n",
       "</table>\n",
       "<p>2105 rows × 6 columns</p>\n",
       "</div>"
      ],
      "text/plain": [
       "                                                    geometry    ROOT_ID  \\\n",
       "LINKNO                                                                    \n",
       "130565963  POLYGON ((29.97561 -6.76683, 29.97561 -6.76717...  130747391   \n",
       "130565963  POLYGON ((29.9755 -6.76717, 29.9755 -6.76728, ...  130747391   \n",
       "130565963  POLYGON ((29.97539 -6.76728, 29.97539 -6.76739...  130747391   \n",
       "130565963  POLYGON ((29.97528 -6.76739, 29.97528 -6.7675,...  130747391   \n",
       "130565963  POLYGON ((29.97517 -6.7675, 29.97517 -6.76761,...  130747391   \n",
       "...                                                      ...        ...   \n",
       "130565963  POLYGON ((29.74228 -7.00039, 29.74228 -7.0005,...  130747391   \n",
       "130565963  POLYGON ((29.74217 -7.0005, 29.74217 -7.00061,...  130747391   \n",
       "130565963  POLYGON ((29.74206 -7.00061, 29.74206 -7.00072...  130747391   \n",
       "130565963  POLYGON ((29.74194 -7.00072, 29.74194 -7.00083...  130747391   \n",
       "130565963  POLYGON ((29.74139 -7.00083, 29.74139 -7.00094...  130747391   \n",
       "\n",
       "           FINISH_TIME  DISCOVER_TIME  ELEMENT_COUNT  DISSOLVE_ROOT_ID  \n",
       "LINKNO                                                                  \n",
       "130565963       321017         321004             13         130586507  \n",
       "130565963       321017         321004             13         130586507  \n",
       "130565963       321017         321004             13         130586507  \n",
       "130565963       321017         321004             13         130586507  \n",
       "130565963       321017         321004             13         130586507  \n",
       "...                ...            ...            ...               ...  \n",
       "130565963       321017         321004             13         130586507  \n",
       "130565963       321017         321004             13         130586507  \n",
       "130565963       321017         321004             13         130586507  \n",
       "130565963       321017         321004             13         130586507  \n",
       "130565963       321017         321004             13         130586507  \n",
       "\n",
       "[2105 rows x 6 columns]"
      ]
     },
     "execution_count": 36,
     "metadata": {},
     "output_type": "execute_result"
    }
   ],
   "source": [
    "basins_congo_mnsi_gdf.loc[130565963]"
   ]
  },
  {
   "cell_type": "markdown",
   "metadata": {},
   "source": [
    "### We definitely delivered duplicate rows!!!"
   ]
  },
  {
   "cell_type": "markdown",
   "metadata": {},
   "source": [
    "## Raw GeoPackage File"
   ]
  },
  {
   "cell_type": "code",
   "execution_count": 28,
   "metadata": {},
   "outputs": [
    {
     "data": {
      "text/plain": [
       "True"
      ]
     },
     "execution_count": 28,
     "metadata": {},
     "output_type": "execute_result"
    }
   ],
   "source": [
    "basins_congo_raw_fp = (\n",
    "    raw_dir /\n",
    "    f'1020018110-basins.gpkg'\n",
    ")\n",
    "basins_congo_raw_fp.exists()"
   ]
  },
  {
   "cell_type": "code",
   "execution_count": 29,
   "metadata": {},
   "outputs": [
    {
     "data": {
      "text/plain": [
       "{'layer_name': 'basins',\n",
       " 'crs': 'EPSG:4326',\n",
       " 'encoding': 'UTF-8',\n",
       " 'fields': array(['streamID'], dtype=object),\n",
       " 'dtypes': array(['int32'], dtype=object),\n",
       " 'fid_column': 'fid',\n",
       " 'geometry_name': 'geom',\n",
       " 'geometry_type': 'Polygon',\n",
       " 'features': 924556,\n",
       " 'total_bounds': (6.4583888888889,\n",
       "  -18.0690555555561,\n",
       "  34.018944444445,\n",
       "  9.26127777777778),\n",
       " 'driver': 'GPKG',\n",
       " 'capabilities': {'random_read': True,\n",
       "  'fast_set_next_by_index': True,\n",
       "  'fast_spatial_filter': True,\n",
       "  'fast_feature_count': True,\n",
       "  'fast_total_bounds': True},\n",
       " 'layer_metadata': None,\n",
       " 'dataset_metadata': None}"
      ]
     },
     "execution_count": 29,
     "metadata": {},
     "output_type": "execute_result"
    }
   ],
   "source": [
    "pyogrio.read_info(basins_congo_raw_fp)"
   ]
  },
  {
   "cell_type": "code",
   "execution_count": 31,
   "metadata": {},
   "outputs": [
    {
     "data": {
      "text/plain": [
       "924556"
      ]
     },
     "execution_count": 31,
     "metadata": {},
     "output_type": "execute_result"
    }
   ],
   "source": [
    "# Get number of features\n",
    "pyogrio.read_info(basins_congo_raw_fp)['features']"
   ]
  },
  {
   "cell_type": "code",
   "execution_count": 39,
   "metadata": {},
   "outputs": [],
   "source": [
    "basins_congo_raw_df = pyogrio.read_dataframe(\n",
    "    basins_congo_raw_fp, \n",
    "    layer=0,\n",
    "    # columns=['streamID'],\n",
    "    read_geometry=False, # False takes half the time \n",
    "    use_arrow=True, # 50% faster, but doesn't seem to work with s3\n",
    ")"
   ]
  },
  {
   "cell_type": "code",
   "execution_count": 40,
   "metadata": {},
   "outputs": [
    {
     "name": "stdout",
     "output_type": "stream",
     "text": [
      "<class 'pandas.core.frame.DataFrame'>\n",
      "RangeIndex: 924556 entries, 0 to 924555\n",
      "Data columns (total 1 columns):\n",
      " #   Column    Non-Null Count   Dtype\n",
      "---  ------    --------------   -----\n",
      " 0   streamID  924556 non-null  int32\n",
      "dtypes: int32(1)\n",
      "memory usage: 3.5 MB\n"
     ]
    }
   ],
   "source": [
    "basins_congo_raw_df.info()"
   ]
  },
  {
   "cell_type": "code",
   "execution_count": 41,
   "metadata": {},
   "outputs": [
    {
     "data": {
      "text/plain": [
       "streamID\n",
       "565963    2105\n",
       "356958    1923\n",
       "690836    1774\n",
       "642990    1772\n",
       "565970    1767\n",
       "          ... \n",
       "236846       1\n",
       "200894       1\n",
       "481662       1\n",
       "103310       1\n",
       "1710         1\n",
       "Name: count, Length: 515349, dtype: int64"
      ]
     },
     "execution_count": 41,
     "metadata": {},
     "output_type": "execute_result"
    }
   ],
   "source": [
    "basins_congo_raw_df.streamID.value_counts()"
   ]
  },
  {
   "cell_type": "markdown",
   "metadata": {},
   "source": [
    "### Raw data has same duplicates!"
   ]
  },
  {
   "cell_type": "code",
   "execution_count": 42,
   "metadata": {},
   "outputs": [
    {
     "data": {
      "text/plain": [
       "True"
      ]
     },
     "execution_count": 42,
     "metadata": {},
     "output_type": "execute_result"
    }
   ],
   "source": [
    "# Check streams\n",
    "streams_congo_raw_fp = (\n",
    "    raw_dir /\n",
    "    f'1020018110-streamnet.gpkg'\n",
    ")\n",
    "streams_congo_raw_fp.exists()"
   ]
  },
  {
   "cell_type": "code",
   "execution_count": 43,
   "metadata": {},
   "outputs": [
    {
     "data": {
      "text/plain": [
       "515435"
      ]
     },
     "execution_count": 43,
     "metadata": {},
     "output_type": "execute_result"
    }
   ],
   "source": [
    "# Get number of features\n",
    "pyogrio.read_info(streams_congo_raw_fp)['features']"
   ]
  },
  {
   "cell_type": "code",
   "execution_count": 44,
   "metadata": {},
   "outputs": [],
   "source": [
    "streams_congo_raw_df = pyogrio.read_dataframe(\n",
    "    streams_congo_raw_fp, \n",
    "    layer=0,\n",
    "    # columns=['streamID'],\n",
    "    read_geometry=False, # False takes half the time \n",
    "    use_arrow=True, # 50% faster, but doesn't seem to work with s3\n",
    ")"
   ]
  },
  {
   "cell_type": "code",
   "execution_count": 45,
   "metadata": {},
   "outputs": [
    {
     "name": "stdout",
     "output_type": "stream",
     "text": [
      "<class 'pandas.core.frame.DataFrame'>\n",
      "RangeIndex: 515435 entries, 0 to 515434\n",
      "Data columns (total 17 columns):\n",
      " #   Column      Non-Null Count   Dtype  \n",
      "---  ------      --------------   -----  \n",
      " 0   LINKNO      515435 non-null  int32  \n",
      " 1   DSLINKNO    515435 non-null  int32  \n",
      " 2   USLINKNO1   515435 non-null  int32  \n",
      " 3   USLINKNO2   515435 non-null  int32  \n",
      " 4   DSNODEID    515435 non-null  int64  \n",
      " 5   strmOrder   515435 non-null  int32  \n",
      " 6   Length      515435 non-null  float64\n",
      " 7   Magnitude   515435 non-null  int32  \n",
      " 8   DSContArea  515435 non-null  float64\n",
      " 9   strmDrop    515435 non-null  float64\n",
      " 10  Slope       515435 non-null  float64\n",
      " 11  StraightL   515435 non-null  float64\n",
      " 12  USContArea  515435 non-null  float64\n",
      " 13  WSNO        515435 non-null  int32  \n",
      " 14  DOUTEND     515435 non-null  float64\n",
      " 15  DOUTSTART   515435 non-null  float64\n",
      " 16  DOUTMID     515435 non-null  float64\n",
      "dtypes: float64(9), int32(7), int64(1)\n",
      "memory usage: 53.1 MB\n"
     ]
    }
   ],
   "source": [
    "streams_congo_raw_df.info()"
   ]
  },
  {
   "cell_type": "code",
   "execution_count": 46,
   "metadata": {},
   "outputs": [
    {
     "data": {
      "text/plain": [
       "LINKNO\n",
       "1         1\n",
       "440923    1\n",
       "464889    1\n",
       "463182    1\n",
       "463179    1\n",
       "         ..\n",
       "188862    1\n",
       "188861    1\n",
       "188859    1\n",
       "187150    1\n",
       "6845      1\n",
       "Name: count, Length: 515435, dtype: int64"
      ]
     },
     "execution_count": 46,
     "metadata": {},
     "output_type": "execute_result"
    }
   ],
   "source": [
    "streams_congo_raw_df.LINKNO.value_counts()"
   ]
  },
  {
   "cell_type": "code",
   "execution_count": 48,
   "metadata": {},
   "outputs": [
    {
     "data": {
      "text/html": [
       "<div>\n",
       "<style scoped>\n",
       "    .dataframe tbody tr th:only-of-type {\n",
       "        vertical-align: middle;\n",
       "    }\n",
       "\n",
       "    .dataframe tbody tr th {\n",
       "        vertical-align: top;\n",
       "    }\n",
       "\n",
       "    .dataframe thead th {\n",
       "        text-align: right;\n",
       "    }\n",
       "</style>\n",
       "<table border=\"1\" class=\"dataframe\">\n",
       "  <thead>\n",
       "    <tr style=\"text-align: right;\">\n",
       "      <th></th>\n",
       "      <th>LINKNO</th>\n",
       "      <th>DSLINKNO</th>\n",
       "      <th>USLINKNO1</th>\n",
       "      <th>USLINKNO2</th>\n",
       "      <th>DSNODEID</th>\n",
       "      <th>strmOrder</th>\n",
       "      <th>Length</th>\n",
       "      <th>Magnitude</th>\n",
       "      <th>DSContArea</th>\n",
       "      <th>strmDrop</th>\n",
       "      <th>Slope</th>\n",
       "      <th>StraightL</th>\n",
       "      <th>USContArea</th>\n",
       "      <th>WSNO</th>\n",
       "      <th>DOUTEND</th>\n",
       "      <th>DOUTSTART</th>\n",
       "      <th>DOUTMID</th>\n",
       "    </tr>\n",
       "  </thead>\n",
       "  <tbody>\n",
       "    <tr>\n",
       "      <th>370844</th>\n",
       "      <td>565963</td>\n",
       "      <td>586507</td>\n",
       "      <td>454698</td>\n",
       "      <td>312595</td>\n",
       "      <td>-1</td>\n",
       "      <td>2</td>\n",
       "      <td>41.9</td>\n",
       "      <td>7</td>\n",
       "      <td>188982528.0</td>\n",
       "      <td>0.0</td>\n",
       "      <td>0.0</td>\n",
       "      <td>38.9</td>\n",
       "      <td>188662496.0</td>\n",
       "      <td>565963</td>\n",
       "      <td>3710881.8</td>\n",
       "      <td>3710923.5</td>\n",
       "      <td>3710902.5</td>\n",
       "    </tr>\n",
       "  </tbody>\n",
       "</table>\n",
       "</div>"
      ],
      "text/plain": [
       "        LINKNO  DSLINKNO  USLINKNO1  USLINKNO2  DSNODEID  strmOrder  Length  \\\n",
       "370844  565963    586507     454698     312595        -1          2    41.9   \n",
       "\n",
       "        Magnitude   DSContArea  strmDrop  Slope  StraightL   USContArea  \\\n",
       "370844          7  188982528.0       0.0    0.0       38.9  188662496.0   \n",
       "\n",
       "          WSNO    DOUTEND  DOUTSTART    DOUTMID  \n",
       "370844  565963  3710881.8  3710923.5  3710902.5  "
      ]
     },
     "execution_count": 48,
     "metadata": {},
     "output_type": "execute_result"
    }
   ],
   "source": [
    "streams_congo_raw_df[streams_congo_raw_df.LINKNO==565963]"
   ]
  },
  {
   "cell_type": "code",
   "execution_count": null,
   "metadata": {},
   "outputs": [],
   "source": []
  }
 ],
 "metadata": {
  "kernelspec": {
   "display_name": "hydrography",
   "language": "python",
   "name": "python3"
  },
  "language_info": {
   "codemirror_mode": {
    "name": "ipython",
    "version": 3
   },
   "file_extension": ".py",
   "mimetype": "text/x-python",
   "name": "python",
   "nbconvert_exporter": "python",
   "pygments_lexer": "ipython3",
   "version": "3.11.11"
  }
 },
 "nbformat": 4,
 "nbformat_minor": 2
}
