{
 "cells": [
  {
   "cell_type": "markdown",
   "id": "fbf2f38a",
   "metadata": {},
   "source": [
    "# Get Global Hydrography from NGA TDX-Hydro \n",
    "\n",
    "This notebook demonstrates how to use functions in the [WikiWatershed/global-hydrography](https://github.com/WikiWatershed/global-hydrography) package to fetch data files from the TDX-Hydro dataserts released by the [US National Geospatial-Intelligence Agency (NGA)](https://www.nga.mil).\n",
    "\n",
    "It uses processes that were explored in these notebooks:\n",
    "- `sandbox/explore_data_sources.ipynb`\n",
    "- `sandbox/reading_files.ipynb`"
   ]
  },
  {
   "cell_type": "markdown",
   "id": "6c99e60b",
   "metadata": {},
   "source": [
    "## Python Imports\n",
    "Using common conventions and following the [Google Python Style Guide](https://google.github.io/styleguide/pyguide.html): \n",
    "- https://google.github.io/styleguide/pyguide.html#s2.2-imports"
   ]
  },
  {
   "cell_type": "code",
   "execution_count": 1,
   "id": "f2a6c158",
   "metadata": {},
   "outputs": [],
   "source": [
    "import os\n",
    "from pathlib import Path\n",
    "from importlib import reload\n",
    "\n",
    "import fsspec\n",
    "# import pandas as pd\n",
    "import geopandas as gpd\n",
    "# import pyogrio\n",
    "# import pyarrow as pa"
   ]
  },
  {
   "cell_type": "markdown",
   "id": "38c49fa3",
   "metadata": {},
   "source": [
    "## Set Paths for Data Inputs/Outputs\n",
    "Use the [`pathlib`](https://docs.python.org/3/library/pathlib.html) library, whose many benfits for managing paths over  `os` library or string-based approaches are described in [this blog post](https://medium.com/@ageitgey/python-3-quick-tip-the-easy-way-to-deal-with-file-paths-on-windows-mac-and-linux-11a072b58d5f).\n",
    "- [pathlib](https://docs.python.org/3/library/pathlib.html) user guide: https://realpython.com/python-pathlib/"
   ]
  },
  {
   "cell_type": "code",
   "execution_count": 2,
   "id": "1fb31144",
   "metadata": {},
   "outputs": [
    {
     "data": {
      "text/plain": [
       "PosixPath('/Users/aaufdenkampe/Documents/Python/global-hydrography/data_temp')"
      ]
     },
     "execution_count": 2,
     "metadata": {},
     "output_type": "execute_result"
    }
   ],
   "source": [
    "# Confirm your current working directory (cwd) and repo/project directory\n",
    "working_dir = Path.cwd()\n",
    "project_dir = working_dir.parent\n",
    "data_dir = project_dir / 'data_temp' # a temporary data directory that we .gitignore\n",
    "data_dir"
   ]
  },
  {
   "cell_type": "markdown",
   "id": "c0512cb7",
   "metadata": {},
   "source": [
    "## Create local file system using `fsspec` library\n",
    "\n",
    "We'll use the Filesystem Spec ([`fsspec`](https://filesystem-spec.readthedocs.io)) library and its extensions throughout this project to provide a unified pythonic interface to local, remote and embedded file systems and bytes storage."
   ]
  },
  {
   "cell_type": "code",
   "execution_count": 3,
   "id": "8858cfe2",
   "metadata": {},
   "outputs": [],
   "source": [
    "# Create local file system using fsspec library\n",
    "# local_fs = fsspec.implementations.local.LocalFileSystem()\n",
    "local_fs = fsspec.filesystem('local') "
   ]
  },
  {
   "cell_type": "code",
   "execution_count": 4,
   "id": "afa9f8a7",
   "metadata": {},
   "outputs": [
    {
     "data": {
      "text/plain": [
       "['/Users/aaufdenkampe/Documents/Python/global-hydrography/data_temp/global_hydrography.qgz',\n",
       " '/Users/aaufdenkampe/Documents/Python/global-hydrography/data_temp/geoglows-v2',\n",
       " '/Users/aaufdenkampe/Documents/Python/global-hydrography/data_temp/.DS_Store',\n",
       " '/Users/aaufdenkampe/Documents/Python/global-hydrography/data_temp/test_downcast_gdf.parquet',\n",
       " '/Users/aaufdenkampe/Documents/Python/global-hydrography/data_temp/test_gdf.parquet',\n",
       " '/Users/aaufdenkampe/Documents/Python/global-hydrography/data_temp/test_pa_gdf.parquet',\n",
       " '/Users/aaufdenkampe/Documents/Python/global-hydrography/data_temp/test_ga_pa_df.parquet',\n",
       " '/Users/aaufdenkampe/Documents/Python/global-hydrography/data_temp/test_gpd_gdf.parquet',\n",
       " '/Users/aaufdenkampe/Documents/Python/global-hydrography/data_temp/test_pa_geo_df.parquet',\n",
       " '/Users/aaufdenkampe/Documents/Python/global-hydrography/data_temp/io_10m_annual_lulc',\n",
       " '/Users/aaufdenkampe/Documents/Python/global-hydrography/data_temp/nhdplus2',\n",
       " '/Users/aaufdenkampe/Documents/Python/global-hydrography/data_temp/hydrobasins',\n",
       " '/Users/aaufdenkampe/Documents/Python/global-hydrography/data_temp/test_gpd_gdf.gpkg',\n",
       " '/Users/aaufdenkampe/Documents/Python/global-hydrography/data_temp/nga',\n",
       " '/Users/aaufdenkampe/Documents/Python/global-hydrography/data_temp/test_pa_df.parquet',\n",
       " '/Users/aaufdenkampe/Documents/Python/global-hydrography/data_temp/test_downscaled_gdf.parquet',\n",
       " '/Users/aaufdenkampe/Documents/Python/global-hydrography/data_temp/test_df.parquet']"
      ]
     },
     "execution_count": 4,
     "metadata": {},
     "output_type": "execute_result"
    }
   ],
   "source": [
    "# List files in our temporary data directory\n",
    "local_fs.ls(data_dir)"
   ]
  },
  {
   "cell_type": "code",
   "execution_count": 5,
   "id": "8aa9dd1a",
   "metadata": {},
   "outputs": [
    {
     "data": {
      "text/plain": [
       "{'name': '/Users/aaufdenkampe/Documents/Python/global-hydrography/data_temp/global_hydrography.qgz',\n",
       " 'size': 136499,\n",
       " 'type': 'file',\n",
       " 'created': 1721235118.8378024,\n",
       " 'islink': False,\n",
       " 'mode': 33188,\n",
       " 'uid': 502,\n",
       " 'gid': 20,\n",
       " 'mtime': 1721235118.8372164,\n",
       " 'ino': 301838904,\n",
       " 'nlink': 1}"
      ]
     },
     "execution_count": 5,
     "metadata": {},
     "output_type": "execute_result"
    }
   ],
   "source": [
    "# List file details (equivalent to file info)\n",
    "local_data_list = local_fs.ls(data_dir, detail=True)\n",
    "# Show first item's details\n",
    "local_data_list[0]"
   ]
  },
  {
   "cell_type": "markdown",
   "id": "7877b4c1",
   "metadata": {},
   "source": [
    "# NGA TDX-Hydro\n",
    "\n",
    "Data downloadable from the National Geospatial-Intelligence Agency (NGA) Office for Geomatics website, https://earth-info.nga.mil/, under the \"Geosciences\" tab.\n",
    "\n",
    "The [TDX-Hydro Technical Document](https://earth-info.nga.mil/php/download.php?file=tdx-hydro-technical-doc) provides detailed information on how the datasets were developed and validated."
   ]
  },
  {
   "cell_type": "code",
   "execution_count": 6,
   "id": "5613a5f4",
   "metadata": {},
   "outputs": [
    {
     "data": {
      "text/plain": [
       "PosixPath('/Users/aaufdenkampe/Documents/Python/global-hydrography/data_temp/nga')"
      ]
     },
     "execution_count": 6,
     "metadata": {},
     "output_type": "execute_result"
    }
   ],
   "source": [
    "# Create local data directory\n",
    "tdx_dir = data_dir / 'nga'\n",
    "tdx_dir"
   ]
  },
  {
   "cell_type": "code",
   "execution_count": 7,
   "id": "199c61e7",
   "metadata": {},
   "outputs": [
    {
     "data": {
      "text/plain": [
       "True"
      ]
     },
     "execution_count": 7,
     "metadata": {},
     "output_type": "execute_result"
    }
   ],
   "source": [
    "local_fs.exists(tdx_dir)"
   ]
  },
  {
   "cell_type": "markdown",
   "id": "b561564e",
   "metadata": {},
   "source": [
    "## Get TDX-Hydro Metadata\n",
    "\n",
    "TDX-Hydro datasets are organized into 55 continental sub-units using the same 10-digit Level 2 codes (HYBAS_ID) developed by [HydroSHEDS v1 HydroBASINS](https://www.hydrosheds.org/products/hydrobasins). More information on the semantics of these codes are provided in the [HydroBASINS Technical Documentation](https://data.hydrosheds.org/file/technical-documentation/HydroBASINS_TechDoc_v1c.pdf).\n",
    "\n",
    "The exact boundaries of the TDX-Hydro 55 continental sub-units differ from HydroBASINS, and are provided by the \"Basin GeoJSON File with ID Numbers\" (95 MB)."
   ]
  },
  {
   "cell_type": "code",
   "execution_count": 8,
   "id": "3d752c61",
   "metadata": {},
   "outputs": [
    {
     "data": {
      "text/plain": [
       "'https://earth-info.nga.mil/php/download.php?file=hydrobasins_level2'"
      ]
     },
     "execution_count": 8,
     "metadata": {},
     "output_type": "execute_result"
    }
   ],
   "source": [
    "tdx_root_url = 'https://earth-info.nga.mil/php/download.php'\n",
    "\n",
    "tdx_hydrobasins_filename = Path('hydrobasins_level2.geojson')\n",
    "tdx_hydrobasins_filepath = tdx_dir / tdx_hydrobasins_filename\n",
    "# Download URL for Basin GeoJSON File with ID Numbers\n",
    "tdx_hydrobasins_url = f'{tdx_root_url}?file={tdx_hydrobasins_filename.stem}'\n",
    "tdx_hydrobasins_url"
   ]
  },
  {
   "cell_type": "code",
   "execution_count": 9,
   "id": "fcb4d553",
   "metadata": {},
   "outputs": [],
   "source": [
    "# Set up file system for TDX-Hydro HTTP filesystem, which unfortunately \n",
    "# isn't set up in accessible directories so files need to be accessed one at a time.\n",
    "tdx_fs = fsspec.filesystem(protocol='http')"
   ]
  },
  {
   "cell_type": "code",
   "execution_count": 13,
   "id": "5ed2cf15",
   "metadata": {},
   "outputs": [
    {
     "data": {
      "text/plain": [
       "{'name': 'https://earth-info.nga.mil/php/download.php?file=hydrobasins_level2',\n",
       " 'size': 95389402,\n",
       " 'mimetype': 'application/octet-stream',\n",
       " 'url': 'https://earth-info.nga.mil/php/download.php?file=hydrobasins_level2',\n",
       " 'type': 'file'}"
      ]
     },
     "execution_count": 13,
     "metadata": {},
     "output_type": "execute_result"
    }
   ],
   "source": [
    "# Get info on the file, which should only take a few seconds\n",
    "tdx_fs.info(tdx_hydrobasins_url)"
   ]
  },
  {
   "cell_type": "code",
   "execution_count": 15,
   "id": "81bcf6da",
   "metadata": {},
   "outputs": [
    {
     "name": "stdout",
     "output_type": "stream",
     "text": [
      "We have it!\n",
      "CPU times: user 147 µs, sys: 94 µs, total: 241 µs\n",
      "Wall time: 217 µs\n"
     ]
    }
   ],
   "source": [
    "%%time\n",
    "# Get the remote file and save to local directory, returns None\n",
    "if not tdx_hydrobasins_filepath.exists:\n",
    "    tdx_fs.get(tdx_hydrobasins_url, str(tdx_hydrobasins_filepath))\n",
    "else:\n",
    "    print('We have it!')"
   ]
  },
  {
   "cell_type": "code",
   "execution_count": 16,
   "id": "5ab88f03",
   "metadata": {},
   "outputs": [
    {
     "data": {
      "text/plain": [
       "{'name': '/Users/aaufdenkampe/Documents/Python/global-hydrography/data_temp/nga/hydrobasins_level2.geojson',\n",
       " 'size': 95389402,\n",
       " 'type': 'file',\n",
       " 'created': 1721407912.568478,\n",
       " 'islink': False,\n",
       " 'mode': 33188,\n",
       " 'uid': 502,\n",
       " 'gid': 20,\n",
       " 'mtime': 1715117902.7792468,\n",
       " 'ino': 267369098,\n",
       " 'nlink': 1}"
      ]
     },
     "execution_count": 16,
     "metadata": {},
     "output_type": "execute_result"
    }
   ],
   "source": [
    "# Confirm info of local file matches remote file\n",
    "local_fs.info(tdx_hydrobasins_filepath)"
   ]
  },
  {
   "cell_type": "code",
   "execution_count": null,
   "id": "d357b15c",
   "metadata": {},
   "outputs": [],
   "source": []
  },
  {
   "cell_type": "markdown",
   "id": "fef565cb",
   "metadata": {},
   "source": [
    "### Alternate approach using requests.\n",
    "\n",
    "Given that fsspec might not have benefits for a php system"
   ]
  },
  {
   "cell_type": "code",
   "execution_count": null,
   "id": "19e350ee",
   "metadata": {},
   "outputs": [],
   "source": [
    "import requests\n",
    "import io"
   ]
  },
  {
   "cell_type": "code",
   "execution_count": null,
   "id": "62caf50e",
   "metadata": {},
   "outputs": [
    {
     "name": "stdout",
     "output_type": "stream",
     "text": [
      "CPU times: user 1.44 s, sys: 1.11 s, total: 2.56 s\n",
      "Wall time: 1min 36s\n"
     ]
    },
    {
     "data": {
      "text/plain": [
       "True"
      ]
     },
     "metadata": {},
     "output_type": "display_data"
    }
   ],
   "source": [
    "%%time\n",
    "response = requests.get(tdx_hydrobasins_url)\n",
    "response.ok"
   ]
  },
  {
   "cell_type": "code",
   "execution_count": null,
   "id": "1f9193de",
   "metadata": {},
   "outputs": [
    {
     "name": "stdout",
     "output_type": "stream",
     "text": [
      "\u001b[0;31mType:\u001b[0m        bytes\n",
      "\u001b[0;31mString form:\u001b[0m b'{\\n\"type\": \"FeatureCollection\",\\n\"name\": \"hydrobasins_level2\",\\n\"crs\": { \"type\": \"name\", \"prope <...> 900621202275, 46.956377156575549 ], [ 97.958333333333371, 46.954166666666694 ] ] ] ] } }\\n]\\n}\\n'\n",
      "\u001b[0;31mLength:\u001b[0m      95389402\n",
      "\u001b[0;31mDocstring:\u001b[0m  \n",
      "bytes(iterable_of_ints) -> bytes\n",
      "bytes(string, encoding[, errors]) -> bytes\n",
      "bytes(bytes_or_buffer) -> immutable copy of bytes_or_buffer\n",
      "bytes(int) -> bytes object of size given by the parameter initialized with null bytes\n",
      "bytes() -> empty bytes object\n",
      "\n",
      "Construct an immutable array of bytes from:\n",
      "  - an iterable yielding integers in range(256)\n",
      "  - a text string encoded using the specified encoding\n",
      "  - any object implementing the buffer API.\n",
      "  - an integer"
     ]
    }
   ],
   "source": [
    "hydro_content = response.content\n",
    "hydro_content?"
   ]
  },
  {
   "cell_type": "code",
   "execution_count": null,
   "id": "16d7d62f",
   "metadata": {},
   "outputs": [],
   "source": [
    "with open(tdx_dir / 'test.json', mode='wb') as localfile:\n",
    "    localfile.write(response.content)"
   ]
  },
  {
   "cell_type": "code",
   "execution_count": null,
   "id": "1ffdb68a",
   "metadata": {},
   "outputs": [],
   "source": [
    "import json"
   ]
  },
  {
   "cell_type": "code",
   "execution_count": null,
   "id": "e9869be3",
   "metadata": {},
   "outputs": [],
   "source": [
    "hydro_dict = json.loads(hydro_content.decode('utf-8'))"
   ]
  },
  {
   "cell_type": "code",
   "execution_count": null,
   "id": "1f8a4ff9",
   "metadata": {},
   "outputs": [],
   "source": []
  },
  {
   "cell_type": "code",
   "execution_count": null,
   "id": "23bca747",
   "metadata": {},
   "outputs": [],
   "source": []
  },
  {
   "cell_type": "code",
   "execution_count": null,
   "id": "68b8f201",
   "metadata": {},
   "outputs": [],
   "source": []
  }
 ],
 "metadata": {
  "kernelspec": {
   "display_name": "Python 3 (ipykernel)",
   "language": "python",
   "name": "python3"
  },
  "language_info": {
   "codemirror_mode": {
    "name": "ipython",
    "version": 3
   },
   "file_extension": ".py",
   "mimetype": "text/x-python",
   "name": "python",
   "nbconvert_exporter": "python",
   "pygments_lexer": "ipython3",
   "version": "3.11.9"
  }
 },
 "nbformat": 4,
 "nbformat_minor": 5
}
