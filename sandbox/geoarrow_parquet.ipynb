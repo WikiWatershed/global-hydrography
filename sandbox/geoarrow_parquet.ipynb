{
 "cells": [
  {
   "cell_type": "markdown",
   "metadata": {},
   "source": [
    "# Explore PyArrow, GeoArrow, GeoParquet for Optimal Performance\n",
    "\n",
    "Work on Issue [#1 Leverage GeoArrow to speedup vector data processing & viz](https://github.com/WikiWatershed/global-hydrography/issues/1)\n"
   ]
  },
  {
   "cell_type": "markdown",
   "metadata": {},
   "source": [
    "# Imports & Setup"
   ]
  },
  {
   "cell_type": "code",
   "execution_count": 1,
   "metadata": {},
   "outputs": [],
   "source": [
    "from pathlib import Path\n",
    "\n",
    "import fsspec\n",
    "import numpy as np\n",
    "import pandas as pd\n",
    "import geopandas as gpd\n",
    "import pyogrio\n",
    "import pyarrow as pa\n",
    "\n",
    "## Importing geoarrow slows down some funcitons, so we do it later for testing\n",
    "# import geoarrow.pyarrow as ga\n",
    "# import geoarrow.pandas as _"
   ]
  },
  {
   "cell_type": "code",
   "execution_count": 2,
   "metadata": {},
   "outputs": [
    {
     "data": {
      "text/plain": [
       "PosixPath('/Users/aaufdenkampe/Documents/Python/global-hydrography/data_temp')"
      ]
     },
     "execution_count": 2,
     "metadata": {},
     "output_type": "execute_result"
    }
   ],
   "source": [
    "# Confirm your current working directory (cwd) and repo/project directory\n",
    "working_dir = Path.cwd()\n",
    "project_dir = working_dir.parent\n",
    "data_dir = project_dir / 'data_temp' # a temporary data directory that we .gitignore\n",
    "data_dir"
   ]
  },
  {
   "cell_type": "code",
   "execution_count": 3,
   "metadata": {},
   "outputs": [],
   "source": [
    "# Create local file system using fsspec library\n",
    "local_fs = fsspec.filesystem('local') "
   ]
  },
  {
   "cell_type": "code",
   "execution_count": 4,
   "metadata": {},
   "outputs": [
    {
     "data": {
      "text/plain": [
       "['/Users/aaufdenkampe/Documents/Python/global-hydrography/data_temp/nga/TDX_streamnet_1020011530_01.gpkg',\n",
       " '/Users/aaufdenkampe/Documents/Python/global-hydrography/data_temp/nga/TDX_streamnet_7020038340_01.parquet',\n",
       " '/Users/aaufdenkampe/Documents/Python/global-hydrography/data_temp/nga/TDX_streamreach_basins_7020038340_01.gpkg',\n",
       " '/Users/aaufdenkampe/Documents/Python/global-hydrography/data_temp/nga/.DS_Store',\n",
       " '/Users/aaufdenkampe/Documents/Python/global-hydrography/data_temp/nga/test.json',\n",
       " '/Users/aaufdenkampe/Documents/Python/global-hydrography/data_temp/nga/download.php?file=hydrobasins_level2',\n",
       " '/Users/aaufdenkampe/Documents/Python/global-hydrography/data_temp/nga/test.zip',\n",
       " '/Users/aaufdenkampe/Documents/Python/global-hydrography/data_temp/nga/TDX_streamreach_basins_1020011530_01.gpkg',\n",
       " '/Users/aaufdenkampe/Documents/Python/global-hydrography/data_temp/nga/hydrobasins_level2.geojson',\n",
       " '/Users/aaufdenkampe/Documents/Python/global-hydrography/data_temp/nga/TDX_streamreach_basins_1020040190_01.gpkg',\n",
       " '/Users/aaufdenkampe/Documents/Python/global-hydrography/data_temp/nga/TDX_streamnet_7020038340_01.gpkg',\n",
       " '/Users/aaufdenkampe/Documents/Python/global-hydrography/data_temp/nga/TDX_streamnet_7020038340_01_mnsi.parquet']"
      ]
     },
     "execution_count": 4,
     "metadata": {},
     "output_type": "execute_result"
    }
   ],
   "source": [
    "tdx_dir = data_dir / 'nga'\n",
    "local_fs.ls(tdx_dir)"
   ]
  },
  {
   "cell_type": "code",
   "execution_count": 5,
   "metadata": {},
   "outputs": [],
   "source": [
    "tdx_basins_7020038340_fp = tdx_dir / 'TDX_streamreach_basins_7020038340_01.gpkg'\n",
    "tdx_stream_7020038340_fp = tdx_dir / 'TDX_streamnet_7020038340_01.gpkg'"
   ]
  },
  {
   "cell_type": "code",
   "execution_count": 6,
   "metadata": {},
   "outputs": [
    {
     "data": {
      "text/plain": [
       "702283776"
      ]
     },
     "execution_count": 6,
     "metadata": {},
     "output_type": "execute_result"
    }
   ],
   "source": [
    "local_fs.info(tdx_stream_7020038340_fp)['size']"
   ]
  },
  {
   "cell_type": "code",
   "execution_count": 7,
   "metadata": {},
   "outputs": [
    {
     "data": {
      "text/plain": [
       "array([['TDX_streamnet_7020038340_01', 'LineString']], dtype=object)"
      ]
     },
     "execution_count": 7,
     "metadata": {},
     "output_type": "execute_result"
    }
   ],
   "source": [
    "pyogrio.list_layers(tdx_stream_7020038340_fp)"
   ]
  },
  {
   "cell_type": "code",
   "execution_count": 8,
   "metadata": {},
   "outputs": [
    {
     "data": {
      "text/plain": [
       "{'layer_name': 'TDX_streamnet_7020038340_01',\n",
       " 'crs': 'EPSG:4326',\n",
       " 'encoding': 'UTF-8',\n",
       " 'fields': array(['LINKNO', 'DSLINKNO', 'USLINKNO1', 'USLINKNO2', 'DSNODEID',\n",
       "        'strmOrder', 'Length', 'Magnitude', 'DSContArea', 'strmDrop',\n",
       "        'Slope', 'StraightL', 'USContArea', 'WSNO', 'DOUTEND', 'DOUTSTART',\n",
       "        'DOUTMID'], dtype=object),\n",
       " 'dtypes': array(['int32', 'int32', 'int32', 'int32', 'int64', 'int32', 'float64',\n",
       "        'int32', 'float64', 'float64', 'float64', 'float64', 'float64',\n",
       "        'int32', 'float64', 'float64', 'float64'], dtype=object),\n",
       " 'fid_column': 'fid',\n",
       " 'geometry_name': 'geom',\n",
       " 'geometry_type': 'LineString',\n",
       " 'features': 140097,\n",
       " 'total_bounds': (-89.8212222222222,\n",
       "  24.5589999999989,\n",
       "  -66.1413333333321,\n",
       "  46.4454444444444),\n",
       " 'driver': 'GPKG',\n",
       " 'capabilities': {'random_read': True,\n",
       "  'fast_set_next_by_index': True,\n",
       "  'fast_spatial_filter': True,\n",
       "  'fast_feature_count': True,\n",
       "  'fast_total_bounds': True},\n",
       " 'layer_metadata': {'DBF_DATE_LAST_UPDATE': '2021-12-08'},\n",
       " 'dataset_metadata': None}"
      ]
     },
     "execution_count": 8,
     "metadata": {},
     "output_type": "execute_result"
    }
   ],
   "source": [
    "pyogrio.read_info(tdx_stream_7020038340_fp, layer=0)"
   ]
  },
  {
   "cell_type": "markdown",
   "metadata": {},
   "source": [
    "# Read Arrow directly\n",
    "https://pyogrio.readthedocs.io/en/latest/api.html#pyogrio.read_arrow\n",
    "\n",
    "Returns a tuple! \n",
    "- dict of meta information about the data source\n",
    "- pyarrow Table with data."
   ]
  },
  {
   "cell_type": "code",
   "execution_count": 9,
   "metadata": {},
   "outputs": [
    {
     "data": {
      "text/plain": [
       "{'crs': 'EPSG:4326',\n",
       " 'encoding': 'UTF-8',\n",
       " 'fields': array(['LINKNO', 'DSLINKNO', 'USLINKNO1', 'USLINKNO2', 'DSNODEID',\n",
       "        'strmOrder', 'Length', 'Magnitude', 'DSContArea', 'strmDrop',\n",
       "        'Slope', 'StraightL', 'USContArea', 'WSNO', 'DOUTEND', 'DOUTSTART',\n",
       "        'DOUTMID'], dtype=object),\n",
       " 'geometry_type': 'LineString',\n",
       " 'geometry_name': 'geom',\n",
       " 'fid_column': 'fid'}"
      ]
     },
     "execution_count": 9,
     "metadata": {},
     "output_type": "execute_result"
    }
   ],
   "source": [
    "# pyogrio.read_arrow() avoids conversion to GeoDataframe\n",
    "# Takes about 3 sec for Anthony\n",
    "pa_info, pa_table = pyogrio.read_arrow(\n",
    "    tdx_stream_7020038340_fp,\n",
    ")\n",
    "pa_info"
   ]
  },
  {
   "cell_type": "code",
   "execution_count": 10,
   "metadata": {},
   "outputs": [
    {
     "data": {
      "text/plain": [
       "pyarrow.Table\n",
       "LINKNO: int32\n",
       "DSLINKNO: int32\n",
       "USLINKNO1: int32\n",
       "USLINKNO2: int32\n",
       "DSNODEID: int64\n",
       "strmOrder: int32\n",
       "Length: double\n",
       "Magnitude: int32\n",
       "DSContArea: double\n",
       "strmDrop: double\n",
       "Slope: double\n",
       "StraightL: double\n",
       "USContArea: double\n",
       "WSNO: int32\n",
       "DOUTEND: double\n",
       "DOUTSTART: double\n",
       "DOUTMID: double\n",
       "geom: binary\n",
       "----\n",
       "LINKNO: [[0,1,593,1777,2,...,114546,114547,115730,115731,116915],[117507,118099,118691,119283,119876,...,478,1070,1071,1662,2254],[2845,2846,2847,3438,3439,...,587,1180,1772,588,589]]\n",
       "DSLINKNO: [[1777,2369,1777,2369,4146,...,146515,115139,164275,116323,117507],[118099,141779,119875,119875,128163,...,35406,33630,35406,38366,39550],[33630,38958,41326,41918,42510,...,-1,-1,-1,-1,-1]]\n",
       "USLINKNO1: [[-1,-1,-1,0,-1,...,113954,113955,62448,106852,108034],[116915,1476,100930,16867,119284,...,-1,-1,-1,-1,-1],[-1,-1,-1,-1,-1,...,-1,-1,-1,-1,-1]]\n",
       "USLINKNO2: [[-1,-1,-1,593,-1,...,91459,89682,63042,89091,883],[882,117507,12130,16275,42915,...,-1,-1,-1,-1,-1],[-1,-1,-1,-1,-1,...,-1,-1,-1,-1,-1]]\n",
       "DSNODEID: [[-1,-1,-1,-1,-1,...,-1,-1,-1,-1,-1],[-1,-1,-1,-1,-1,...,-1,-1,-1,-1,-1],[-1,-1,-1,-1,-1,...,-1,-1,-1,-1,-1]]\n",
       "strmOrder: [[1,1,1,2,1,...,2,2,2,2,2],[2,3,2,2,3,...,1,1,1,1,1],[1,1,1,1,1,...,1,1,1,1,1]]\n",
       "Length: [[3847.9,2251.3,1469.3,1050.9,3551,...,2789.9,1238.9,2640.7,2414.3,3557.1],[2911.3,2409.5,1668.1,724.1,7403.7,...,1871.3,2777.5,4006,2436.9,719.9],[4964,3361.3,5683.5,1705.4,1552.7,...,2354.1,1326.7,1000.1,2044.7,868.5]]\n",
       "Magnitude: [[1,1,1,2,1,...,4,5,2,2,3],[4,6,4,2,8,...,1,1,1,1,1],[1,1,1,1,1,...,1,1,1,1,1]]\n",
       "DSContArea: [[9567845,8768556,8466694,19939082,9120895,...,51344956,79742280,40945124,18966482,39952012],[56264020,96734968,55261088,19388568,113535328,...,6912127,10256733,9292961,7553025.5,4734316.5],[12430192,7897780,16780592,6775369,7803790,...,10233235,9136435,4879280,5911555,5180645.5]]\n",
       "strmDrop: [[42.07,34.66,11.98,0.91,67.48,...,0,0,6.92,0,36.19],[25.08,8.53,0,0,8.44,...,2.2,8.47,9.2,1.15,0],[1.4,7.99,1.8,0,2.67,...,0,0,0,0.76,0]]\n",
       "..."
      ]
     },
     "execution_count": 10,
     "metadata": {},
     "output_type": "execute_result"
    }
   ],
   "source": [
    "pa_table"
   ]
  },
  {
   "cell_type": "code",
   "execution_count": 11,
   "metadata": {},
   "outputs": [
    {
     "data": {
      "text/plain": [
       "'EPSG:4326'"
      ]
     },
     "execution_count": 11,
     "metadata": {},
     "output_type": "execute_result"
    }
   ],
   "source": [
    "pa_info['crs']"
   ]
  },
  {
   "cell_type": "code",
   "execution_count": 12,
   "metadata": {},
   "outputs": [
    {
     "data": {
      "text/plain": [
       "pyarrow.lib.Table"
      ]
     },
     "execution_count": 12,
     "metadata": {},
     "output_type": "execute_result"
    }
   ],
   "source": [
    "type(pa_table)"
   ]
  },
  {
   "cell_type": "markdown",
   "metadata": {},
   "source": [
    "# Benchmark Read Methods on local file\n",
    "\n",
    "`timeit` is more accurate than `time`, for three reasons:\n",
    "\n",
    "- it repeats the tests many times to eliminate the influence of other tasks on your machine, such as disk flushing and OS scheduling.\n",
    "- it disables the garbage collector to prevent that process from skewing the results by scheduling a collection run at an inopportune moment.\n",
    "- it picks the most accurate timer for your OS. See timeit.default_timer.\n",
    "\n",
    "From https://stackoverflow.com/questions/17579357/time-time-vs-timeit-timeit\n"
   ]
  },
  {
   "cell_type": "markdown",
   "metadata": {},
   "source": [
    "## Before GeoArrow Import"
   ]
  },
  {
   "cell_type": "code",
   "execution_count": 13,
   "metadata": {},
   "outputs": [
    {
     "name": "stdout",
     "output_type": "stream",
     "text": [
      "3.52 ms ± 104 µs per loop (mean ± std. dev. of 7 runs, 100 loops each)\n"
     ]
    }
   ],
   "source": [
    "%%timeit\n",
    "pyogrio.list_layers(tdx_stream_7020038340_fp)"
   ]
  },
  {
   "cell_type": "code",
   "execution_count": 14,
   "metadata": {},
   "outputs": [
    {
     "name": "stdout",
     "output_type": "stream",
     "text": [
      "3.88 ms ± 73.2 µs per loop (mean ± std. dev. of 7 runs, 100 loops each)\n"
     ]
    }
   ],
   "source": [
    "%%timeit\n",
    "pyogrio.read_info(tdx_stream_7020038340_fp, layer=0)"
   ]
  },
  {
   "cell_type": "markdown",
   "metadata": {},
   "source": [
    "### `pyogrio.read_arrow()`"
   ]
  },
  {
   "cell_type": "code",
   "execution_count": 15,
   "metadata": {},
   "outputs": [
    {
     "name": "stdout",
     "output_type": "stream",
     "text": [
      "522 ms ± 10.5 ms per loop (mean ± std. dev. of 7 runs, 1 loop each)\n"
     ]
    }
   ],
   "source": [
    "%%timeit\n",
    "pyogrio.read_arrow(tdx_stream_7020038340_fp)"
   ]
  },
  {
   "cell_type": "code",
   "execution_count": 16,
   "metadata": {},
   "outputs": [],
   "source": [
    "pa_info, pa_table = pyogrio.read_arrow(tdx_stream_7020038340_fp)"
   ]
  },
  {
   "cell_type": "code",
   "execution_count": 17,
   "metadata": {},
   "outputs": [
    {
     "name": "stdout",
     "output_type": "stream",
     "text": [
      "434 ms ± 5.91 ms per loop (mean ± std. dev. of 7 runs, 1 loop each)\n"
     ]
    }
   ],
   "source": [
    "%%timeit\n",
    "# Looks like the conversion to pandas is fast\n",
    "# So combining methods could be performant\n",
    "pa_table.to_pandas()"
   ]
  },
  {
   "cell_type": "markdown",
   "metadata": {},
   "source": [
    "#### to Pandas DF\n",
    "NOTE that geom is a non-typed binary object"
   ]
  },
  {
   "cell_type": "code",
   "execution_count": 18,
   "metadata": {},
   "outputs": [
    {
     "name": "stdout",
     "output_type": "stream",
     "text": [
      "<class 'pandas.core.frame.DataFrame'>\n",
      "RangeIndex: 140097 entries, 0 to 140096\n",
      "Data columns (total 18 columns):\n",
      " #   Column      Non-Null Count   Dtype  \n",
      "---  ------      --------------   -----  \n",
      " 0   LINKNO      140097 non-null  int32  \n",
      " 1   DSLINKNO    140097 non-null  int32  \n",
      " 2   USLINKNO1   140097 non-null  int32  \n",
      " 3   USLINKNO2   140097 non-null  int32  \n",
      " 4   DSNODEID    140097 non-null  int64  \n",
      " 5   strmOrder   140097 non-null  int32  \n",
      " 6   Length      140097 non-null  float64\n",
      " 7   Magnitude   140097 non-null  int32  \n",
      " 8   DSContArea  140097 non-null  float64\n",
      " 9   strmDrop    140097 non-null  float64\n",
      " 10  Slope       140097 non-null  float64\n",
      " 11  StraightL   140097 non-null  float64\n",
      " 12  USContArea  140097 non-null  float64\n",
      " 13  WSNO        140097 non-null  int32  \n",
      " 14  DOUTEND     140097 non-null  float64\n",
      " 15  DOUTSTART   140097 non-null  float64\n",
      " 16  DOUTMID     140097 non-null  float64\n",
      " 17  geom        140097 non-null  object \n",
      "dtypes: float64(9), int32(7), int64(1), object(1)\n",
      "memory usage: 15.5+ MB\n"
     ]
    }
   ],
   "source": [
    "pa_geo_df = pa_table.to_pandas()\n",
    "pa_geo_df.info()"
   ]
  },
  {
   "cell_type": "code",
   "execution_count": 19,
   "metadata": {},
   "outputs": [
    {
     "data": {
      "text/plain": [
       "bytes"
      ]
     },
     "execution_count": 19,
     "metadata": {},
     "output_type": "execute_result"
    }
   ],
   "source": [
    "type(pa_geo_df.geom[0])"
   ]
  },
  {
   "cell_type": "markdown",
   "metadata": {},
   "source": [
    "### `pyogrio.read_dataframe()`"
   ]
  },
  {
   "cell_type": "code",
   "execution_count": 20,
   "metadata": {},
   "outputs": [
    {
     "name": "stdout",
     "output_type": "stream",
     "text": [
      "2.02 s ± 18.7 ms per loop (mean ± std. dev. of 7 runs, 1 loop each)\n"
     ]
    }
   ],
   "source": [
    "%%timeit\n",
    "pyogrio.read_dataframe(\n",
    "    tdx_stream_7020038340_fp, \n",
    "    layer=0,\n",
    "    use_arrow=True, \n",
    ")"
   ]
  },
  {
   "cell_type": "code",
   "execution_count": 21,
   "metadata": {},
   "outputs": [],
   "source": [
    "# %%timeit\n",
    "# pyogrio.read_dataframe(\n",
    "#     tdx_stream_7020038340_fp, \n",
    "#     layer=0,\n",
    "#     use_arrow=False, \n",
    "# )\n",
    "# 8.54 s ± 4.94 s per loop (mean ± std. dev. of 7 runs, 1 loop each)"
   ]
  },
  {
   "cell_type": "code",
   "execution_count": 22,
   "metadata": {},
   "outputs": [
    {
     "name": "stdout",
     "output_type": "stream",
     "text": [
      "<class 'geopandas.geodataframe.GeoDataFrame'>\n",
      "RangeIndex: 140097 entries, 0 to 140096\n",
      "Data columns (total 18 columns):\n",
      " #   Column      Non-Null Count   Dtype   \n",
      "---  ------      --------------   -----   \n",
      " 0   LINKNO      140097 non-null  int32   \n",
      " 1   DSLINKNO    140097 non-null  int32   \n",
      " 2   USLINKNO1   140097 non-null  int32   \n",
      " 3   USLINKNO2   140097 non-null  int32   \n",
      " 4   DSNODEID    140097 non-null  int64   \n",
      " 5   strmOrder   140097 non-null  int32   \n",
      " 6   Length      140097 non-null  float64 \n",
      " 7   Magnitude   140097 non-null  int32   \n",
      " 8   DSContArea  140097 non-null  float64 \n",
      " 9   strmDrop    140097 non-null  float64 \n",
      " 10  Slope       140097 non-null  float64 \n",
      " 11  StraightL   140097 non-null  float64 \n",
      " 12  USContArea  140097 non-null  float64 \n",
      " 13  WSNO        140097 non-null  int32   \n",
      " 14  DOUTEND     140097 non-null  float64 \n",
      " 15  DOUTSTART   140097 non-null  float64 \n",
      " 16  DOUTMID     140097 non-null  float64 \n",
      " 17  geometry    140097 non-null  geometry\n",
      "dtypes: float64(9), geometry(1), int32(7), int64(1)\n",
      "memory usage: 15.5 MB\n"
     ]
    }
   ],
   "source": [
    "pyo_gdf = pyogrio.read_dataframe(\n",
    "    tdx_stream_7020038340_fp, \n",
    "    layer=0,\n",
    "    use_arrow=True, \n",
    ")\n",
    "pyo_gdf.info()"
   ]
  },
  {
   "cell_type": "markdown",
   "metadata": {},
   "source": [
    "### `gpd.read_file()`"
   ]
  },
  {
   "cell_type": "code",
   "execution_count": 23,
   "metadata": {},
   "outputs": [
    {
     "name": "stdout",
     "output_type": "stream",
     "text": [
      "1.73 s ± 11.3 ms per loop (mean ± std. dev. of 7 runs, 1 loop each)\n"
     ]
    }
   ],
   "source": [
    "%%timeit\n",
    "gpd.read_file(\n",
    "    tdx_stream_7020038340_fp, \n",
    "    engine='pyogrio',\n",
    "    use_arrow=True,\n",
    ")"
   ]
  },
  {
   "cell_type": "code",
   "execution_count": 24,
   "metadata": {},
   "outputs": [
    {
     "name": "stdout",
     "output_type": "stream",
     "text": [
      "<class 'geopandas.geodataframe.GeoDataFrame'>\n",
      "RangeIndex: 140097 entries, 0 to 140096\n",
      "Data columns (total 18 columns):\n",
      " #   Column      Non-Null Count   Dtype   \n",
      "---  ------      --------------   -----   \n",
      " 0   LINKNO      140097 non-null  int32   \n",
      " 1   DSLINKNO    140097 non-null  int32   \n",
      " 2   USLINKNO1   140097 non-null  int32   \n",
      " 3   USLINKNO2   140097 non-null  int32   \n",
      " 4   DSNODEID    140097 non-null  int64   \n",
      " 5   strmOrder   140097 non-null  int32   \n",
      " 6   Length      140097 non-null  float64 \n",
      " 7   Magnitude   140097 non-null  int32   \n",
      " 8   DSContArea  140097 non-null  float64 \n",
      " 9   strmDrop    140097 non-null  float64 \n",
      " 10  Slope       140097 non-null  float64 \n",
      " 11  StraightL   140097 non-null  float64 \n",
      " 12  USContArea  140097 non-null  float64 \n",
      " 13  WSNO        140097 non-null  int32   \n",
      " 14  DOUTEND     140097 non-null  float64 \n",
      " 15  DOUTSTART   140097 non-null  float64 \n",
      " 16  DOUTMID     140097 non-null  float64 \n",
      " 17  geometry    140097 non-null  geometry\n",
      "dtypes: float64(9), geometry(1), int32(7), int64(1)\n",
      "memory usage: 15.5 MB\n"
     ]
    }
   ],
   "source": [
    "gpd_gdf = gpd.read_file(\n",
    "    tdx_stream_7020038340_fp, \n",
    "    engine='pyogrio',\n",
    "    use_arrow=True,\n",
    ")\n",
    "gpd_gdf.info()"
   ]
  },
  {
   "cell_type": "code",
   "execution_count": 25,
   "metadata": {},
   "outputs": [
    {
     "name": "stdout",
     "output_type": "stream",
     "text": [
      "2.9 s ± 78.8 ms per loop (mean ± std. dev. of 7 runs, 1 loop each)\n"
     ]
    }
   ],
   "source": [
    "%%timeit\n",
    "gpd.read_file(\n",
    "    tdx_stream_7020038340_fp, \n",
    "    engine='pyogrio',\n",
    "    use_arrow=False,\n",
    ")"
   ]
  },
  {
   "cell_type": "code",
   "execution_count": 26,
   "metadata": {},
   "outputs": [],
   "source": [
    "# %%timeit\n",
    "# gpd.read_file(\n",
    "#     tdx_stream_7020038340_fp, \n",
    "#     # engine='pyogrio',\n",
    "#     use_arrow=False,\n",
    "# )\n",
    "# 50.3 s ± 1.34 s per loop (mean ± std. dev. of 7 runs, 1 loop each)"
   ]
  },
  {
   "cell_type": "markdown",
   "metadata": {},
   "source": [
    "## After `geoarrow.pyarrow.io` import\n",
    "http://geoarrow.org/geoarrow-python/main/pyarrow.html#module-geoarrow.pyarrow.io"
   ]
  },
  {
   "cell_type": "code",
   "execution_count": 27,
   "metadata": {},
   "outputs": [],
   "source": [
    "from geoarrow.pyarrow import io"
   ]
  },
  {
   "cell_type": "markdown",
   "metadata": {},
   "source": [
    "### `ga.io.read_pyogrio_table()`\n",
    "\n",
    "A new approach using `geoarrow-pyarrow` [IO helpers](http://geoarrow.org/geoarrow-python/main/pyarrow.html#module-geoarrow.pyarrow.io):\n",
    "- http://geoarrow.org/geoarrow-python/main/pyarrow.html#geoarrow.pyarrow.io.read_pyogrio_table"
   ]
  },
  {
   "cell_type": "code",
   "execution_count": 28,
   "metadata": {},
   "outputs": [
    {
     "name": "stdout",
     "output_type": "stream",
     "text": [
      "516 ms ± 8.91 ms per loop (mean ± std. dev. of 7 runs, 1 loop each)\n"
     ]
    }
   ],
   "source": [
    "%%timeit\n",
    "io.read_pyogrio_table(tdx_stream_7020038340_fp)"
   ]
  },
  {
   "cell_type": "code",
   "execution_count": 29,
   "metadata": {},
   "outputs": [
    {
     "data": {
      "text/plain": [
       "pyarrow.Table\n",
       "LINKNO: int32\n",
       "DSLINKNO: int32\n",
       "USLINKNO1: int32\n",
       "USLINKNO2: int32\n",
       "DSNODEID: int64\n",
       "strmOrder: int32\n",
       "Length: double\n",
       "Magnitude: int32\n",
       "DSContArea: double\n",
       "strmDrop: double\n",
       "Slope: double\n",
       "StraightL: double\n",
       "USContArea: double\n",
       "WSNO: int32\n",
       "DOUTEND: double\n",
       "DOUTSTART: double\n",
       "DOUTMID: double\n",
       "geom: extension<geoarrow.wkb<WkbType>>\n",
       "----\n",
       "LINKNO: [[0,1,593,1777,2,...,114546,114547,115730,115731,116915],[117507,118099,118691,119283,119876,...,478,1070,1071,1662,2254],[2845,2846,2847,3438,3439,...,587,1180,1772,588,589]]\n",
       "DSLINKNO: [[1777,2369,1777,2369,4146,...,146515,115139,164275,116323,117507],[118099,141779,119875,119875,128163,...,35406,33630,35406,38366,39550],[33630,38958,41326,41918,42510,...,-1,-1,-1,-1,-1]]\n",
       "USLINKNO1: [[-1,-1,-1,0,-1,...,113954,113955,62448,106852,108034],[116915,1476,100930,16867,119284,...,-1,-1,-1,-1,-1],[-1,-1,-1,-1,-1,...,-1,-1,-1,-1,-1]]\n",
       "USLINKNO2: [[-1,-1,-1,593,-1,...,91459,89682,63042,89091,883],[882,117507,12130,16275,42915,...,-1,-1,-1,-1,-1],[-1,-1,-1,-1,-1,...,-1,-1,-1,-1,-1]]\n",
       "DSNODEID: [[-1,-1,-1,-1,-1,...,-1,-1,-1,-1,-1],[-1,-1,-1,-1,-1,...,-1,-1,-1,-1,-1],[-1,-1,-1,-1,-1,...,-1,-1,-1,-1,-1]]\n",
       "strmOrder: [[1,1,1,2,1,...,2,2,2,2,2],[2,3,2,2,3,...,1,1,1,1,1],[1,1,1,1,1,...,1,1,1,1,1]]\n",
       "Length: [[3847.9,2251.3,1469.3,1050.9,3551,...,2789.9,1238.9,2640.7,2414.3,3557.1],[2911.3,2409.5,1668.1,724.1,7403.7,...,1871.3,2777.5,4006,2436.9,719.9],[4964,3361.3,5683.5,1705.4,1552.7,...,2354.1,1326.7,1000.1,2044.7,868.5]]\n",
       "Magnitude: [[1,1,1,2,1,...,4,5,2,2,3],[4,6,4,2,8,...,1,1,1,1,1],[1,1,1,1,1,...,1,1,1,1,1]]\n",
       "DSContArea: [[9567845,8768556,8466694,19939082,9120895,...,51344956,79742280,40945124,18966482,39952012],[56264020,96734968,55261088,19388568,113535328,...,6912127,10256733,9292961,7553025.5,4734316.5],[12430192,7897780,16780592,6775369,7803790,...,10233235,9136435,4879280,5911555,5180645.5]]\n",
       "strmDrop: [[42.07,34.66,11.98,0.91,67.48,...,0,0,6.92,0,36.19],[25.08,8.53,0,0,8.44,...,2.2,8.47,9.2,1.15,0],[1.4,7.99,1.8,0,2.67,...,0,0,0,0.76,0]]\n",
       "..."
      ]
     },
     "execution_count": 29,
     "metadata": {},
     "output_type": "execute_result"
    }
   ],
   "source": [
    "io.read_pyogrio_table(tdx_stream_7020038340_fp)"
   ]
  },
  {
   "cell_type": "code",
   "execution_count": 30,
   "metadata": {},
   "outputs": [
    {
     "name": "stdout",
     "output_type": "stream",
     "text": [
      "<class 'geopandas.geodataframe.GeoDataFrame'>\n",
      "RangeIndex: 140097 entries, 0 to 140096\n",
      "Data columns (total 18 columns):\n",
      " #   Column      Non-Null Count   Dtype   \n",
      "---  ------      --------------   -----   \n",
      " 0   LINKNO      140097 non-null  int32   \n",
      " 1   DSLINKNO    140097 non-null  int32   \n",
      " 2   USLINKNO1   140097 non-null  int32   \n",
      " 3   USLINKNO2   140097 non-null  int32   \n",
      " 4   DSNODEID    140097 non-null  int64   \n",
      " 5   strmOrder   140097 non-null  int32   \n",
      " 6   Length      140097 non-null  float64 \n",
      " 7   Magnitude   140097 non-null  int32   \n",
      " 8   DSContArea  140097 non-null  float64 \n",
      " 9   strmDrop    140097 non-null  float64 \n",
      " 10  Slope       140097 non-null  float64 \n",
      " 11  StraightL   140097 non-null  float64 \n",
      " 12  USContArea  140097 non-null  float64 \n",
      " 13  WSNO        140097 non-null  int32   \n",
      " 14  DOUTEND     140097 non-null  float64 \n",
      " 15  DOUTSTART   140097 non-null  float64 \n",
      " 16  DOUTMID     140097 non-null  float64 \n",
      " 17  geometry    140097 non-null  geometry\n",
      "dtypes: float64(9), geometry(1), int32(7), int64(1)\n",
      "memory usage: 15.5 MB\n",
      "CPU times: user 14.3 s, sys: 956 ms, total: 15.3 s\n",
      "Wall time: 14.7 s\n"
     ]
    }
   ],
   "source": [
    "%%time\n",
    "gpd.read_file(\n",
    "    tdx_stream_7020038340_fp, \n",
    "    engine='pyogrio',\n",
    "    use_arrow=True,\n",
    ").info()\n",
    "# 15.7 s after importing geoarrow.pyarrow.io "
   ]
  },
  {
   "cell_type": "markdown",
   "metadata": {},
   "source": [
    "## After GeoArrow Import"
   ]
  },
  {
   "cell_type": "code",
   "execution_count": 31,
   "metadata": {},
   "outputs": [],
   "source": [
    "import geoarrow.pyarrow as ga\n",
    "import geoarrow.pandas as _"
   ]
  },
  {
   "cell_type": "markdown",
   "metadata": {},
   "source": [
    "### `pyogrio.read_arrow()` with `geoarrow`"
   ]
  },
  {
   "cell_type": "code",
   "execution_count": 32,
   "metadata": {},
   "outputs": [
    {
     "name": "stdout",
     "output_type": "stream",
     "text": [
      "548 ms ± 46.3 ms per loop (mean ± std. dev. of 7 runs, 1 loop each)\n"
     ]
    }
   ],
   "source": [
    "%%timeit\n",
    "pyogrio.read_arrow(tdx_stream_7020038340_fp)"
   ]
  },
  {
   "cell_type": "code",
   "execution_count": 33,
   "metadata": {},
   "outputs": [
    {
     "data": {
      "text/plain": [
       "{'crs': 'EPSG:4326',\n",
       " 'encoding': 'UTF-8',\n",
       " 'fields': array(['LINKNO', 'DSLINKNO', 'USLINKNO1', 'USLINKNO2', 'DSNODEID',\n",
       "        'strmOrder', 'Length', 'Magnitude', 'DSContArea', 'strmDrop',\n",
       "        'Slope', 'StraightL', 'USContArea', 'WSNO', 'DOUTEND', 'DOUTSTART',\n",
       "        'DOUTMID'], dtype=object),\n",
       " 'geometry_type': 'LineString',\n",
       " 'geometry_name': 'geom',\n",
       " 'fid_column': 'fid'}"
      ]
     },
     "execution_count": 33,
     "metadata": {},
     "output_type": "execute_result"
    }
   ],
   "source": [
    "ga_pa_info, ga_pa_table = pyogrio.read_arrow(tdx_stream_7020038340_fp)\n",
    "ga_pa_info"
   ]
  },
  {
   "cell_type": "code",
   "execution_count": 34,
   "metadata": {},
   "outputs": [
    {
     "data": {
      "text/plain": [
       "pyarrow.Table\n",
       "LINKNO: int32\n",
       "DSLINKNO: int32\n",
       "USLINKNO1: int32\n",
       "USLINKNO2: int32\n",
       "DSNODEID: int64\n",
       "strmOrder: int32\n",
       "Length: double\n",
       "Magnitude: int32\n",
       "DSContArea: double\n",
       "strmDrop: double\n",
       "Slope: double\n",
       "StraightL: double\n",
       "USContArea: double\n",
       "WSNO: int32\n",
       "DOUTEND: double\n",
       "DOUTSTART: double\n",
       "DOUTMID: double\n",
       "geom: extension<geoarrow.wkb<WkbType>>\n",
       "----\n",
       "LINKNO: [[0,1,593,1777,2,...,114546,114547,115730,115731,116915],[117507,118099,118691,119283,119876,...,478,1070,1071,1662,2254],[2845,2846,2847,3438,3439,...,587,1180,1772,588,589]]\n",
       "DSLINKNO: [[1777,2369,1777,2369,4146,...,146515,115139,164275,116323,117507],[118099,141779,119875,119875,128163,...,35406,33630,35406,38366,39550],[33630,38958,41326,41918,42510,...,-1,-1,-1,-1,-1]]\n",
       "USLINKNO1: [[-1,-1,-1,0,-1,...,113954,113955,62448,106852,108034],[116915,1476,100930,16867,119284,...,-1,-1,-1,-1,-1],[-1,-1,-1,-1,-1,...,-1,-1,-1,-1,-1]]\n",
       "USLINKNO2: [[-1,-1,-1,593,-1,...,91459,89682,63042,89091,883],[882,117507,12130,16275,42915,...,-1,-1,-1,-1,-1],[-1,-1,-1,-1,-1,...,-1,-1,-1,-1,-1]]\n",
       "DSNODEID: [[-1,-1,-1,-1,-1,...,-1,-1,-1,-1,-1],[-1,-1,-1,-1,-1,...,-1,-1,-1,-1,-1],[-1,-1,-1,-1,-1,...,-1,-1,-1,-1,-1]]\n",
       "strmOrder: [[1,1,1,2,1,...,2,2,2,2,2],[2,3,2,2,3,...,1,1,1,1,1],[1,1,1,1,1,...,1,1,1,1,1]]\n",
       "Length: [[3847.9,2251.3,1469.3,1050.9,3551,...,2789.9,1238.9,2640.7,2414.3,3557.1],[2911.3,2409.5,1668.1,724.1,7403.7,...,1871.3,2777.5,4006,2436.9,719.9],[4964,3361.3,5683.5,1705.4,1552.7,...,2354.1,1326.7,1000.1,2044.7,868.5]]\n",
       "Magnitude: [[1,1,1,2,1,...,4,5,2,2,3],[4,6,4,2,8,...,1,1,1,1,1],[1,1,1,1,1,...,1,1,1,1,1]]\n",
       "DSContArea: [[9567845,8768556,8466694,19939082,9120895,...,51344956,79742280,40945124,18966482,39952012],[56264020,96734968,55261088,19388568,113535328,...,6912127,10256733,9292961,7553025.5,4734316.5],[12430192,7897780,16780592,6775369,7803790,...,10233235,9136435,4879280,5911555,5180645.5]]\n",
       "strmDrop: [[42.07,34.66,11.98,0.91,67.48,...,0,0,6.92,0,36.19],[25.08,8.53,0,0,8.44,...,2.2,8.47,9.2,1.15,0],[1.4,7.99,1.8,0,2.67,...,0,0,0,0.76,0]]\n",
       "..."
      ]
     },
     "execution_count": 34,
     "metadata": {},
     "output_type": "execute_result"
    }
   ],
   "source": [
    "ga_pa_table"
   ]
  },
  {
   "cell_type": "markdown",
   "metadata": {},
   "source": [
    "NOTE: same read speed, but  geom is now extension<geoarrow.wkb<WkbType>>"
   ]
  },
  {
   "cell_type": "markdown",
   "metadata": {},
   "source": [
    "#### to Pandas Geoarrow DF\n",
    "\n",
    "`geom` type is `geoarrow.pandas.lib.GeoArrowExtensionScalar`"
   ]
  },
  {
   "cell_type": "code",
   "execution_count": 35,
   "metadata": {},
   "outputs": [
    {
     "name": "stdout",
     "output_type": "stream",
     "text": [
      "1.86 ms ± 57.4 µs per loop (mean ± std. dev. of 7 runs, 1,000 loops each)\n"
     ]
    }
   ],
   "source": [
    "%%timeit\n",
    "# Looks like the conversion to pandas is exceptionally fast!\n",
    "# So combining methods could be performant\n",
    "ga_pa_table.to_pandas()"
   ]
  },
  {
   "cell_type": "code",
   "execution_count": 36,
   "metadata": {},
   "outputs": [],
   "source": [
    "ga_pa_df = ga_pa_table.to_pandas()"
   ]
  },
  {
   "cell_type": "code",
   "execution_count": 37,
   "metadata": {},
   "outputs": [
    {
     "name": "stdout",
     "output_type": "stream",
     "text": [
      "<class 'pandas.core.frame.DataFrame'>\n",
      "RangeIndex: 140097 entries, 0 to 140096\n",
      "Data columns (total 18 columns):\n",
      " #   Column      Non-Null Count   Dtype                                                                                                                                                                                                                                                                                                                                                                                                                                                                                                                                                                                                                                                                                                                                                                                                                                                                                                                                                                                                                                                                                                                                                                                                                                                                                                                                                                                                                                                                                                                                                                                                                                                                                                                                                                                                                                                                                                                                                                                                                                                                                                                                                                                                                                                                                                                                                      \n",
      "---  ------      --------------   -----                                                                                                                                                                                                                                                                                                                                                                                                                                                                                                                                                                                                                                                                                                                                                                                                                                                                                                                                                                                                                                                                                                                                                                                                                                                                                                                                                                                                                                                                                                                                                                                                                                                                                                                                                                                                                                                                                                                                                                                                                                                                                                                                                                                                                                                                                                                                                      \n",
      " 0   LINKNO      140097 non-null  int32                                                                                                                                                                                                                                                                                                                                                                                                                                                                                                                                                                                                                                                                                                                                                                                                                                                                                                                                                                                                                                                                                                                                                                                                                                                                                                                                                                                                                                                                                                                                                                                                                                                                                                                                                                                                                                                                                                                                                                                                                                                                                                                                                                                                                                                                                                                                                      \n",
      " 1   DSLINKNO    140097 non-null  int32                                                                                                                                                                                                                                                                                                                                                                                                                                                                                                                                                                                                                                                                                                                                                                                                                                                                                                                                                                                                                                                                                                                                                                                                                                                                                                                                                                                                                                                                                                                                                                                                                                                                                                                                                                                                                                                                                                                                                                                                                                                                                                                                                                                                                                                                                                                                                      \n",
      " 2   USLINKNO1   140097 non-null  int32                                                                                                                                                                                                                                                                                                                                                                                                                                                                                                                                                                                                                                                                                                                                                                                                                                                                                                                                                                                                                                                                                                                                                                                                                                                                                                                                                                                                                                                                                                                                                                                                                                                                                                                                                                                                                                                                                                                                                                                                                                                                                                                                                                                                                                                                                                                                                      \n",
      " 3   USLINKNO2   140097 non-null  int32                                                                                                                                                                                                                                                                                                                                                                                                                                                                                                                                                                                                                                                                                                                                                                                                                                                                                                                                                                                                                                                                                                                                                                                                                                                                                                                                                                                                                                                                                                                                                                                                                                                                                                                                                                                                                                                                                                                                                                                                                                                                                                                                                                                                                                                                                                                                                      \n",
      " 4   DSNODEID    140097 non-null  int64                                                                                                                                                                                                                                                                                                                                                                                                                                                                                                                                                                                                                                                                                                                                                                                                                                                                                                                                                                                                                                                                                                                                                                                                                                                                                                                                                                                                                                                                                                                                                                                                                                                                                                                                                                                                                                                                                                                                                                                                                                                                                                                                                                                                                                                                                                                                                      \n",
      " 5   strmOrder   140097 non-null  int32                                                                                                                                                                                                                                                                                                                                                                                                                                                                                                                                                                                                                                                                                                                                                                                                                                                                                                                                                                                                                                                                                                                                                                                                                                                                                                                                                                                                                                                                                                                                                                                                                                                                                                                                                                                                                                                                                                                                                                                                                                                                                                                                                                                                                                                                                                                                                      \n",
      " 6   Length      140097 non-null  float64                                                                                                                                                                                                                                                                                                                                                                                                                                                                                                                                                                                                                                                                                                                                                                                                                                                                                                                                                                                                                                                                                                                                                                                                                                                                                                                                                                                                                                                                                                                                                                                                                                                                                                                                                                                                                                                                                                                                                                                                                                                                                                                                                                                                                                                                                                                                                    \n",
      " 7   Magnitude   140097 non-null  int32                                                                                                                                                                                                                                                                                                                                                                                                                                                                                                                                                                                                                                                                                                                                                                                                                                                                                                                                                                                                                                                                                                                                                                                                                                                                                                                                                                                                                                                                                                                                                                                                                                                                                                                                                                                                                                                                                                                                                                                                                                                                                                                                                                                                                                                                                                                                                      \n",
      " 8   DSContArea  140097 non-null  float64                                                                                                                                                                                                                                                                                                                                                                                                                                                                                                                                                                                                                                                                                                                                                                                                                                                                                                                                                                                                                                                                                                                                                                                                                                                                                                                                                                                                                                                                                                                                                                                                                                                                                                                                                                                                                                                                                                                                                                                                                                                                                                                                                                                                                                                                                                                                                    \n",
      " 9   strmDrop    140097 non-null  float64                                                                                                                                                                                                                                                                                                                                                                                                                                                                                                                                                                                                                                                                                                                                                                                                                                                                                                                                                                                                                                                                                                                                                                                                                                                                                                                                                                                                                                                                                                                                                                                                                                                                                                                                                                                                                                                                                                                                                                                                                                                                                                                                                                                                                                                                                                                                                    \n",
      " 10  Slope       140097 non-null  float64                                                                                                                                                                                                                                                                                                                                                                                                                                                                                                                                                                                                                                                                                                                                                                                                                                                                                                                                                                                                                                                                                                                                                                                                                                                                                                                                                                                                                                                                                                                                                                                                                                                                                                                                                                                                                                                                                                                                                                                                                                                                                                                                                                                                                                                                                                                                                    \n",
      " 11  StraightL   140097 non-null  float64                                                                                                                                                                                                                                                                                                                                                                                                                                                                                                                                                                                                                                                                                                                                                                                                                                                                                                                                                                                                                                                                                                                                                                                                                                                                                                                                                                                                                                                                                                                                                                                                                                                                                                                                                                                                                                                                                                                                                                                                                                                                                                                                                                                                                                                                                                                                                    \n",
      " 12  USContArea  140097 non-null  float64                                                                                                                                                                                                                                                                                                                                                                                                                                                                                                                                                                                                                                                                                                                                                                                                                                                                                                                                                                                                                                                                                                                                                                                                                                                                                                                                                                                                                                                                                                                                                                                                                                                                                                                                                                                                                                                                                                                                                                                                                                                                                                                                                                                                                                                                                                                                                    \n",
      " 13  WSNO        140097 non-null  int32                                                                                                                                                                                                                                                                                                                                                                                                                                                                                                                                                                                                                                                                                                                                                                                                                                                                                                                                                                                                                                                                                                                                                                                                                                                                                                                                                                                                                                                                                                                                                                                                                                                                                                                                                                                                                                                                                                                                                                                                                                                                                                                                                                                                                                                                                                                                                      \n",
      " 14  DOUTEND     140097 non-null  float64                                                                                                                                                                                                                                                                                                                                                                                                                                                                                                                                                                                                                                                                                                                                                                                                                                                                                                                                                                                                                                                                                                                                                                                                                                                                                                                                                                                                                                                                                                                                                                                                                                                                                                                                                                                                                                                                                                                                                                                                                                                                                                                                                                                                                                                                                                                                                    \n",
      " 15  DOUTSTART   140097 non-null  float64                                                                                                                                                                                                                                                                                                                                                                                                                                                                                                                                                                                                                                                                                                                                                                                                                                                                                                                                                                                                                                                                                                                                                                                                                                                                                                                                                                                                                                                                                                                                                                                                                                                                                                                                                                                                                                                                                                                                                                                                                                                                                                                                                                                                                                                                                                                                                    \n",
      " 16  DOUTMID     140097 non-null  float64                                                                                                                                                                                                                                                                                                                                                                                                                                                                                                                                                                                                                                                                                                                                                                                                                                                                                                                                                                                                                                                                                                                                                                                                                                                                                                                                                                                                                                                                                                                                                                                                                                                                                                                                                                                                                                                                                                                                                                                                                                                                                                                                                                                                                                                                                                                                                    \n",
      " 17  geom        140097 non-null  geoarrow.wkb{\"crs\":{\n",
      "  \"$schema\": \"https://proj.org/schemas/v0.7/projjson.schema.json\",\n",
      "  \"type\": \"GeographicCRS\",\n",
      "  \"name\": \"WGS 84\",\n",
      "  \"datum_ensemble\": {\n",
      "    \"name\": \"World Geodetic System 1984 ensemble\",\n",
      "    \"members\": [\n",
      "      {\n",
      "        \"name\": \"World Geodetic System 1984 (Transit)\",\n",
      "        \"id\": {\n",
      "          \"authority\": \"EPSG\",\n",
      "          \"code\": 1166\n",
      "        }\n",
      "      },\n",
      "      {\n",
      "        \"name\": \"World Geodetic System 1984 (G730)\",\n",
      "        \"id\": {\n",
      "          \"authority\": \"EPSG\",\n",
      "          \"code\": 1152\n",
      "        }\n",
      "      },\n",
      "      {\n",
      "        \"name\": \"World Geodetic System 1984 (G873)\",\n",
      "        \"id\": {\n",
      "          \"authority\": \"EPSG\",\n",
      "          \"code\": 1153\n",
      "        }\n",
      "      },\n",
      "      {\n",
      "        \"name\": \"World Geodetic System 1984 (G1150)\",\n",
      "        \"id\": {\n",
      "          \"authority\": \"EPSG\",\n",
      "          \"code\": 1154\n",
      "        }\n",
      "      },\n",
      "      {\n",
      "        \"name\": \"World Geodetic System 1984 (G1674)\",\n",
      "        \"id\": {\n",
      "          \"authority\": \"EPSG\",\n",
      "          \"code\": 1155\n",
      "        }\n",
      "      },\n",
      "      {\n",
      "        \"name\": \"World Geodetic System 1984 (G1762)\",\n",
      "        \"id\": {\n",
      "          \"authority\": \"EPSG\",\n",
      "          \"code\": 1156\n",
      "        }\n",
      "      },\n",
      "      {\n",
      "        \"name\": \"World Geodetic System 1984 (G2139)\",\n",
      "        \"id\": {\n",
      "          \"authority\": \"EPSG\",\n",
      "          \"code\": 1309\n",
      "        }\n",
      "      },\n",
      "      {\n",
      "        \"name\": \"World Geodetic System 1984 (G2296)\",\n",
      "        \"id\": {\n",
      "          \"authority\": \"EPSG\",\n",
      "          \"code\": 1383\n",
      "        }\n",
      "      }\n",
      "    ],\n",
      "    \"ellipsoid\": {\n",
      "      \"name\": \"WGS 84\",\n",
      "      \"semi_major_axis\": 6378137,\n",
      "      \"inverse_flattening\": 298.257223563\n",
      "    },\n",
      "    \"accuracy\": \"2.0\",\n",
      "    \"id\": {\n",
      "      \"authority\": \"EPSG\",\n",
      "      \"code\": 6326\n",
      "    }\n",
      "  },\n",
      "  \"coordinate_system\": {\n",
      "    \"subtype\": \"ellipsoidal\",\n",
      "    \"axis\": [\n",
      "      {\n",
      "        \"name\": \"Geodetic latitude\",\n",
      "        \"abbreviation\": \"Lat\",\n",
      "        \"direction\": \"north\",\n",
      "        \"unit\": \"degree\"\n",
      "      },\n",
      "      {\n",
      "        \"name\": \"Geodetic longitude\",\n",
      "        \"abbreviation\": \"Lon\",\n",
      "        \"direction\": \"east\",\n",
      "        \"unit\": \"degree\"\n",
      "      }\n",
      "    ]\n",
      "  },\n",
      "  \"scope\": \"Horizontal component of 3D system.\",\n",
      "  \"area\": \"World.\",\n",
      "  \"bbox\": {\n",
      "    \"south_latitude\": -90,\n",
      "    \"west_longitude\": -180,\n",
      "    \"north_latitude\": 90,\n",
      "    \"east_longitude\": 180\n",
      "  },\n",
      "  \"id\": {\n",
      "    \"authority\": \"EPSG\",\n",
      "    \"code\": 4326\n",
      "  }\n",
      "}}\n",
      "dtypes: float64(9), geoarrow.wkb{\"crs\":{\n",
      "  \"$schema\": \"https://proj.org/schemas/v0.7/projjson.schema.json\",\n",
      "  \"type\": \"GeographicCRS\",\n",
      "  \"name\": \"WGS 84\",\n",
      "  \"datum_ensemble\": {\n",
      "    \"name\": \"World Geodetic System 1984 ensemble\",\n",
      "    \"members\": [\n",
      "      {\n",
      "        \"name\": \"World Geodetic System 1984 (Transit)\",\n",
      "        \"id\": {\n",
      "          \"authority\": \"EPSG\",\n",
      "          \"code\": 1166\n",
      "        }\n",
      "      },\n",
      "      {\n",
      "        \"name\": \"World Geodetic System 1984 (G730)\",\n",
      "        \"id\": {\n",
      "          \"authority\": \"EPSG\",\n",
      "          \"code\": 1152\n",
      "        }\n",
      "      },\n",
      "      {\n",
      "        \"name\": \"World Geodetic System 1984 (G873)\",\n",
      "        \"id\": {\n",
      "          \"authority\": \"EPSG\",\n",
      "          \"code\": 1153\n",
      "        }\n",
      "      },\n",
      "      {\n",
      "        \"name\": \"World Geodetic System 1984 (G1150)\",\n",
      "        \"id\": {\n",
      "          \"authority\": \"EPSG\",\n",
      "          \"code\": 1154\n",
      "        }\n",
      "      },\n",
      "      {\n",
      "        \"name\": \"World Geodetic System 1984 (G1674)\",\n",
      "        \"id\": {\n",
      "          \"authority\": \"EPSG\",\n",
      "          \"code\": 1155\n",
      "        }\n",
      "      },\n",
      "      {\n",
      "        \"name\": \"World Geodetic System 1984 (G1762)\",\n",
      "        \"id\": {\n",
      "          \"authority\": \"EPSG\",\n",
      "          \"code\": 1156\n",
      "        }\n",
      "      },\n",
      "      {\n",
      "        \"name\": \"World Geodetic System 1984 (G2139)\",\n",
      "        \"id\": {\n",
      "          \"authority\": \"EPSG\",\n",
      "          \"code\": 1309\n",
      "        }\n",
      "      },\n",
      "      {\n",
      "        \"name\": \"World Geodetic System 1984 (G2296)\",\n",
      "        \"id\": {\n",
      "          \"authority\": \"EPSG\",\n",
      "          \"code\": 1383\n",
      "        }\n",
      "      }\n",
      "    ],\n",
      "    \"ellipsoid\": {\n",
      "      \"name\": \"WGS 84\",\n",
      "      \"semi_major_axis\": 6378137,\n",
      "      \"inverse_flattening\": 298.257223563\n",
      "    },\n",
      "    \"accuracy\": \"2.0\",\n",
      "    \"id\": {\n",
      "      \"authority\": \"EPSG\",\n",
      "      \"code\": 6326\n",
      "    }\n",
      "  },\n",
      "  \"coordinate_system\": {\n",
      "    \"subtype\": \"ellipsoidal\",\n",
      "    \"axis\": [\n",
      "      {\n",
      "        \"name\": \"Geodetic latitude\",\n",
      "        \"abbreviation\": \"Lat\",\n",
      "        \"direction\": \"north\",\n",
      "        \"unit\": \"degree\"\n",
      "      },\n",
      "      {\n",
      "        \"name\": \"Geodetic longitude\",\n",
      "        \"abbreviation\": \"Lon\",\n",
      "        \"direction\": \"east\",\n",
      "        \"unit\": \"degree\"\n",
      "      }\n",
      "    ]\n",
      "  },\n",
      "  \"scope\": \"Horizontal component of 3D system.\",\n",
      "  \"area\": \"World.\",\n",
      "  \"bbox\": {\n",
      "    \"south_latitude\": -90,\n",
      "    \"west_longitude\": -180,\n",
      "    \"north_latitude\": 90,\n",
      "    \"east_longitude\": 180\n",
      "  },\n",
      "  \"id\": {\n",
      "    \"authority\": \"EPSG\",\n",
      "    \"code\": 4326\n",
      "  }\n",
      "}}(1), int32(7), int64(1)\n",
      "memory usage: 568.2 MB\n"
     ]
    }
   ],
   "source": [
    "ga_pa_df.info()"
   ]
  },
  {
   "cell_type": "code",
   "execution_count": 38,
   "metadata": {},
   "outputs": [
    {
     "data": {
      "text/plain": [
       "geoarrow.pandas.lib.GeoArrowExtensionScalar"
      ]
     },
     "execution_count": 38,
     "metadata": {},
     "output_type": "execute_result"
    }
   ],
   "source": [
    "type(ga_pa_df.geom[0])"
   ]
  },
  {
   "cell_type": "markdown",
   "metadata": {},
   "source": []
  },
  {
   "cell_type": "code",
   "execution_count": 39,
   "metadata": {},
   "outputs": [
    {
     "name": "stdout",
     "output_type": "stream",
     "text": [
      "1.09 s ± 17.6 ms per loop (mean ± std. dev. of 7 runs, 1 loop each)\n"
     ]
    }
   ],
   "source": [
    "%%timeit\n",
    "# Can convert to geopandas geometry\n",
    "ga.to_geopandas(ga_pa_df.geom)"
   ]
  },
  {
   "cell_type": "code",
   "execution_count": 40,
   "metadata": {},
   "outputs": [
    {
     "data": {
      "text/plain": [
       "0         LINESTRING (-69.67822 46.41356, -69.67822 46.4...\n",
       "1         LINESTRING (-69.68589 46.40778, -69.686 46.407...\n",
       "2         LINESTRING (-69.67822 46.41356, -69.67811 46.4...\n",
       "3         LINESTRING (-69.68589 46.40778, -69.68589 46.4...\n",
       "4         LINESTRING (-69.687 46.37911, -69.687 46.379, ...\n",
       "                                ...                        \n",
       "140092    LINESTRING (-81.59922 24.64033, -81.59911 24.6...\n",
       "140093    LINESTRING (-81.63022 24.61767, -81.63011 24.6...\n",
       "140094    LINESTRING (-81.60144 24.58478, -81.60156 24.5...\n",
       "140095    LINESTRING (-81.64478 24.57489, -81.64489 24.5...\n",
       "140096    LINESTRING (-81.68 24.559, -81.68011 24.55911,...\n",
       "Length: 140097, dtype: geometry"
      ]
     },
     "execution_count": 40,
     "metadata": {},
     "output_type": "execute_result"
    }
   ],
   "source": [
    "# Can convert to geopandas geometry\n",
    "gpd_geometry = ga.to_geopandas(ga_pa_df.geom)\n",
    "gpd_geometry"
   ]
  },
  {
   "cell_type": "code",
   "execution_count": 41,
   "metadata": {},
   "outputs": [
    {
     "data": {
      "text/plain": [
       "shapely.geometry.linestring.LineString"
      ]
     },
     "execution_count": 41,
     "metadata": {},
     "output_type": "execute_result"
    }
   ],
   "source": [
    "type(gpd_geometry[0])"
   ]
  },
  {
   "cell_type": "markdown",
   "metadata": {},
   "source": [
    "### `pyogrio.read_dataframe()` with geoarrow"
   ]
  },
  {
   "cell_type": "code",
   "execution_count": 42,
   "metadata": {},
   "outputs": [],
   "source": [
    "# %%timeit\n",
    "# pyogrio.read_dataframe(\n",
    "#     tdx_stream_7020038340_fp, \n",
    "#     layer=0,\n",
    "#     use_arrow=True, # 50% faster, but doesn't seem to work with s3\n",
    "# )\n",
    "# 24.5 s ± 1.01 s per loop (mean ± std. dev. of 7 runs, 1 loop each)"
   ]
  },
  {
   "cell_type": "markdown",
   "metadata": {},
   "source": [
    "NOTE: this is 6.4 times slower!  13.7 sec vs 2.15 s before importing geoarrow"
   ]
  },
  {
   "cell_type": "markdown",
   "metadata": {},
   "source": [
    "### `gpd.read_file()` with geoarrow"
   ]
  },
  {
   "cell_type": "code",
   "execution_count": 43,
   "metadata": {},
   "outputs": [],
   "source": [
    "# %%timeit\n",
    "# gpd.read_file(\n",
    "#     tdx_stream_7020038340_fp, \n",
    "#     engine='pyogrio',\n",
    "#     use_arrow=True,\n",
    "# )\n",
    "# 22.5 s ± 1.26 s per loop (mean ± std. dev. of 7 runs, 1 loop each)"
   ]
  },
  {
   "cell_type": "markdown",
   "metadata": {},
   "source": [
    "NOTE: this is 9.0 times slower!  14.1 sec vs 1.57 s before importign geoarrow"
   ]
  },
  {
   "cell_type": "markdown",
   "metadata": {},
   "source": [
    "## Conclusions on Read Method Performance\n",
    "\n",
    "Reading all fields in the 702.3 MB 'TDX_streamnet_7020038340_01.gpkg' file.\n",
    "\n",
    "| Function                   | engine  | use_arrow | geoarrow | time             | relative |\n",
    "|----------------------------|---------|-----------|----------|------------------|---------:|\n",
    "| `pyogrio.read_arrow()`     | NA      | NA        | No       | 535 ms ± 12.9 ms | 1.0      |\n",
    "| `pyogrio.read_dataframe()` | NA      | True      | No       | 2.24 s ± 18.8 ms | 4.2      |\n",
    "| `pyogrio.read_dataframe()` | NA      | False     | No       | 8.54 s ± 4.94 s  | 16.0     |\n",
    "| `gpd.read_file()`          | pyogrio | True      | No       | 1.97 s ± 10.5 ms | 3.7      |\n",
    "| `gpd.read_file()`          | pyogrio | False     | No       | 3.06 s ± 29.1 ms | 5.7      |\n",
    "| `gpd.read_file()`          | fiona   | False     | No       | 50.3 s ± 1.34 s  | 94.0     |\n",
    "| `pyogrio.read_arrow()`     | NA      | NA        | Yes      | 552 ms ± 18.2 ms | 1.0      |\n",
    "| `pyogrio.read_dataframe()` | NA      | True      | Yes      | 13.7 s ± 391 ms  | 25.6     |\n",
    "| `gpd.read_file()`          | pyogrio | True      | Yes      | 14.1 s ± 1.11 s  | 26.4     |\n",
    "| `io.read_pyogrio_table()`  | pyogrio | True      | Yes      | 563 ms ± 27.9 ms | 1.1      |\n",
    "\n",
    "\n",
    "\n",
    "`pyogrio.read_arrow()` is ~4x faster than the fastest alternative method.\n",
    "\n",
    "`gpd.read_file(fp, engine='pyogrio', use_arrow=True)` is the 2nd fastest method, but only before importing GeoArrow.\n",
    "\n",
    "`gpd.read_file()` is the slowest method, 96x slower than `pyogrio.read_arrow()` and 16.6x slower than adding `engine='pyogrio', use_arrow=True` arguments!\n",
    "\n",
    "Importing GeoArrow massively slows down `pyogrio.read_dataframe()` and `gpd.read_file()`. Read speeds for `pyogrio.read_arrow()` do not change.\n",
    "\n",
    "NOTE:\n",
    "- Based on commit 06e2d6d after updating the environment to leverage [GDAL v3.9](https://github.com/OSGeo/gdal/blob/v3.9.0/NEWS.md) and install the new [geoarrow-python](https://github.com/geoarrow/geoarrow-python) in commit 6552d34, with the following library versions:\n",
    "    ```yml\n",
    "    - gdal  =3.9.0\n",
    "    - pyogrio =0.8.0\n",
    "    - pyarrow =16.1.0\n",
    "    - geopandas =0.14.4\n",
    "    ```\n",
    "- `pyogrio.read_dataframe(use_arrow=True)` took 5-8 seconds (2-3 times slower!) when running a previous environment with gdal-3.8.5. It is critical to use the specified environment!"
   ]
  },
  {
   "cell_type": "markdown",
   "metadata": {},
   "source": [
    "# Convert Arrow Dtypes"
   ]
  },
  {
   "cell_type": "markdown",
   "metadata": {},
   "source": [
    "## Convert non-geom only"
   ]
  },
  {
   "cell_type": "code",
   "execution_count": 44,
   "metadata": {},
   "outputs": [
    {
     "name": "stdout",
     "output_type": "stream",
     "text": [
      "<class 'pandas.core.frame.DataFrame'>\n",
      "RangeIndex: 140097 entries, 0 to 140096\n",
      "Data columns (total 17 columns):\n",
      " #   Column      Non-Null Count   Dtype  \n",
      "---  ------      --------------   -----  \n",
      " 0   LINKNO      140097 non-null  int32  \n",
      " 1   DSLINKNO    140097 non-null  int32  \n",
      " 2   USLINKNO1   140097 non-null  int32  \n",
      " 3   USLINKNO2   140097 non-null  int32  \n",
      " 4   DSNODEID    140097 non-null  int64  \n",
      " 5   strmOrder   140097 non-null  int32  \n",
      " 6   Length      140097 non-null  float64\n",
      " 7   Magnitude   140097 non-null  int32  \n",
      " 8   DSContArea  140097 non-null  float64\n",
      " 9   strmDrop    140097 non-null  float64\n",
      " 10  Slope       140097 non-null  float64\n",
      " 11  StraightL   140097 non-null  float64\n",
      " 12  USContArea  140097 non-null  float64\n",
      " 13  WSNO        140097 non-null  int32  \n",
      " 14  DOUTEND     140097 non-null  float64\n",
      " 15  DOUTSTART   140097 non-null  float64\n",
      " 16  DOUTMID     140097 non-null  float64\n",
      "dtypes: float64(9), int32(7), int64(1)\n",
      "memory usage: 14.4 MB\n",
      "<class 'pandas.core.frame.DataFrame'>\n",
      "RangeIndex: 140097 entries, 0 to 140096\n",
      "Data columns (total 17 columns):\n",
      " #   Column      Non-Null Count   Dtype          \n",
      "---  ------      --------------   -----          \n",
      " 0   LINKNO      140097 non-null  int32[pyarrow] \n",
      " 1   DSLINKNO    140097 non-null  int32[pyarrow] \n",
      " 2   USLINKNO1   140097 non-null  int32[pyarrow] \n",
      " 3   USLINKNO2   140097 non-null  int32[pyarrow] \n",
      " 4   DSNODEID    140097 non-null  int64[pyarrow] \n",
      " 5   strmOrder   140097 non-null  int32[pyarrow] \n",
      " 6   Length      140097 non-null  double[pyarrow]\n",
      " 7   Magnitude   140097 non-null  int32[pyarrow] \n",
      " 8   DSContArea  140097 non-null  double[pyarrow]\n",
      " 9   strmDrop    140097 non-null  double[pyarrow]\n",
      " 10  Slope       140097 non-null  double[pyarrow]\n",
      " 11  StraightL   140097 non-null  double[pyarrow]\n",
      " 12  USContArea  140097 non-null  double[pyarrow]\n",
      " 13  WSNO        140097 non-null  int32[pyarrow] \n",
      " 14  DOUTEND     140097 non-null  double[pyarrow]\n",
      " 15  DOUTSTART   140097 non-null  double[pyarrow]\n",
      " 16  DOUTMID     140097 non-null  double[pyarrow]\n",
      "dtypes: double[pyarrow](9), int32[pyarrow](7), int64[pyarrow](1)\n",
      "memory usage: 14.4 MB\n"
     ]
    }
   ],
   "source": [
    "# Try converting to arrow dtypes to save storage and speed computation\n",
    "# NOTE: Can't convert geometry to geoarrow using this menthod\n",
    "df = gpd_gdf.drop(columns='geometry')\n",
    "df.info()\n",
    "\n",
    "pa_df = df.convert_dtypes(dtype_backend='pyarrow')\n",
    "pa_df.info()"
   ]
  },
  {
   "cell_type": "code",
   "execution_count": 45,
   "metadata": {},
   "outputs": [
    {
     "data": {
      "text/plain": [
       "numpy.int32"
      ]
     },
     "execution_count": 45,
     "metadata": {},
     "output_type": "execute_result"
    }
   ],
   "source": [
    "type(df.LINKNO[0])"
   ]
  },
  {
   "cell_type": "code",
   "execution_count": 46,
   "metadata": {},
   "outputs": [
    {
     "data": {
      "text/plain": [
       "int"
      ]
     },
     "execution_count": 46,
     "metadata": {},
     "output_type": "execute_result"
    }
   ],
   "source": [
    "type(pa_df.LINKNO[0])"
   ]
  },
  {
   "cell_type": "markdown",
   "metadata": {},
   "source": [
    "PyArrow doesn't seem to save memory for non-geomery fields"
   ]
  },
  {
   "cell_type": "markdown",
   "metadata": {},
   "source": [
    "## Convert GeoArrow PyArrow Table"
   ]
  },
  {
   "cell_type": "code",
   "execution_count": 47,
   "metadata": {},
   "outputs": [],
   "source": [
    "# converting other dtypes has an error\n",
    "# ga_pa_df.convert_dtypes(dtype_backend='pyarrow')"
   ]
  },
  {
   "cell_type": "code",
   "execution_count": 48,
   "metadata": {},
   "outputs": [],
   "source": [
    "# TODO: Try `ga_pa_table[1].to_pandas()` with a type mapper\n",
    "# test_ga_df = ga_pa_table[1].to_pandas()"
   ]
  },
  {
   "cell_type": "markdown",
   "metadata": {},
   "source": [
    "# Benchmark Write Methods"
   ]
  },
  {
   "cell_type": "markdown",
   "metadata": {},
   "source": [
    "## Compare Numpy vs Arrow backed dataframes with no geometry\n",
    "\n",
    "from otherwise identical Pandas dataframes created above."
   ]
  },
  {
   "cell_type": "markdown",
   "metadata": {},
   "source": [
    "### Numpy-backed DF"
   ]
  },
  {
   "cell_type": "code",
   "execution_count": 49,
   "metadata": {},
   "outputs": [],
   "source": [
    "test_df_parquet_path = data_dir / 'test_df.parquet'"
   ]
  },
  {
   "cell_type": "code",
   "execution_count": 50,
   "metadata": {},
   "outputs": [
    {
     "name": "stdout",
     "output_type": "stream",
     "text": [
      "138 ms ± 2.29 ms per loop (mean ± std. dev. of 7 runs, 10 loops each)\n"
     ]
    }
   ],
   "source": [
    "%%timeit\n",
    "df.to_parquet(test_df_parquet_path, compression='zstd',)"
   ]
  },
  {
   "cell_type": "code",
   "execution_count": 51,
   "metadata": {},
   "outputs": [
    {
     "data": {
      "text/plain": [
       "9244772"
      ]
     },
     "execution_count": 51,
     "metadata": {},
     "output_type": "execute_result"
    }
   ],
   "source": [
    "local_fs.info(test_df_parquet_path)['size']"
   ]
  },
  {
   "cell_type": "code",
   "execution_count": 52,
   "metadata": {},
   "outputs": [
    {
     "name": "stdout",
     "output_type": "stream",
     "text": [
      "11.2 ms ± 1.31 ms per loop (mean ± std. dev. of 7 runs, 1 loop each)\n"
     ]
    }
   ],
   "source": [
    "%%timeit\n",
    "pd.read_parquet(test_df_parquet_path)"
   ]
  },
  {
   "cell_type": "markdown",
   "metadata": {},
   "source": [
    "### Arrow-backed DF"
   ]
  },
  {
   "cell_type": "code",
   "execution_count": 53,
   "metadata": {},
   "outputs": [],
   "source": [
    "test_pa_df_parquet_path = data_dir / 'test_pa_df.parquet'"
   ]
  },
  {
   "cell_type": "code",
   "execution_count": 54,
   "metadata": {},
   "outputs": [
    {
     "name": "stdout",
     "output_type": "stream",
     "text": [
      "147 ms ± 9.35 ms per loop (mean ± std. dev. of 7 runs, 10 loops each)\n"
     ]
    }
   ],
   "source": [
    "%%timeit\n",
    "pa_df.to_parquet(test_pa_df_parquet_path, compression='zstd',)"
   ]
  },
  {
   "cell_type": "code",
   "execution_count": 55,
   "metadata": {},
   "outputs": [
    {
     "data": {
      "text/plain": [
       "9245108"
      ]
     },
     "execution_count": 55,
     "metadata": {},
     "output_type": "execute_result"
    }
   ],
   "source": [
    "local_fs.info(test_pa_df_parquet_path)['size']"
   ]
  },
  {
   "cell_type": "code",
   "execution_count": 56,
   "metadata": {},
   "outputs": [
    {
     "name": "stdout",
     "output_type": "stream",
     "text": [
      "9.53 ms ± 80.9 µs per loop (mean ± std. dev. of 7 runs, 100 loops each)\n"
     ]
    }
   ],
   "source": [
    "%%timeit\n",
    "pd.read_parquet(test_pa_df_parquet_path)"
   ]
  },
  {
   "cell_type": "markdown",
   "metadata": {},
   "source": [
    "Conclusion: about the same write speed and storage size!"
   ]
  },
  {
   "cell_type": "markdown",
   "metadata": {},
   "source": [
    "## Compare geometry dtypes\n",
    "Three different types of dataframes with geometry info:\n",
    "- `gpd_gdf`: GeoPandas Dataframe with Shapely geometry\n",
    "- `pa_geo_df`: Pandas Dataframe converted from pyarrow table BEFORE importing GeoArrow\n",
    "- `ga_pa_df`: Pandas Dataframe converted from pyarrow table AFTER importing GeoArrow"
   ]
  },
  {
   "cell_type": "markdown",
   "metadata": {},
   "source": [
    "## Geopandas GDF"
   ]
  },
  {
   "cell_type": "code",
   "execution_count": 57,
   "metadata": {},
   "outputs": [
    {
     "data": {
      "text/plain": [
       "<geopandas.array.GeometryDtype at 0x16a813050>"
      ]
     },
     "execution_count": 57,
     "metadata": {},
     "output_type": "execute_result"
    }
   ],
   "source": [
    "# Geometry\n",
    "gpd_gdf.geometry.dtype"
   ]
  },
  {
   "cell_type": "code",
   "execution_count": 58,
   "metadata": {},
   "outputs": [
    {
     "data": {
      "text/plain": [
       "shapely.geometry.linestring.LineString"
      ]
     },
     "execution_count": 58,
     "metadata": {},
     "output_type": "execute_result"
    }
   ],
   "source": [
    "type(gpd_gdf.geometry[0])"
   ]
  },
  {
   "cell_type": "code",
   "execution_count": 59,
   "metadata": {},
   "outputs": [
    {
     "name": "stdout",
     "output_type": "stream",
     "text": [
      "<class 'geopandas.geodataframe.GeoDataFrame'>\n",
      "RangeIndex: 140097 entries, 0 to 140096\n",
      "Data columns (total 18 columns):\n",
      " #   Column      Non-Null Count   Dtype   \n",
      "---  ------      --------------   -----   \n",
      " 0   LINKNO      140097 non-null  int32   \n",
      " 1   DSLINKNO    140097 non-null  int32   \n",
      " 2   USLINKNO1   140097 non-null  int32   \n",
      " 3   USLINKNO2   140097 non-null  int32   \n",
      " 4   DSNODEID    140097 non-null  int64   \n",
      " 5   strmOrder   140097 non-null  int32   \n",
      " 6   Length      140097 non-null  float64 \n",
      " 7   Magnitude   140097 non-null  int32   \n",
      " 8   DSContArea  140097 non-null  float64 \n",
      " 9   strmDrop    140097 non-null  float64 \n",
      " 10  Slope       140097 non-null  float64 \n",
      " 11  StraightL   140097 non-null  float64 \n",
      " 12  USContArea  140097 non-null  float64 \n",
      " 13  WSNO        140097 non-null  int32   \n",
      " 14  DOUTEND     140097 non-null  float64 \n",
      " 15  DOUTSTART   140097 non-null  float64 \n",
      " 16  DOUTMID     140097 non-null  float64 \n",
      " 17  geometry    140097 non-null  geometry\n",
      "dtypes: float64(9), geometry(1), int32(7), int64(1)\n",
      "memory usage: 15.5 MB\n"
     ]
    }
   ],
   "source": [
    "gpd_gdf.info()"
   ]
  },
  {
   "cell_type": "code",
   "execution_count": 60,
   "metadata": {},
   "outputs": [],
   "source": [
    "test_gpd_gdf_parquet_path = data_dir / 'test_gpd_gdf.parquet'"
   ]
  },
  {
   "cell_type": "markdown",
   "metadata": {},
   "source": [
    "## Test Geoparquet compressions"
   ]
  },
  {
   "cell_type": "code",
   "execution_count": 61,
   "metadata": {},
   "outputs": [
    {
     "name": "stdout",
     "output_type": "stream",
     "text": [
      "4.2 s ± 117 ms per loop (mean ± std. dev. of 7 runs, 1 loop each)\n"
     ]
    }
   ],
   "source": [
    "%%timeit\n",
    "gpd_gdf.to_parquet(\n",
    "    test_gpd_gdf_parquet_path, \n",
    "    compression='zstd', # default is 'snappy'\n",
    ")\n",
    "# snappy: 3.52 s ± 54.8 ms\n",
    "# brotli: 53.8 s ± 1.06 s\n",
    "#    lz4: 3.75 s ± 39.5 ms\n",
    "#   zstd: 4.15 s ± 47.8 ms\n",
    "#   None: 2.72 s ± 37.6 ms"
   ]
  },
  {
   "cell_type": "code",
   "execution_count": 62,
   "metadata": {},
   "outputs": [
    {
     "data": {
      "text/plain": [
       "186790357"
      ]
     },
     "execution_count": 62,
     "metadata": {},
     "output_type": "execute_result"
    }
   ],
   "source": [
    "local_fs.info(test_gpd_gdf_parquet_path)['size']\n",
    "\n",
    "# snappy: 300048527\n",
    "# brotli: 109245316\n",
    "#    lz4: 314102847\n",
    "#   zstd: 186790117\n",
    "#   None: 593366150"
   ]
  },
  {
   "cell_type": "code",
   "execution_count": 63,
   "metadata": {},
   "outputs": [
    {
     "name": "stdout",
     "output_type": "stream",
     "text": [
      "2.49 s ± 29.3 ms per loop (mean ± std. dev. of 7 runs, 1 loop each)\n"
     ]
    }
   ],
   "source": [
    "%%timeit\n",
    "# Re-read entire file\n",
    "gpd.read_parquet(test_gpd_gdf_parquet_path)\n",
    "\n",
    "# snappy: 2.22 s ± 43.2 ms\n",
    "# brotli: 3.26 s ± 40.1 ms\n",
    "#    lz4: 2.10 s ± 65 ms\n",
    "#   zstd: 2.37 s ± 16.2 ms\n",
    "#   None: 2.02 s ± 64.2 ms"
   ]
  },
  {
   "cell_type": "code",
   "execution_count": 92,
   "metadata": {},
   "outputs": [
    {
     "name": "stdout",
     "output_type": "stream",
     "text": [
      "['LINKNO', 'DSLINKNO', 'USLINKNO1', 'USLINKNO2', 'DSNODEID', 'strmOrder', 'Length', 'Magnitude', 'DSContArea', 'strmDrop', 'Slope', 'StraightL', 'USContArea', 'WSNO', 'DOUTEND', 'DOUTSTART', 'DOUTMID']\n"
     ]
    }
   ],
   "source": [
    "columns_to_read = list(gpd_gdf.columns)\n",
    "columns_to_read.remove('geometry')\n",
    "print(columns_to_read)"
   ]
  },
  {
   "cell_type": "code",
   "execution_count": 66,
   "metadata": {},
   "outputs": [
    {
     "name": "stdout",
     "output_type": "stream",
     "text": [
      "10.7 ms ± 152 µs per loop (mean ± std. dev. of 7 runs, 100 loops each)\n"
     ]
    }
   ],
   "source": [
    "%%timeit\n",
    "# Re-read non-geometry columns, using Pandas method\n",
    "pd.read_parquet(test_gpd_gdf_parquet_path, columns=columns_to_read)"
   ]
  },
  {
   "cell_type": "markdown",
   "metadata": {},
   "source": [
    "#### vs Geopackage"
   ]
  },
  {
   "cell_type": "code",
   "execution_count": 68,
   "metadata": {},
   "outputs": [],
   "source": [
    "# Save to Geopackage\n",
    "test_gpd_gdf_gpkg_path = data_dir / 'test_gpd_gdf.gpkg'"
   ]
  },
  {
   "cell_type": "code",
   "execution_count": 69,
   "metadata": {},
   "outputs": [
    {
     "name": "stdout",
     "output_type": "stream",
     "text": [
      "10.1 s ± 269 ms per loop (mean ± std. dev. of 7 runs, 1 loop each)\n"
     ]
    }
   ],
   "source": [
    "%%timeit\n",
    "gpd_gdf.to_file(test_gpd_gdf_gpkg_path, layer='TDX_streamnet_7020038340_01', driver='GPKG')"
   ]
  },
  {
   "cell_type": "code",
   "execution_count": 70,
   "metadata": {},
   "outputs": [
    {
     "data": {
      "text/plain": [
       "703127552"
      ]
     },
     "execution_count": 70,
     "metadata": {},
     "output_type": "execute_result"
    }
   ],
   "source": [
    "local_fs.info(test_gpd_gdf_gpkg_path)['size']"
   ]
  },
  {
   "cell_type": "markdown",
   "metadata": {},
   "source": [
    "## Write Compression Performance\n",
    "\n",
    "Benchmarks based on reading all fields in the **702.3 MB** `TDX_streamnet_7020038340_01.gpkg` file.\n",
    "\n",
    "| Compression | `gdf.to_parquet()` time | relative write speed | size in bytes             | relative size | `gpd.read_parquet()` time | relative read speed |\n",
    "|-------------|-------------------------|----------------------|---------------------------|---------------|---------------------------|---------------------|\n",
    "| snappy      |  3.52 s ± 54.8 ms       | 1.0                  |              300,048,527  | 2.7           |  2.22 s ± 43.2 ms         | 1.1                 |\n",
    "| brotli      |  53.8 s ± 1.06 s        | 15.3                 |              109,245,316  | 1.0           |  3.26 s ± 40.1 ms         | 1.6                 |\n",
    "| lz4         |  3.75 s ± 39.5 ms       | 1.1                  |              314,102,847  | 2.9           |  2.10 s ± 65 ms           | 1.0                 |\n",
    "| zstd        |  4.15 s ± 47.8 ms       | 1.2                  |              186,790,117  | 1.7           |  2.37 s ± 16.2            | 1.1                 |\n",
    "| none        | 2.72 s ± 37.6 ms        | 0.8                  |              593,366,150  | 5.4           | 2.02 s ± 64.2 ms          | 1.0                 |\n",
    "\n",
    "NOTE: Writing the GeoDataframe back to GeoPackage, using `gdf.to_file(path, driver='GPKG')`, takes 11.4 s ± 823 ms and with a file size of 702.1 MB. This should have automatically used the SOZip compression. https://gdal.org/drivers/vector/gpkg.html#compressed-files. So writing to GeoPackage is both much slower and uses more storage than GeoParquet\n",
    "\n",
    "### Conclusions\n",
    "\n",
    "Use `zstd` compression, because it provides the highest levels of compression (31% the size of non-compressed) with read speeds that are are only 17% slower."
   ]
  },
  {
   "cell_type": "markdown",
   "metadata": {},
   "source": [
    "# Benchmark other Write Methods\n",
    "\n",
    "Three different types of dataframes with geometry info:\n",
    "- `gpd_gdf`: GeoPandas Dataframe with Shapely geometry (DONE above)\n",
    "- `pa_geo_df`: Pandas Dataframe converted from pyarrow table BEFORE importing GeoArrow\n",
    "- `ga_pa_df`: Pandas Dataframe converted from pyarrow table AFTER importing GeoArrow"
   ]
  },
  {
   "cell_type": "markdown",
   "metadata": {},
   "source": [
    "### Pandas DF"
   ]
  },
  {
   "cell_type": "code",
   "execution_count": 71,
   "metadata": {},
   "outputs": [
    {
     "name": "stdout",
     "output_type": "stream",
     "text": [
      "<class 'pandas.core.frame.DataFrame'>\n",
      "RangeIndex: 140097 entries, 0 to 140096\n",
      "Data columns (total 18 columns):\n",
      " #   Column      Non-Null Count   Dtype  \n",
      "---  ------      --------------   -----  \n",
      " 0   LINKNO      140097 non-null  int32  \n",
      " 1   DSLINKNO    140097 non-null  int32  \n",
      " 2   USLINKNO1   140097 non-null  int32  \n",
      " 3   USLINKNO2   140097 non-null  int32  \n",
      " 4   DSNODEID    140097 non-null  int64  \n",
      " 5   strmOrder   140097 non-null  int32  \n",
      " 6   Length      140097 non-null  float64\n",
      " 7   Magnitude   140097 non-null  int32  \n",
      " 8   DSContArea  140097 non-null  float64\n",
      " 9   strmDrop    140097 non-null  float64\n",
      " 10  Slope       140097 non-null  float64\n",
      " 11  StraightL   140097 non-null  float64\n",
      " 12  USContArea  140097 non-null  float64\n",
      " 13  WSNO        140097 non-null  int32  \n",
      " 14  DOUTEND     140097 non-null  float64\n",
      " 15  DOUTSTART   140097 non-null  float64\n",
      " 16  DOUTMID     140097 non-null  float64\n",
      " 17  geom        140097 non-null  object \n",
      "dtypes: float64(9), int32(7), int64(1), object(1)\n",
      "memory usage: 15.5+ MB\n"
     ]
    },
    {
     "data": {
      "text/plain": [
       "bytes"
      ]
     },
     "execution_count": 71,
     "metadata": {},
     "output_type": "execute_result"
    }
   ],
   "source": [
    "pa_geo_df.info()\n",
    "type(pa_geo_df.geom[0])"
   ]
  },
  {
   "cell_type": "code",
   "execution_count": 72,
   "metadata": {},
   "outputs": [],
   "source": [
    "test_pa_geo_df_parquet_path = data_dir / 'test_pa_geo_df.parquet'"
   ]
  },
  {
   "cell_type": "code",
   "execution_count": 73,
   "metadata": {},
   "outputs": [
    {
     "name": "stdout",
     "output_type": "stream",
     "text": [
      "2.74 s ± 45.8 ms per loop (mean ± std. dev. of 7 runs, 1 loop each)\n"
     ]
    }
   ],
   "source": [
    "%%timeit\n",
    "pa_geo_df.to_parquet(test_pa_geo_df_parquet_path, compression='zstd')"
   ]
  },
  {
   "cell_type": "code",
   "execution_count": 74,
   "metadata": {},
   "outputs": [
    {
     "data": {
      "text/plain": [
       "186784470"
      ]
     },
     "execution_count": 74,
     "metadata": {},
     "output_type": "execute_result"
    }
   ],
   "source": [
    "# File size\n",
    "local_fs.info(test_pa_geo_df_parquet_path)['size']"
   ]
  },
  {
   "cell_type": "code",
   "execution_count": 75,
   "metadata": {},
   "outputs": [
    {
     "name": "stdout",
     "output_type": "stream",
     "text": [
      "1.59 s ± 31.6 ms per loop (mean ± std. dev. of 7 runs, 1 loop each)\n"
     ]
    }
   ],
   "source": [
    "%%timeit\n",
    "# Re-read entire file\n",
    "pd.read_parquet(test_pa_geo_df_parquet_path)"
   ]
  },
  {
   "cell_type": "code",
   "execution_count": 76,
   "metadata": {},
   "outputs": [
    {
     "name": "stdout",
     "output_type": "stream",
     "text": [
      "10 ms ± 35.1 µs per loop (mean ± std. dev. of 7 runs, 100 loops each)\n"
     ]
    }
   ],
   "source": [
    "%%timeit\n",
    "# Re-read non-geometry columns, using Pandas method\n",
    "pd.read_parquet(test_pa_geo_df_parquet_path, columns=columns_to_read)"
   ]
  },
  {
   "cell_type": "markdown",
   "metadata": {},
   "source": [
    "### Pandas GeoArrow DF"
   ]
  },
  {
   "cell_type": "code",
   "execution_count": 77,
   "metadata": {},
   "outputs": [
    {
     "data": {
      "text/plain": [
       "GeoArrowExtensionDtype(geoarrow.wkb <PROJJSON:{\n",
       "  \"$schema\": \"https://p...>)"
      ]
     },
     "execution_count": 77,
     "metadata": {},
     "output_type": "execute_result"
    }
   ],
   "source": [
    "ga_pa_df.geom.dtype"
   ]
  },
  {
   "cell_type": "code",
   "execution_count": 78,
   "metadata": {},
   "outputs": [
    {
     "data": {
      "text/plain": [
       "geoarrow.pandas.lib.GeoArrowExtensionScalar"
      ]
     },
     "execution_count": 78,
     "metadata": {},
     "output_type": "execute_result"
    }
   ],
   "source": [
    "type(ga_pa_df.geom[0])"
   ]
  },
  {
   "cell_type": "code",
   "execution_count": 79,
   "metadata": {},
   "outputs": [],
   "source": [
    "test_ga_pa_df_parquet_path = data_dir / 'test_ga_pa_df.parquet'"
   ]
  },
  {
   "cell_type": "code",
   "execution_count": 80,
   "metadata": {},
   "outputs": [
    {
     "name": "stdout",
     "output_type": "stream",
     "text": [
      "1.98 s ± 36 ms per loop (mean ± std. dev. of 7 runs, 1 loop each)\n"
     ]
    }
   ],
   "source": [
    "%%timeit\n",
    "# Standard Pandas write method\n",
    "ga_pa_df.to_parquet(test_ga_pa_df_parquet_path, compression='zstd')"
   ]
  },
  {
   "cell_type": "code",
   "execution_count": 81,
   "metadata": {},
   "outputs": [
    {
     "data": {
      "text/plain": [
       "186793666"
      ]
     },
     "execution_count": 81,
     "metadata": {},
     "output_type": "execute_result"
    }
   ],
   "source": [
    "# File size\n",
    "local_fs.info(test_ga_pa_df_parquet_path)['size']"
   ]
  },
  {
   "cell_type": "code",
   "execution_count": 82,
   "metadata": {},
   "outputs": [
    {
     "name": "stdout",
     "output_type": "stream",
     "text": [
      "1.43 s ± 14.4 ms per loop (mean ± std. dev. of 7 runs, 1 loop each)\n"
     ]
    }
   ],
   "source": [
    "%%timeit\n",
    "io.read_geoparquet_table(test_ga_pa_df_parquet_path)"
   ]
  },
  {
   "cell_type": "code",
   "execution_count": 83,
   "metadata": {},
   "outputs": [
    {
     "data": {
      "text/plain": [
       "pyarrow.Table\n",
       "LINKNO: int32\n",
       "DSLINKNO: int32\n",
       "USLINKNO1: int32\n",
       "USLINKNO2: int32\n",
       "DSNODEID: int64\n",
       "strmOrder: int32\n",
       "Length: double\n",
       "Magnitude: int32\n",
       "DSContArea: double\n",
       "strmDrop: double\n",
       "Slope: double\n",
       "StraightL: double\n",
       "USContArea: double\n",
       "WSNO: int32\n",
       "DOUTEND: double\n",
       "DOUTSTART: double\n",
       "DOUTMID: double\n",
       "geom: extension<geoarrow.wkb<WkbType>>\n",
       "----\n",
       "LINKNO: [[0,1,593,1777,2,...,478,1070,1071,1662,2254],[2845,2846,2847,3438,3439,...,587,1180,1772,588,589]]\n",
       "DSLINKNO: [[1777,2369,1777,2369,4146,...,35406,33630,35406,38366,39550],[33630,38958,41326,41918,42510,...,-1,-1,-1,-1,-1]]\n",
       "USLINKNO1: [[-1,-1,-1,0,-1,...,-1,-1,-1,-1,-1],[-1,-1,-1,-1,-1,...,-1,-1,-1,-1,-1]]\n",
       "USLINKNO2: [[-1,-1,-1,593,-1,...,-1,-1,-1,-1,-1],[-1,-1,-1,-1,-1,...,-1,-1,-1,-1,-1]]\n",
       "DSNODEID: [[-1,-1,-1,-1,-1,...,-1,-1,-1,-1,-1],[-1,-1,-1,-1,-1,...,-1,-1,-1,-1,-1]]\n",
       "strmOrder: [[1,1,1,2,1,...,1,1,1,1,1],[1,1,1,1,1,...,1,1,1,1,1]]\n",
       "Length: [[3847.9,2251.3,1469.3,1050.9,3551,...,1871.3,2777.5,4006,2436.9,719.9],[4964,3361.3,5683.5,1705.4,1552.7,...,2354.1,1326.7,1000.1,2044.7,868.5]]\n",
       "Magnitude: [[1,1,1,2,1,...,1,1,1,1,1],[1,1,1,1,1,...,1,1,1,1,1]]\n",
       "DSContArea: [[9567845,8768556,8466694,19939082,9120895,...,6912127,10256733,9292961,7553025.5,4734316.5],[12430192,7897780,16780592,6775369,7803790,...,10233235,9136435,4879280,5911555,5180645.5]]\n",
       "strmDrop: [[42.07,34.66,11.98,0.91,67.48,...,2.2,8.47,9.2,1.15,0],[1.4,7.99,1.8,0,2.67,...,0,0,0,0.76,0]]\n",
       "..."
      ]
     },
     "execution_count": 83,
     "metadata": {},
     "output_type": "execute_result"
    }
   ],
   "source": [
    "io.read_geoparquet_table(test_ga_pa_df_parquet_path)"
   ]
  },
  {
   "cell_type": "markdown",
   "metadata": {},
   "source": [
    "#### GeoArrow only works with Pandas, not GeoPandas!"
   ]
  },
  {
   "cell_type": "code",
   "execution_count": 84,
   "metadata": {},
   "outputs": [],
   "source": [
    "# Re-read entire file\n",
    "# The standard Pandas method produces an error!\n",
    "# pd.read_parquet(test_ga_pa_df_parquet_path)"
   ]
  },
  {
   "cell_type": "markdown",
   "metadata": {},
   "source": [
    "### GeoArrow PyArrow Table\n",
    "\n",
    "Docs for `pyarrrow.Table`: https://arrow.apache.org/docs/python/generated/pyarrow.Table.html"
   ]
  },
  {
   "cell_type": "code",
   "execution_count": 85,
   "metadata": {},
   "outputs": [
    {
     "name": "stdout",
     "output_type": "stream",
     "text": [
      "1.97 s ± 25.7 ms per loop (mean ± std. dev. of 7 runs, 1 loop each)\n"
     ]
    }
   ],
   "source": [
    "%%timeit\n",
    "# Geoarrow write method\n",
    "io.write_geoparquet_table(ga_pa_table, test_ga_pa_df_parquet_path, compression='zstd')"
   ]
  },
  {
   "cell_type": "code",
   "execution_count": 86,
   "metadata": {},
   "outputs": [
    {
     "data": {
      "text/plain": [
       "186782750"
      ]
     },
     "execution_count": 86,
     "metadata": {},
     "output_type": "execute_result"
    }
   ],
   "source": [
    "# File size\n",
    "local_fs.info(test_ga_pa_df_parquet_path)['size']"
   ]
  },
  {
   "cell_type": "markdown",
   "metadata": {},
   "source": [
    "#### Read GeoParquet saved by GeoArrow"
   ]
  },
  {
   "cell_type": "code",
   "execution_count": 87,
   "metadata": {},
   "outputs": [
    {
     "name": "stdout",
     "output_type": "stream",
     "text": [
      "1.43 s ± 17.4 ms per loop (mean ± std. dev. of 7 runs, 1 loop each)\n"
     ]
    }
   ],
   "source": [
    "%%timeit\n",
    "# Read GeoParquet saved by GeoArrow\n",
    "io.read_geoparquet_table(test_ga_pa_df_parquet_path)"
   ]
  },
  {
   "cell_type": "code",
   "execution_count": 88,
   "metadata": {},
   "outputs": [
    {
     "data": {
      "text/plain": [
       "pyarrow.Table\n",
       "LINKNO: int32\n",
       "DSLINKNO: int32\n",
       "USLINKNO1: int32\n",
       "USLINKNO2: int32\n",
       "DSNODEID: int64\n",
       "strmOrder: int32\n",
       "Length: double\n",
       "Magnitude: int32\n",
       "DSContArea: double\n",
       "strmDrop: double\n",
       "Slope: double\n",
       "StraightL: double\n",
       "USContArea: double\n",
       "WSNO: int32\n",
       "DOUTEND: double\n",
       "DOUTSTART: double\n",
       "DOUTMID: double\n",
       "geom: extension<geoarrow.wkb<WkbType>>\n",
       "----\n",
       "LINKNO: [[0,1,593,1777,2,...,478,1070,1071,1662,2254],[2845,2846,2847,3438,3439,...,587,1180,1772,588,589]]\n",
       "DSLINKNO: [[1777,2369,1777,2369,4146,...,35406,33630,35406,38366,39550],[33630,38958,41326,41918,42510,...,-1,-1,-1,-1,-1]]\n",
       "USLINKNO1: [[-1,-1,-1,0,-1,...,-1,-1,-1,-1,-1],[-1,-1,-1,-1,-1,...,-1,-1,-1,-1,-1]]\n",
       "USLINKNO2: [[-1,-1,-1,593,-1,...,-1,-1,-1,-1,-1],[-1,-1,-1,-1,-1,...,-1,-1,-1,-1,-1]]\n",
       "DSNODEID: [[-1,-1,-1,-1,-1,...,-1,-1,-1,-1,-1],[-1,-1,-1,-1,-1,...,-1,-1,-1,-1,-1]]\n",
       "strmOrder: [[1,1,1,2,1,...,1,1,1,1,1],[1,1,1,1,1,...,1,1,1,1,1]]\n",
       "Length: [[3847.9,2251.3,1469.3,1050.9,3551,...,1871.3,2777.5,4006,2436.9,719.9],[4964,3361.3,5683.5,1705.4,1552.7,...,2354.1,1326.7,1000.1,2044.7,868.5]]\n",
       "Magnitude: [[1,1,1,2,1,...,1,1,1,1,1],[1,1,1,1,1,...,1,1,1,1,1]]\n",
       "DSContArea: [[9567845,8768556,8466694,19939082,9120895,...,6912127,10256733,9292961,7553025.5,4734316.5],[12430192,7897780,16780592,6775369,7803790,...,10233235,9136435,4879280,5911555,5180645.5]]\n",
       "strmDrop: [[42.07,34.66,11.98,0.91,67.48,...,2.2,8.47,9.2,1.15,0],[1.4,7.99,1.8,0,2.67,...,0,0,0,0.76,0]]\n",
       "..."
      ]
     },
     "execution_count": 88,
     "metadata": {},
     "output_type": "execute_result"
    }
   ],
   "source": [
    "io.read_geoparquet_table(test_ga_pa_df_parquet_path)"
   ]
  },
  {
   "cell_type": "markdown",
   "metadata": {},
   "source": [
    "#### Read GeoParquet saved by GeoPandas"
   ]
  },
  {
   "cell_type": "code",
   "execution_count": 89,
   "metadata": {},
   "outputs": [
    {
     "name": "stdout",
     "output_type": "stream",
     "text": [
      "1.32 s ± 16.7 ms per loop (mean ± std. dev. of 7 runs, 1 loop each)\n"
     ]
    }
   ],
   "source": [
    "%%timeit\n",
    "# Read GeoParquet saved by GeoPandas\n",
    "io.read_geoparquet_table(test_gpd_gdf_parquet_path)"
   ]
  },
  {
   "cell_type": "code",
   "execution_count": 90,
   "metadata": {},
   "outputs": [
    {
     "data": {
      "text/plain": [
       "pyarrow.Table\n",
       "LINKNO: int32\n",
       "DSLINKNO: int32\n",
       "USLINKNO1: int32\n",
       "USLINKNO2: int32\n",
       "DSNODEID: int64\n",
       "strmOrder: int32\n",
       "Length: double\n",
       "Magnitude: int32\n",
       "DSContArea: double\n",
       "strmDrop: double\n",
       "Slope: double\n",
       "StraightL: double\n",
       "USContArea: double\n",
       "WSNO: int32\n",
       "DOUTEND: double\n",
       "DOUTSTART: double\n",
       "DOUTMID: double\n",
       "geometry: extension<geoarrow.wkb<WkbType>>\n",
       "----\n",
       "LINKNO: [[0,1,593,1777,2,...,478,1070,1071,1662,2254],[2845,2846,2847,3438,3439,...,587,1180,1772,588,589]]\n",
       "DSLINKNO: [[1777,2369,1777,2369,4146,...,35406,33630,35406,38366,39550],[33630,38958,41326,41918,42510,...,-1,-1,-1,-1,-1]]\n",
       "USLINKNO1: [[-1,-1,-1,0,-1,...,-1,-1,-1,-1,-1],[-1,-1,-1,-1,-1,...,-1,-1,-1,-1,-1]]\n",
       "USLINKNO2: [[-1,-1,-1,593,-1,...,-1,-1,-1,-1,-1],[-1,-1,-1,-1,-1,...,-1,-1,-1,-1,-1]]\n",
       "DSNODEID: [[-1,-1,-1,-1,-1,...,-1,-1,-1,-1,-1],[-1,-1,-1,-1,-1,...,-1,-1,-1,-1,-1]]\n",
       "strmOrder: [[1,1,1,2,1,...,1,1,1,1,1],[1,1,1,1,1,...,1,1,1,1,1]]\n",
       "Length: [[3847.9,2251.3,1469.3,1050.9,3551,...,1871.3,2777.5,4006,2436.9,719.9],[4964,3361.3,5683.5,1705.4,1552.7,...,2354.1,1326.7,1000.1,2044.7,868.5]]\n",
       "Magnitude: [[1,1,1,2,1,...,1,1,1,1,1],[1,1,1,1,1,...,1,1,1,1,1]]\n",
       "DSContArea: [[9567845,8768556,8466694,19939082,9120895,...,6912127,10256733,9292961,7553025.5,4734316.5],[12430192,7897780,16780592,6775369,7803790,...,10233235,9136435,4879280,5911555,5180645.5]]\n",
       "strmDrop: [[42.07,34.66,11.98,0.91,67.48,...,2.2,8.47,9.2,1.15,0],[1.4,7.99,1.8,0,2.67,...,0,0,0,0.76,0]]\n",
       "..."
      ]
     },
     "execution_count": 90,
     "metadata": {},
     "output_type": "execute_result"
    }
   ],
   "source": [
    "io.read_geoparquet_table(test_gpd_gdf_parquet_path)"
   ]
  },
  {
   "cell_type": "markdown",
   "metadata": {},
   "source": [
    "# Downcast Numerical Dtypes\n",
    "Ideas and functions from https://medium.com/@atanudan/pandas-dataframe-performance-optimization-8b87db24c2c4"
   ]
  },
  {
   "cell_type": "code",
   "execution_count": 116,
   "metadata": {},
   "outputs": [
    {
     "name": "stdout",
     "output_type": "stream",
     "text": [
      "<class 'geopandas.geodataframe.GeoDataFrame'>\n",
      "RangeIndex: 140097 entries, 0 to 140096\n",
      "Data columns (total 18 columns):\n",
      " #   Column      Non-Null Count   Dtype   \n",
      "---  ------      --------------   -----   \n",
      " 0   LINKNO      140097 non-null  int32   \n",
      " 1   DSLINKNO    140097 non-null  int32   \n",
      " 2   USLINKNO1   140097 non-null  int32   \n",
      " 3   USLINKNO2   140097 non-null  int32   \n",
      " 4   DSNODEID    140097 non-null  int64   \n",
      " 5   strmOrder   140097 non-null  int32   \n",
      " 6   Length      140097 non-null  float64 \n",
      " 7   Magnitude   140097 non-null  int32   \n",
      " 8   DSContArea  140097 non-null  float64 \n",
      " 9   strmDrop    140097 non-null  float64 \n",
      " 10  Slope       140097 non-null  float64 \n",
      " 11  StraightL   140097 non-null  float64 \n",
      " 12  USContArea  140097 non-null  float64 \n",
      " 13  WSNO        140097 non-null  int32   \n",
      " 14  DOUTEND     140097 non-null  float64 \n",
      " 15  DOUTSTART   140097 non-null  float64 \n",
      " 16  DOUTMID     140097 non-null  float64 \n",
      " 17  geometry    140097 non-null  geometry\n",
      "dtypes: float64(9), geometry(1), int32(7), int64(1)\n",
      "memory usage: 15.5 MB\n"
     ]
    }
   ],
   "source": [
    "downcast_gdf = gpd_gdf.copy(deep=True)\n",
    "downcast_gdf.info()"
   ]
  },
  {
   "cell_type": "code",
   "execution_count": 117,
   "metadata": {},
   "outputs": [
    {
     "name": "stdout",
     "output_type": "stream",
     "text": [
      "<class 'pandas.core.frame.DataFrame'>\n",
      "RangeIndex: 140097 entries, 0 to 140096\n",
      "Data columns (total 8 columns):\n",
      " #   Column     Non-Null Count   Dtype\n",
      "---  ------     --------------   -----\n",
      " 0   LINKNO     140097 non-null  int32\n",
      " 1   DSLINKNO   140097 non-null  int32\n",
      " 2   USLINKNO1  140097 non-null  int32\n",
      " 3   USLINKNO2  140097 non-null  int32\n",
      " 4   DSNODEID   140097 non-null  int64\n",
      " 5   strmOrder  140097 non-null  int32\n",
      " 6   Magnitude  140097 non-null  int32\n",
      " 7   WSNO       140097 non-null  int32\n",
      "dtypes: int32(7), int64(1)\n",
      "memory usage: 4.8 MB\n"
     ]
    }
   ],
   "source": [
    "downcast_gdf.select_dtypes(int).info()"
   ]
  },
  {
   "cell_type": "code",
   "execution_count": 119,
   "metadata": {},
   "outputs": [
    {
     "name": "stdout",
     "output_type": "stream",
     "text": [
      "<class 'pandas.core.frame.DataFrame'>\n",
      "RangeIndex: 140097 entries, 0 to 140096\n",
      "Data columns (total 8 columns):\n",
      " #   Column     Non-Null Count   Dtype         \n",
      "---  ------     --------------   -----         \n",
      " 0   LINKNO     140097 non-null  int32[pyarrow]\n",
      " 1   DSLINKNO   140097 non-null  int32[pyarrow]\n",
      " 2   USLINKNO1  140097 non-null  int32[pyarrow]\n",
      " 3   USLINKNO2  140097 non-null  int32[pyarrow]\n",
      " 4   DSNODEID   140097 non-null  int8[pyarrow] \n",
      " 5   strmOrder  140097 non-null  int8[pyarrow] \n",
      " 6   Magnitude  140097 non-null  int16[pyarrow]\n",
      " 7   WSNO       140097 non-null  int32[pyarrow]\n",
      "dtypes: int16[pyarrow](1), int32[pyarrow](5), int8[pyarrow](2)\n",
      "memory usage: 3.2 MB\n"
     ]
    }
   ],
   "source": [
    "int_columns = downcast_gdf.select_dtypes(int).columns.tolist()\n",
    "downcast_gdf[int_columns] = downcast_gdf[int_columns].apply(\n",
    "    pd.to_numeric, \n",
    "    downcast='integer',\n",
    "    dtype_backend='pyarrow'\n",
    ")\n",
    "downcast_gdf[int_columns].info()"
   ]
  },
  {
   "cell_type": "code",
   "execution_count": 120,
   "metadata": {},
   "outputs": [],
   "source": [
    "float_columns = downcast_gdf.select_dtypes(float).columns.tolist()\n",
    "downcast_gdf[float_columns] = downcast_gdf[float_columns].apply(\n",
    "    pd.to_numeric, \n",
    "    downcast='float',\n",
    "    dtype_backend='pyarrow'\n",
    ")"
   ]
  },
  {
   "cell_type": "code",
   "execution_count": 121,
   "metadata": {},
   "outputs": [
    {
     "name": "stdout",
     "output_type": "stream",
     "text": [
      "<class 'geopandas.geodataframe.GeoDataFrame'>\n",
      "RangeIndex: 140097 entries, 0 to 140096\n",
      "Data columns (total 18 columns):\n",
      " #   Column      Non-Null Count   Dtype          \n",
      "---  ------      --------------   -----          \n",
      " 0   LINKNO      140097 non-null  int32[pyarrow] \n",
      " 1   DSLINKNO    140097 non-null  int32[pyarrow] \n",
      " 2   USLINKNO1   140097 non-null  int32[pyarrow] \n",
      " 3   USLINKNO2   140097 non-null  int32[pyarrow] \n",
      " 4   DSNODEID    140097 non-null  int8[pyarrow]  \n",
      " 5   strmOrder   140097 non-null  int8[pyarrow]  \n",
      " 6   Length      140097 non-null  double[pyarrow]\n",
      " 7   Magnitude   140097 non-null  int16[pyarrow] \n",
      " 8   DSContArea  140097 non-null  float[pyarrow] \n",
      " 9   strmDrop    140097 non-null  float[pyarrow] \n",
      " 10  Slope       140097 non-null  float[pyarrow] \n",
      " 11  StraightL   140097 non-null  double[pyarrow]\n",
      " 12  USContArea  140097 non-null  float[pyarrow] \n",
      " 13  WSNO        140097 non-null  int32[pyarrow] \n",
      " 14  DOUTEND     140097 non-null  double[pyarrow]\n",
      " 15  DOUTSTART   140097 non-null  double[pyarrow]\n",
      " 16  DOUTMID     140097 non-null  double[pyarrow]\n",
      " 17  geometry    140097 non-null  geometry       \n",
      "dtypes: double[pyarrow](5), float[pyarrow](4), geometry(1), int16[pyarrow](1), int32[pyarrow](5), int8[pyarrow](2)\n",
      "memory usage: 11.8 MB\n"
     ]
    }
   ],
   "source": [
    "downcast_gdf.info()"
   ]
  },
  {
   "cell_type": "code",
   "execution_count": 122,
   "metadata": {},
   "outputs": [],
   "source": [
    "test_downcast_gdf_parquet_path = data_dir / 'test_downcast_gdf.parquet'"
   ]
  },
  {
   "cell_type": "code",
   "execution_count": 123,
   "metadata": {},
   "outputs": [
    {
     "name": "stdout",
     "output_type": "stream",
     "text": [
      "4.52 s ± 117 ms per loop (mean ± std. dev. of 7 runs, 1 loop each)\n"
     ]
    }
   ],
   "source": [
    "%%timeit\n",
    "downcast_gdf.to_parquet(\n",
    "    test_downcast_gdf_parquet_path, \n",
    "    compression='zstd', \n",
    ")\n",
    "#         original: 4.15 s ± 47.8 ms\n",
    "#   downcast numpy: 4.4 s ± 82.9 ms\n",
    "# downcast pyarrow: 4.52 s ± 117 ms\n"
   ]
  },
  {
   "cell_type": "code",
   "execution_count": 124,
   "metadata": {},
   "outputs": [
    {
     "data": {
      "text/plain": [
       "186191314"
      ]
     },
     "execution_count": 124,
     "metadata": {},
     "output_type": "execute_result"
    }
   ],
   "source": [
    "local_fs.info(test_downcast_gdf_parquet_path)['size']\n",
    "#         original: 186790117\n",
    "#   downcast numpy: 186190994\n",
    "# downcast pyarrow: 186191314\n"
   ]
  },
  {
   "cell_type": "code",
   "execution_count": 125,
   "metadata": {},
   "outputs": [
    {
     "name": "stdout",
     "output_type": "stream",
     "text": [
      "2.6 s ± 28 ms per loop (mean ± std. dev. of 7 runs, 1 loop each)\n"
     ]
    }
   ],
   "source": [
    "%%timeit\n",
    "# Re-read entire file\n",
    "gpd.read_parquet(test_downcast_gdf_parquet_path)\n",
    "\n",
    "#         original: 2.37 s ± 16.2 ms\n",
    "#   downcast numpy: 2.57 s ± 35.7 ms\n",
    "# downcast pyarrow: 2.6 s ± 28 ms"
   ]
  },
  {
   "cell_type": "code",
   "execution_count": 126,
   "metadata": {},
   "outputs": [
    {
     "name": "stdout",
     "output_type": "stream",
     "text": [
      "<class 'geopandas.geodataframe.GeoDataFrame'>\n",
      "RangeIndex: 140097 entries, 0 to 140096\n",
      "Data columns (total 18 columns):\n",
      " #   Column      Non-Null Count   Dtype          \n",
      "---  ------      --------------   -----          \n",
      " 0   LINKNO      140097 non-null  int32[pyarrow] \n",
      " 1   DSLINKNO    140097 non-null  int32[pyarrow] \n",
      " 2   USLINKNO1   140097 non-null  int32[pyarrow] \n",
      " 3   USLINKNO2   140097 non-null  int32[pyarrow] \n",
      " 4   DSNODEID    140097 non-null  int8[pyarrow]  \n",
      " 5   strmOrder   140097 non-null  int8[pyarrow]  \n",
      " 6   Length      140097 non-null  double[pyarrow]\n",
      " 7   Magnitude   140097 non-null  int16[pyarrow] \n",
      " 8   DSContArea  140097 non-null  float[pyarrow] \n",
      " 9   strmDrop    140097 non-null  float[pyarrow] \n",
      " 10  Slope       140097 non-null  float[pyarrow] \n",
      " 11  StraightL   140097 non-null  double[pyarrow]\n",
      " 12  USContArea  140097 non-null  float[pyarrow] \n",
      " 13  WSNO        140097 non-null  int32[pyarrow] \n",
      " 14  DOUTEND     140097 non-null  double[pyarrow]\n",
      " 15  DOUTSTART   140097 non-null  double[pyarrow]\n",
      " 16  DOUTMID     140097 non-null  double[pyarrow]\n",
      " 17  geometry    140097 non-null  geometry       \n",
      "dtypes: double[pyarrow](5), float[pyarrow](4), geometry(1), int16[pyarrow](1), int32[pyarrow](5), int8[pyarrow](2)\n",
      "memory usage: 12.0 MB\n"
     ]
    }
   ],
   "source": [
    "gpd.read_parquet(test_downcast_gdf_parquet_path).info()"
   ]
  },
  {
   "cell_type": "markdown",
   "metadata": {},
   "source": [
    "### Conclusions on Downscaling\n",
    "\n",
    "It doesn't save time or space, although it does save memory!"
   ]
  },
  {
   "cell_type": "code",
   "execution_count": null,
   "metadata": {},
   "outputs": [],
   "source": []
  }
 ],
 "metadata": {
  "kernelspec": {
   "display_name": "hydrography",
   "language": "python",
   "name": "python3"
  },
  "language_info": {
   "codemirror_mode": {
    "name": "ipython",
    "version": 3
   },
   "file_extension": ".py",
   "mimetype": "text/x-python",
   "name": "python",
   "nbconvert_exporter": "python",
   "pygments_lexer": "ipython3",
   "version": "3.11.9"
  }
 },
 "nbformat": 4,
 "nbformat_minor": 2
}
