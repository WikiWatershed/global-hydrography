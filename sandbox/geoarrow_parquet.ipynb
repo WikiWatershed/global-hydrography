{
 "cells": [
  {
   "cell_type": "markdown",
   "metadata": {},
   "source": [
    "# Explore PyArrow, GeoArrow, GeoParquet for Optimal Performance\n",
    "\n",
    "Work on Issue [#1 Leverage GeoArrow to speedup vector data processing & viz](https://github.com/WikiWatershed/global-hydrography/issues/1)\n"
   ]
  },
  {
   "cell_type": "markdown",
   "metadata": {},
   "source": [
    "# Imports & Setup"
   ]
  },
  {
   "cell_type": "code",
   "execution_count": 1,
   "metadata": {},
   "outputs": [],
   "source": [
    "from pathlib import Path\n",
    "\n",
    "import fsspec\n",
    "import numpy as np\n",
    "import pandas as pd\n",
    "import geopandas as gpd\n",
    "import pyogrio\n",
    "import pyarrow as pa\n",
    "\n",
    "## Importing geoarrow slows down some funcitons, so we do it later for testing\n",
    "# import geoarrow.pyarrow as ga\n",
    "# import geoarrow.pandas as _"
   ]
  },
  {
   "cell_type": "code",
   "execution_count": 2,
   "metadata": {},
   "outputs": [
    {
     "data": {
      "text/plain": [
       "PosixPath('/Users/aaufdenkampe/Documents/Python/global-hydrography/data_temp')"
      ]
     },
     "execution_count": 2,
     "metadata": {},
     "output_type": "execute_result"
    }
   ],
   "source": [
    "# Confirm your current working directory (cwd) and repo/project directory\n",
    "working_dir = Path.cwd()\n",
    "project_dir = working_dir.parent\n",
    "data_dir = project_dir / 'data_temp' # a temporary data directory that we .gitignore\n",
    "data_dir"
   ]
  },
  {
   "cell_type": "code",
   "execution_count": 3,
   "metadata": {},
   "outputs": [],
   "source": [
    "# Create local file system using fsspec library\n",
    "local_fs = fsspec.filesystem('local') "
   ]
  },
  {
   "cell_type": "code",
   "execution_count": 4,
   "metadata": {},
   "outputs": [
    {
     "data": {
      "text/plain": [
       "['/Users/aaufdenkampe/Documents/Python/global-hydrography/data_temp/nga/TDX_streamnet_1020011530_01.gpkg',\n",
       " '/Users/aaufdenkampe/Documents/Python/global-hydrography/data_temp/nga/TDX_streamreach_basins_7020038340_01.gpkg',\n",
       " '/Users/aaufdenkampe/Documents/Python/global-hydrography/data_temp/nga/.DS_Store',\n",
       " '/Users/aaufdenkampe/Documents/Python/global-hydrography/data_temp/nga/test.json',\n",
       " '/Users/aaufdenkampe/Documents/Python/global-hydrography/data_temp/nga/download.php?file=hydrobasins_level2',\n",
       " '/Users/aaufdenkampe/Documents/Python/global-hydrography/data_temp/nga/test.zip',\n",
       " '/Users/aaufdenkampe/Documents/Python/global-hydrography/data_temp/nga/TDX_streamreach_basins_1020011530_01.gpkg',\n",
       " '/Users/aaufdenkampe/Documents/Python/global-hydrography/data_temp/nga/hydrobasins_level2.geojson',\n",
       " '/Users/aaufdenkampe/Documents/Python/global-hydrography/data_temp/nga/TDX_streamreach_basins_1020040190_01.gpkg',\n",
       " '/Users/aaufdenkampe/Documents/Python/global-hydrography/data_temp/nga/TDX_streamnet_7020038340_01.gpkg']"
      ]
     },
     "execution_count": 4,
     "metadata": {},
     "output_type": "execute_result"
    }
   ],
   "source": [
    "tdx_dir = data_dir / 'nga'\n",
    "local_fs.ls(tdx_dir)"
   ]
  },
  {
   "cell_type": "code",
   "execution_count": 5,
   "metadata": {},
   "outputs": [],
   "source": [
    "tdx_basins_7020038340_fp = tdx_dir / 'TDX_streamreach_basins_7020038340_01.gpkg'\n",
    "tdx_stream_7020038340_fp = tdx_dir / 'TDX_streamnet_7020038340_01.gpkg'"
   ]
  },
  {
   "cell_type": "code",
   "execution_count": 43,
   "metadata": {},
   "outputs": [
    {
     "data": {
      "text/plain": [
       "702283776"
      ]
     },
     "execution_count": 43,
     "metadata": {},
     "output_type": "execute_result"
    }
   ],
   "source": [
    "local_fs.info(tdx_stream_7020038340_fp)['size']"
   ]
  },
  {
   "cell_type": "markdown",
   "metadata": {},
   "source": [
    "# Read Arrow directly"
   ]
  },
  {
   "cell_type": "code",
   "execution_count": 51,
   "metadata": {},
   "outputs": [
    {
     "data": {
      "text/plain": [
       "({'crs': 'EPSG:4326',\n",
       "  'encoding': 'UTF-8',\n",
       "  'fields': array(['LINKNO', 'DSLINKNO', 'USLINKNO1', 'USLINKNO2', 'DSNODEID',\n",
       "         'strmOrder', 'Length', 'Magnitude', 'DSContArea', 'strmDrop',\n",
       "         'Slope', 'StraightL', 'USContArea', 'WSNO', 'DOUTEND', 'DOUTSTART',\n",
       "         'DOUTMID'], dtype=object),\n",
       "  'geometry_type': 'LineString',\n",
       "  'geometry_name': 'geom',\n",
       "  'fid_column': 'fid'},\n",
       " pyarrow.Table\n",
       " LINKNO: int32\n",
       " DSLINKNO: int32\n",
       " USLINKNO1: int32\n",
       " USLINKNO2: int32\n",
       " DSNODEID: int64\n",
       " strmOrder: int32\n",
       " Length: double\n",
       " Magnitude: int32\n",
       " DSContArea: double\n",
       " strmDrop: double\n",
       " Slope: double\n",
       " StraightL: double\n",
       " USContArea: double\n",
       " WSNO: int32\n",
       " DOUTEND: double\n",
       " DOUTSTART: double\n",
       " DOUTMID: double\n",
       " geom: extension<geoarrow.wkb<WkbType>>\n",
       " ----\n",
       " LINKNO: [[0,1,593,1777,2,...,114546,114547,115730,115731,116915],[117507,118099,118691,119283,119876,...,478,1070,1071,1662,2254],[2845,2846,2847,3438,3439,...,587,1180,1772,588,589]]\n",
       " DSLINKNO: [[1777,2369,1777,2369,4146,...,146515,115139,164275,116323,117507],[118099,141779,119875,119875,128163,...,35406,33630,35406,38366,39550],[33630,38958,41326,41918,42510,...,-1,-1,-1,-1,-1]]\n",
       " USLINKNO1: [[-1,-1,-1,0,-1,...,113954,113955,62448,106852,108034],[116915,1476,100930,16867,119284,...,-1,-1,-1,-1,-1],[-1,-1,-1,-1,-1,...,-1,-1,-1,-1,-1]]\n",
       " USLINKNO2: [[-1,-1,-1,593,-1,...,91459,89682,63042,89091,883],[882,117507,12130,16275,42915,...,-1,-1,-1,-1,-1],[-1,-1,-1,-1,-1,...,-1,-1,-1,-1,-1]]\n",
       " DSNODEID: [[-1,-1,-1,-1,-1,...,-1,-1,-1,-1,-1],[-1,-1,-1,-1,-1,...,-1,-1,-1,-1,-1],[-1,-1,-1,-1,-1,...,-1,-1,-1,-1,-1]]\n",
       " strmOrder: [[1,1,1,2,1,...,2,2,2,2,2],[2,3,2,2,3,...,1,1,1,1,1],[1,1,1,1,1,...,1,1,1,1,1]]\n",
       " Length: [[3847.9,2251.3,1469.3,1050.9,3551,...,2789.9,1238.9,2640.7,2414.3,3557.1],[2911.3,2409.5,1668.1,724.1,7403.7,...,1871.3,2777.5,4006,2436.9,719.9],[4964,3361.3,5683.5,1705.4,1552.7,...,2354.1,1326.7,1000.1,2044.7,868.5]]\n",
       " Magnitude: [[1,1,1,2,1,...,4,5,2,2,3],[4,6,4,2,8,...,1,1,1,1,1],[1,1,1,1,1,...,1,1,1,1,1]]\n",
       " DSContArea: [[9567845,8768556,8466694,19939082,9120895,...,51344956,79742280,40945124,18966482,39952012],[56264020,96734968,55261088,19388568,113535328,...,6912127,10256733,9292961,7553025.5,4734316.5],[12430192,7897780,16780592,6775369,7803790,...,10233235,9136435,4879280,5911555,5180645.5]]\n",
       " strmDrop: [[42.07,34.66,11.98,0.91,67.48,...,0,0,6.92,0,36.19],[25.08,8.53,0,0,8.44,...,2.2,8.47,9.2,1.15,0],[1.4,7.99,1.8,0,2.67,...,0,0,0,0.76,0]]\n",
       " ...)"
      ]
     },
     "execution_count": 51,
     "metadata": {},
     "output_type": "execute_result"
    }
   ],
   "source": [
    "# pyogrio.read_arrow() avoids conversion to GeoDataframe\n",
    "# Takes about 3 sec for Anthony\n",
    "pa_table = pyogrio.read_arrow(\n",
    "    tdx_stream_7020038340_fp,\n",
    ")\n",
    "pa_table"
   ]
  },
  {
   "cell_type": "code",
   "execution_count": 52,
   "metadata": {},
   "outputs": [
    {
     "name": "stdout",
     "output_type": "stream",
     "text": [
      "\u001b[0;31mType:\u001b[0m        tuple\n",
      "\u001b[0;31mString form:\u001b[0m\n",
      "({'crs': 'EPSG:4326', 'encoding': 'UTF-8', 'fields': array(['LINKNO', 'DSLINKNO', 'USLINKNO1', 'U <...> 36.19],[25.08,8.53,0,0,8.44,...,2.2,8.47,9.2,1.15,0],[1.4,7.99,1.8,0,2.67,...,0,0,0,0.76,0]]\n",
      "           ...)\n",
      "\u001b[0;31mLength:\u001b[0m      2\n",
      "\u001b[0;31mDocstring:\u001b[0m  \n",
      "Built-in immutable sequence.\n",
      "\n",
      "If no argument is given, the constructor returns an empty tuple.\n",
      "If iterable is specified the tuple is initialized from iterable's items.\n",
      "\n",
      "If the argument is a tuple, the return value is the same object."
     ]
    }
   ],
   "source": [
    "pa_table?"
   ]
  },
  {
   "cell_type": "code",
   "execution_count": 53,
   "metadata": {},
   "outputs": [
    {
     "data": {
      "text/plain": [
       "dict"
      ]
     },
     "execution_count": 53,
     "metadata": {},
     "output_type": "execute_result"
    }
   ],
   "source": [
    "type(pa_table[0])"
   ]
  },
  {
   "cell_type": "code",
   "execution_count": 54,
   "metadata": {},
   "outputs": [
    {
     "data": {
      "text/plain": [
       "{'crs': 'EPSG:4326',\n",
       " 'encoding': 'UTF-8',\n",
       " 'fields': array(['LINKNO', 'DSLINKNO', 'USLINKNO1', 'USLINKNO2', 'DSNODEID',\n",
       "        'strmOrder', 'Length', 'Magnitude', 'DSContArea', 'strmDrop',\n",
       "        'Slope', 'StraightL', 'USContArea', 'WSNO', 'DOUTEND', 'DOUTSTART',\n",
       "        'DOUTMID'], dtype=object),\n",
       " 'geometry_type': 'LineString',\n",
       " 'geometry_name': 'geom',\n",
       " 'fid_column': 'fid'}"
      ]
     },
     "execution_count": 54,
     "metadata": {},
     "output_type": "execute_result"
    }
   ],
   "source": [
    "pa_table[0]"
   ]
  },
  {
   "cell_type": "code",
   "execution_count": 55,
   "metadata": {},
   "outputs": [
    {
     "data": {
      "text/plain": [
       "'EPSG:4326'"
      ]
     },
     "execution_count": 55,
     "metadata": {},
     "output_type": "execute_result"
    }
   ],
   "source": [
    "pa_table[0]['crs']"
   ]
  },
  {
   "cell_type": "code",
   "execution_count": 56,
   "metadata": {},
   "outputs": [
    {
     "data": {
      "text/plain": [
       "pyarrow.lib.Table"
      ]
     },
     "execution_count": 56,
     "metadata": {},
     "output_type": "execute_result"
    }
   ],
   "source": [
    "type(pa_table[1])"
   ]
  },
  {
   "cell_type": "markdown",
   "metadata": {},
   "source": [
    "# Benchmark Read Methods on local file\n",
    "\n",
    "`timeit` is more accurate than `time`, for three reasons:\n",
    "\n",
    "- it repeats the tests many times to eliminate the influence of other tasks on your machine, such as disk flushing and OS scheduling.\n",
    "- it disables the garbage collector to prevent that process from skewing the results by scheduling a collection run at an inopportune moment.\n",
    "- it picks the most accurate timer for your OS. See timeit.default_timer.\n",
    "\n",
    "From https://stackoverflow.com/questions/17579357/time-time-vs-timeit-timeit\n"
   ]
  },
  {
   "cell_type": "markdown",
   "metadata": {},
   "source": [
    "## Before GeoArrow Import"
   ]
  },
  {
   "cell_type": "code",
   "execution_count": 6,
   "metadata": {},
   "outputs": [
    {
     "name": "stdout",
     "output_type": "stream",
     "text": [
      "5.54 ms ± 112 µs per loop (mean ± std. dev. of 7 runs, 100 loops each)\n"
     ]
    }
   ],
   "source": [
    "%%timeit\n",
    "pyogrio.list_layers(tdx_stream_7020038340_fp)"
   ]
  },
  {
   "cell_type": "code",
   "execution_count": 7,
   "metadata": {},
   "outputs": [
    {
     "name": "stdout",
     "output_type": "stream",
     "text": [
      "5.87 ms ± 151 µs per loop (mean ± std. dev. of 7 runs, 100 loops each)\n"
     ]
    }
   ],
   "source": [
    "%%timeit\n",
    "pyogrio.read_info(tdx_stream_7020038340_fp, layer=0)"
   ]
  },
  {
   "cell_type": "code",
   "execution_count": 28,
   "metadata": {},
   "outputs": [
    {
     "name": "stdout",
     "output_type": "stream",
     "text": [
      "549 ms ± 43.1 ms per loop (mean ± std. dev. of 7 runs, 1 loop each)\n"
     ]
    }
   ],
   "source": [
    "%%timeit\n",
    "pyogrio.read_arrow(tdx_stream_7020038340_fp)"
   ]
  },
  {
   "cell_type": "code",
   "execution_count": 9,
   "metadata": {},
   "outputs": [
    {
     "data": {
      "text/plain": [
       "({'crs': 'EPSG:4326',\n",
       "  'encoding': 'UTF-8',\n",
       "  'fields': array(['LINKNO', 'DSLINKNO', 'USLINKNO1', 'USLINKNO2', 'DSNODEID',\n",
       "         'strmOrder', 'Length', 'Magnitude', 'DSContArea', 'strmDrop',\n",
       "         'Slope', 'StraightL', 'USContArea', 'WSNO', 'DOUTEND', 'DOUTSTART',\n",
       "         'DOUTMID'], dtype=object),\n",
       "  'geometry_type': 'LineString',\n",
       "  'geometry_name': 'geom',\n",
       "  'fid_column': 'fid'},\n",
       " pyarrow.Table\n",
       " LINKNO: int32\n",
       " DSLINKNO: int32\n",
       " USLINKNO1: int32\n",
       " USLINKNO2: int32\n",
       " DSNODEID: int64\n",
       " strmOrder: int32\n",
       " Length: double\n",
       " Magnitude: int32\n",
       " DSContArea: double\n",
       " strmDrop: double\n",
       " Slope: double\n",
       " StraightL: double\n",
       " USContArea: double\n",
       " WSNO: int32\n",
       " DOUTEND: double\n",
       " DOUTSTART: double\n",
       " DOUTMID: double\n",
       " geom: binary\n",
       " ----\n",
       " LINKNO: [[0,1,593,1777,2,...,114546,114547,115730,115731,116915],[117507,118099,118691,119283,119876,...,478,1070,1071,1662,2254],[2845,2846,2847,3438,3439,...,587,1180,1772,588,589]]\n",
       " DSLINKNO: [[1777,2369,1777,2369,4146,...,146515,115139,164275,116323,117507],[118099,141779,119875,119875,128163,...,35406,33630,35406,38366,39550],[33630,38958,41326,41918,42510,...,-1,-1,-1,-1,-1]]\n",
       " USLINKNO1: [[-1,-1,-1,0,-1,...,113954,113955,62448,106852,108034],[116915,1476,100930,16867,119284,...,-1,-1,-1,-1,-1],[-1,-1,-1,-1,-1,...,-1,-1,-1,-1,-1]]\n",
       " USLINKNO2: [[-1,-1,-1,593,-1,...,91459,89682,63042,89091,883],[882,117507,12130,16275,42915,...,-1,-1,-1,-1,-1],[-1,-1,-1,-1,-1,...,-1,-1,-1,-1,-1]]\n",
       " DSNODEID: [[-1,-1,-1,-1,-1,...,-1,-1,-1,-1,-1],[-1,-1,-1,-1,-1,...,-1,-1,-1,-1,-1],[-1,-1,-1,-1,-1,...,-1,-1,-1,-1,-1]]\n",
       " strmOrder: [[1,1,1,2,1,...,2,2,2,2,2],[2,3,2,2,3,...,1,1,1,1,1],[1,1,1,1,1,...,1,1,1,1,1]]\n",
       " Length: [[3847.9,2251.3,1469.3,1050.9,3551,...,2789.9,1238.9,2640.7,2414.3,3557.1],[2911.3,2409.5,1668.1,724.1,7403.7,...,1871.3,2777.5,4006,2436.9,719.9],[4964,3361.3,5683.5,1705.4,1552.7,...,2354.1,1326.7,1000.1,2044.7,868.5]]\n",
       " Magnitude: [[1,1,1,2,1,...,4,5,2,2,3],[4,6,4,2,8,...,1,1,1,1,1],[1,1,1,1,1,...,1,1,1,1,1]]\n",
       " DSContArea: [[9567845,8768556,8466694,19939082,9120895,...,51344956,79742280,40945124,18966482,39952012],[56264020,96734968,55261088,19388568,113535328,...,6912127,10256733,9292961,7553025.5,4734316.5],[12430192,7897780,16780592,6775369,7803790,...,10233235,9136435,4879280,5911555,5180645.5]]\n",
       " strmDrop: [[42.07,34.66,11.98,0.91,67.48,...,0,0,6.92,0,36.19],[25.08,8.53,0,0,8.44,...,2.2,8.47,9.2,1.15,0],[1.4,7.99,1.8,0,2.67,...,0,0,0,0.76,0]]\n",
       " ...)"
      ]
     },
     "execution_count": 9,
     "metadata": {},
     "output_type": "execute_result"
    }
   ],
   "source": [
    "pa_table = pyogrio.read_arrow(tdx_stream_7020038340_fp)\n",
    "pa_table"
   ]
  },
  {
   "cell_type": "code",
   "execution_count": 10,
   "metadata": {},
   "outputs": [
    {
     "name": "stdout",
     "output_type": "stream",
     "text": [
      "2.15 s ± 32.2 ms per loop (mean ± std. dev. of 7 runs, 1 loop each)\n"
     ]
    }
   ],
   "source": [
    "%%timeit\n",
    "pyogrio.read_dataframe(\n",
    "    tdx_stream_7020038340_fp, \n",
    "    layer=0,\n",
    "    use_arrow=True, # 50% faster, but doesn't seem to work with s3\n",
    ")"
   ]
  },
  {
   "cell_type": "code",
   "execution_count": 105,
   "metadata": {},
   "outputs": [
    {
     "name": "stdout",
     "output_type": "stream",
     "text": [
      "<class 'geopandas.geodataframe.GeoDataFrame'>\n",
      "RangeIndex: 140097 entries, 0 to 140096\n",
      "Data columns (total 18 columns):\n",
      " #   Column      Non-Null Count   Dtype   \n",
      "---  ------      --------------   -----   \n",
      " 0   LINKNO      140097 non-null  int32   \n",
      " 1   DSLINKNO    140097 non-null  int32   \n",
      " 2   USLINKNO1   140097 non-null  int32   \n",
      " 3   USLINKNO2   140097 non-null  int32   \n",
      " 4   DSNODEID    140097 non-null  int64   \n",
      " 5   strmOrder   140097 non-null  int32   \n",
      " 6   Length      140097 non-null  float64 \n",
      " 7   Magnitude   140097 non-null  int32   \n",
      " 8   DSContArea  140097 non-null  float64 \n",
      " 9   strmDrop    140097 non-null  float64 \n",
      " 10  Slope       140097 non-null  float64 \n",
      " 11  StraightL   140097 non-null  float64 \n",
      " 12  USContArea  140097 non-null  float64 \n",
      " 13  WSNO        140097 non-null  int32   \n",
      " 14  DOUTEND     140097 non-null  float64 \n",
      " 15  DOUTSTART   140097 non-null  float64 \n",
      " 16  DOUTMID     140097 non-null  float64 \n",
      " 17  geometry    140097 non-null  geometry\n",
      "dtypes: float64(9), geometry(1), int32(7), int64(1)\n",
      "memory usage: 15.5 MB\n"
     ]
    }
   ],
   "source": [
    "pyo_gdf = pyogrio.read_dataframe(\n",
    "    tdx_stream_7020038340_fp, \n",
    "    layer=0,\n",
    "    use_arrow=True, # 50% faster, but doesn't seem to work with s3\n",
    ")\n",
    "pyo_gdf.info()"
   ]
  },
  {
   "cell_type": "code",
   "execution_count": null,
   "metadata": {},
   "outputs": [
    {
     "name": "stdout",
     "output_type": "stream",
     "text": [
      "1.57 s ± 103 ms per loop (mean ± std. dev. of 7 runs, 1 loop each)\n"
     ]
    }
   ],
   "source": [
    "%%timeit\n",
    "gpd.read_file(\n",
    "    tdx_stream_7020038340_fp, \n",
    "    engine='pyogrio',\n",
    "    use_arrow=True,\n",
    ")"
   ]
  },
  {
   "cell_type": "code",
   "execution_count": null,
   "metadata": {},
   "outputs": [
    {
     "name": "stdout",
     "output_type": "stream",
     "text": [
      "<class 'geopandas.geodataframe.GeoDataFrame'>\n",
      "RangeIndex: 140097 entries, 0 to 140096\n",
      "Data columns (total 18 columns):\n",
      " #   Column      Non-Null Count   Dtype   \n",
      "---  ------      --------------   -----   \n",
      " 0   LINKNO      140097 non-null  int32   \n",
      " 1   DSLINKNO    140097 non-null  int32   \n",
      " 2   USLINKNO1   140097 non-null  int32   \n",
      " 3   USLINKNO2   140097 non-null  int32   \n",
      " 4   DSNODEID    140097 non-null  int64   \n",
      " 5   strmOrder   140097 non-null  int32   \n",
      " 6   Length      140097 non-null  float64 \n",
      " 7   Magnitude   140097 non-null  int32   \n",
      " 8   DSContArea  140097 non-null  float64 \n",
      " 9   strmDrop    140097 non-null  float64 \n",
      " 10  Slope       140097 non-null  float64 \n",
      " 11  StraightL   140097 non-null  float64 \n",
      " 12  USContArea  140097 non-null  float64 \n",
      " 13  WSNO        140097 non-null  int32   \n",
      " 14  DOUTEND     140097 non-null  float64 \n",
      " 15  DOUTSTART   140097 non-null  float64 \n",
      " 16  DOUTMID     140097 non-null  float64 \n",
      " 17  geometry    140097 non-null  geometry\n",
      "dtypes: float64(9), geometry(1), int32(7), int64(1)\n",
      "memory usage: 15.5 MB\n"
     ]
    }
   ],
   "source": [
    "gpd_gdf = gpd.read_file(\n",
    "    tdx_stream_7020038340_fp, \n",
    "    engine='pyogrio',\n",
    "    use_arrow=True,\n",
    ")\n",
    "gpd_gdf.info()"
   ]
  },
  {
   "cell_type": "code",
   "execution_count": null,
   "metadata": {},
   "outputs": [
    {
     "name": "stdout",
     "output_type": "stream",
     "text": [
      "2.81 s ± 90.5 ms per loop (mean ± std. dev. of 7 runs, 1 loop each)\n"
     ]
    }
   ],
   "source": [
    "%%timeit\n",
    "gpd.read_file(\n",
    "    tdx_stream_7020038340_fp, \n",
    "    engine='pyogrio',\n",
    "    use_arrow=False,\n",
    ")"
   ]
  },
  {
   "cell_type": "markdown",
   "metadata": {},
   "source": [
    "## After GeoArrow Import"
   ]
  },
  {
   "cell_type": "code",
   "execution_count": null,
   "metadata": {},
   "outputs": [],
   "source": [
    "import geoarrow.pyarrow as ga\n",
    "import geoarrow.pandas as _"
   ]
  },
  {
   "cell_type": "code",
   "execution_count": null,
   "metadata": {},
   "outputs": [
    {
     "name": "stdout",
     "output_type": "stream",
     "text": [
      "552 ms ± 18.2 ms per loop (mean ± std. dev. of 7 runs, 1 loop each)\n"
     ]
    }
   ],
   "source": [
    "%%timeit\n",
    "pyogrio.read_arrow(tdx_stream_7020038340_fp)"
   ]
  },
  {
   "cell_type": "code",
   "execution_count": null,
   "metadata": {},
   "outputs": [
    {
     "data": {
      "text/plain": [
       "({'crs': 'EPSG:4326',\n",
       "  'encoding': 'UTF-8',\n",
       "  'fields': array(['LINKNO', 'DSLINKNO', 'USLINKNO1', 'USLINKNO2', 'DSNODEID',\n",
       "         'strmOrder', 'Length', 'Magnitude', 'DSContArea', 'strmDrop',\n",
       "         'Slope', 'StraightL', 'USContArea', 'WSNO', 'DOUTEND', 'DOUTSTART',\n",
       "         'DOUTMID'], dtype=object),\n",
       "  'geometry_type': 'LineString',\n",
       "  'geometry_name': 'geom',\n",
       "  'fid_column': 'fid'},\n",
       " pyarrow.Table\n",
       " LINKNO: int32\n",
       " DSLINKNO: int32\n",
       " USLINKNO1: int32\n",
       " USLINKNO2: int32\n",
       " DSNODEID: int64\n",
       " strmOrder: int32\n",
       " Length: double\n",
       " Magnitude: int32\n",
       " DSContArea: double\n",
       " strmDrop: double\n",
       " Slope: double\n",
       " StraightL: double\n",
       " USContArea: double\n",
       " WSNO: int32\n",
       " DOUTEND: double\n",
       " DOUTSTART: double\n",
       " DOUTMID: double\n",
       " geom: extension<geoarrow.wkb<WkbType>>\n",
       " ----\n",
       " LINKNO: [[0,1,593,1777,2,...,114546,114547,115730,115731,116915],[117507,118099,118691,119283,119876,...,478,1070,1071,1662,2254],[2845,2846,2847,3438,3439,...,587,1180,1772,588,589]]\n",
       " DSLINKNO: [[1777,2369,1777,2369,4146,...,146515,115139,164275,116323,117507],[118099,141779,119875,119875,128163,...,35406,33630,35406,38366,39550],[33630,38958,41326,41918,42510,...,-1,-1,-1,-1,-1]]\n",
       " USLINKNO1: [[-1,-1,-1,0,-1,...,113954,113955,62448,106852,108034],[116915,1476,100930,16867,119284,...,-1,-1,-1,-1,-1],[-1,-1,-1,-1,-1,...,-1,-1,-1,-1,-1]]\n",
       " USLINKNO2: [[-1,-1,-1,593,-1,...,91459,89682,63042,89091,883],[882,117507,12130,16275,42915,...,-1,-1,-1,-1,-1],[-1,-1,-1,-1,-1,...,-1,-1,-1,-1,-1]]\n",
       " DSNODEID: [[-1,-1,-1,-1,-1,...,-1,-1,-1,-1,-1],[-1,-1,-1,-1,-1,...,-1,-1,-1,-1,-1],[-1,-1,-1,-1,-1,...,-1,-1,-1,-1,-1]]\n",
       " strmOrder: [[1,1,1,2,1,...,2,2,2,2,2],[2,3,2,2,3,...,1,1,1,1,1],[1,1,1,1,1,...,1,1,1,1,1]]\n",
       " Length: [[3847.9,2251.3,1469.3,1050.9,3551,...,2789.9,1238.9,2640.7,2414.3,3557.1],[2911.3,2409.5,1668.1,724.1,7403.7,...,1871.3,2777.5,4006,2436.9,719.9],[4964,3361.3,5683.5,1705.4,1552.7,...,2354.1,1326.7,1000.1,2044.7,868.5]]\n",
       " Magnitude: [[1,1,1,2,1,...,4,5,2,2,3],[4,6,4,2,8,...,1,1,1,1,1],[1,1,1,1,1,...,1,1,1,1,1]]\n",
       " DSContArea: [[9567845,8768556,8466694,19939082,9120895,...,51344956,79742280,40945124,18966482,39952012],[56264020,96734968,55261088,19388568,113535328,...,6912127,10256733,9292961,7553025.5,4734316.5],[12430192,7897780,16780592,6775369,7803790,...,10233235,9136435,4879280,5911555,5180645.5]]\n",
       " strmDrop: [[42.07,34.66,11.98,0.91,67.48,...,0,0,6.92,0,36.19],[25.08,8.53,0,0,8.44,...,2.2,8.47,9.2,1.15,0],[1.4,7.99,1.8,0,2.67,...,0,0,0,0.76,0]]\n",
       " ...)"
      ]
     },
     "execution_count": 25,
     "metadata": {},
     "output_type": "execute_result"
    }
   ],
   "source": [
    "ga_pa_table = pyogrio.read_arrow(tdx_stream_7020038340_fp)\n",
    "ga_pa_table"
   ]
  },
  {
   "cell_type": "markdown",
   "metadata": {},
   "source": [
    "NOTE: same read speed, but  geom is now extension<geoarrow.wkb<WkbType>>"
   ]
  },
  {
   "cell_type": "code",
   "execution_count": null,
   "metadata": {},
   "outputs": [
    {
     "name": "stdout",
     "output_type": "stream",
     "text": [
      "13.7 s ± 391 ms per loop (mean ± std. dev. of 7 runs, 1 loop each)\n"
     ]
    }
   ],
   "source": [
    "%%timeit\n",
    "pyogrio.read_dataframe(\n",
    "    tdx_stream_7020038340_fp, \n",
    "    layer=0,\n",
    "    use_arrow=True, # 50% faster, but doesn't seem to work with s3\n",
    ")"
   ]
  },
  {
   "cell_type": "markdown",
   "metadata": {},
   "source": [
    "NOTE: this is 6.4 times slower!  13.7 sec vs 2.15 s before importing geoarrow"
   ]
  },
  {
   "cell_type": "code",
   "execution_count": null,
   "metadata": {},
   "outputs": [
    {
     "name": "stdout",
     "output_type": "stream",
     "text": [
      "14.1 s ± 1.11 s per loop (mean ± std. dev. of 7 runs, 1 loop each)\n"
     ]
    }
   ],
   "source": [
    "%%timeit\n",
    "gpd.read_file(\n",
    "    tdx_stream_7020038340_fp, \n",
    "    engine='pyogrio',\n",
    "    use_arrow=True,\n",
    ")"
   ]
  },
  {
   "cell_type": "markdown",
   "metadata": {},
   "source": [
    "NOTE: this is 9.0 times slower!  14.1 sec vs 1.57 s before importign geoarrow"
   ]
  },
  {
   "cell_type": "markdown",
   "metadata": {},
   "source": [
    "## Conclusions on Read Benchmarks\n",
    "\n",
    "`pyogrio.read_arrow()` is ~4x faster than the fastest alternative method.\n",
    "\n",
    "`gpd.read_file(fp, engine='pyogrio', use_arrow=True)` is the 2nd fastest method, but only before importing GeoArrow.\n",
    "\n",
    "Importing GeoArrow massively slows down `pyogrio.read_dataframe()` and `gpd.read_file()`. Read speeds for `pyogrio.read_arrow()` do not change."
   ]
  },
  {
   "cell_type": "markdown",
   "metadata": {},
   "source": [
    "# Convert Arrow Dtypes"
   ]
  },
  {
   "cell_type": "code",
   "execution_count": null,
   "metadata": {},
   "outputs": [
    {
     "name": "stdout",
     "output_type": "stream",
     "text": [
      "<class 'pandas.core.frame.DataFrame'>\n",
      "RangeIndex: 140097 entries, 0 to 140096\n",
      "Data columns (total 17 columns):\n",
      " #   Column      Non-Null Count   Dtype  \n",
      "---  ------      --------------   -----  \n",
      " 0   LINKNO      140097 non-null  int32  \n",
      " 1   DSLINKNO    140097 non-null  int32  \n",
      " 2   USLINKNO1   140097 non-null  int32  \n",
      " 3   USLINKNO2   140097 non-null  int32  \n",
      " 4   DSNODEID    140097 non-null  int64  \n",
      " 5   strmOrder   140097 non-null  int32  \n",
      " 6   Length      140097 non-null  float64\n",
      " 7   Magnitude   140097 non-null  int32  \n",
      " 8   DSContArea  140097 non-null  float64\n",
      " 9   strmDrop    140097 non-null  float64\n",
      " 10  Slope       140097 non-null  float64\n",
      " 11  StraightL   140097 non-null  float64\n",
      " 12  USContArea  140097 non-null  float64\n",
      " 13  WSNO        140097 non-null  int32  \n",
      " 14  DOUTEND     140097 non-null  float64\n",
      " 15  DOUTSTART   140097 non-null  float64\n",
      " 16  DOUTMID     140097 non-null  float64\n",
      "dtypes: float64(9), int32(7), int64(1)\n",
      "memory usage: 14.4 MB\n",
      "<class 'pandas.core.frame.DataFrame'>\n",
      "RangeIndex: 140097 entries, 0 to 140096\n",
      "Data columns (total 17 columns):\n",
      " #   Column      Non-Null Count   Dtype          \n",
      "---  ------      --------------   -----          \n",
      " 0   LINKNO      140097 non-null  int32[pyarrow] \n",
      " 1   DSLINKNO    140097 non-null  int32[pyarrow] \n",
      " 2   USLINKNO1   140097 non-null  int32[pyarrow] \n",
      " 3   USLINKNO2   140097 non-null  int32[pyarrow] \n",
      " 4   DSNODEID    140097 non-null  int64[pyarrow] \n",
      " 5   strmOrder   140097 non-null  int32[pyarrow] \n",
      " 6   Length      140097 non-null  double[pyarrow]\n",
      " 7   Magnitude   140097 non-null  int32[pyarrow] \n",
      " 8   DSContArea  140097 non-null  double[pyarrow]\n",
      " 9   strmDrop    140097 non-null  double[pyarrow]\n",
      " 10  Slope       140097 non-null  double[pyarrow]\n",
      " 11  StraightL   140097 non-null  double[pyarrow]\n",
      " 12  USContArea  140097 non-null  double[pyarrow]\n",
      " 13  WSNO        140097 non-null  int32[pyarrow] \n",
      " 14  DOUTEND     140097 non-null  double[pyarrow]\n",
      " 15  DOUTSTART   140097 non-null  double[pyarrow]\n",
      " 16  DOUTMID     140097 non-null  double[pyarrow]\n",
      "dtypes: double[pyarrow](9), int32[pyarrow](7), int64[pyarrow](1)\n",
      "memory usage: 14.4 MB\n"
     ]
    }
   ],
   "source": [
    "# Try converting to arrow dtypes to save storage and speed computation\n",
    "# NOTE: Can't convert geometry to geoarrow using this menthod\n",
    "df = gpd_gdf.drop(columns='geometry')\n",
    "df.info()\n",
    "\n",
    "pa_df = df.convert_dtypes(dtype_backend='pyarrow')\n",
    "pa_df.info()"
   ]
  },
  {
   "cell_type": "code",
   "execution_count": null,
   "metadata": {},
   "outputs": [
    {
     "data": {
      "text/plain": [
       "numpy.int32"
      ]
     },
     "execution_count": 84,
     "metadata": {},
     "output_type": "execute_result"
    }
   ],
   "source": [
    "type(df.LINKNO[0])"
   ]
  },
  {
   "cell_type": "markdown",
   "metadata": {},
   "source": [
    "PyArrow doesn't seem to save memory for non-geomery fields"
   ]
  },
  {
   "cell_type": "markdown",
   "metadata": {},
   "source": [
    "### Convert GeoArrow PyArrow Table"
   ]
  },
  {
   "cell_type": "code",
   "execution_count": null,
   "metadata": {},
   "outputs": [
    {
     "data": {
      "text/plain": [
       "pyarrow.Table\n",
       "LINKNO: int32\n",
       "DSLINKNO: int32\n",
       "USLINKNO1: int32\n",
       "USLINKNO2: int32\n",
       "DSNODEID: int64\n",
       "strmOrder: int32\n",
       "Length: double\n",
       "Magnitude: int32\n",
       "DSContArea: double\n",
       "strmDrop: double\n",
       "Slope: double\n",
       "StraightL: double\n",
       "USContArea: double\n",
       "WSNO: int32\n",
       "DOUTEND: double\n",
       "DOUTSTART: double\n",
       "DOUTMID: double\n",
       "geom: extension<geoarrow.wkb<WkbType>>\n",
       "----\n",
       "LINKNO: [[0,1,593,1777,2,...,114546,114547,115730,115731,116915],[117507,118099,118691,119283,119876,...,478,1070,1071,1662,2254],[2845,2846,2847,3438,3439,...,587,1180,1772,588,589]]\n",
       "DSLINKNO: [[1777,2369,1777,2369,4146,...,146515,115139,164275,116323,117507],[118099,141779,119875,119875,128163,...,35406,33630,35406,38366,39550],[33630,38958,41326,41918,42510,...,-1,-1,-1,-1,-1]]\n",
       "USLINKNO1: [[-1,-1,-1,0,-1,...,113954,113955,62448,106852,108034],[116915,1476,100930,16867,119284,...,-1,-1,-1,-1,-1],[-1,-1,-1,-1,-1,...,-1,-1,-1,-1,-1]]\n",
       "USLINKNO2: [[-1,-1,-1,593,-1,...,91459,89682,63042,89091,883],[882,117507,12130,16275,42915,...,-1,-1,-1,-1,-1],[-1,-1,-1,-1,-1,...,-1,-1,-1,-1,-1]]\n",
       "DSNODEID: [[-1,-1,-1,-1,-1,...,-1,-1,-1,-1,-1],[-1,-1,-1,-1,-1,...,-1,-1,-1,-1,-1],[-1,-1,-1,-1,-1,...,-1,-1,-1,-1,-1]]\n",
       "strmOrder: [[1,1,1,2,1,...,2,2,2,2,2],[2,3,2,2,3,...,1,1,1,1,1],[1,1,1,1,1,...,1,1,1,1,1]]\n",
       "Length: [[3847.9,2251.3,1469.3,1050.9,3551,...,2789.9,1238.9,2640.7,2414.3,3557.1],[2911.3,2409.5,1668.1,724.1,7403.7,...,1871.3,2777.5,4006,2436.9,719.9],[4964,3361.3,5683.5,1705.4,1552.7,...,2354.1,1326.7,1000.1,2044.7,868.5]]\n",
       "Magnitude: [[1,1,1,2,1,...,4,5,2,2,3],[4,6,4,2,8,...,1,1,1,1,1],[1,1,1,1,1,...,1,1,1,1,1]]\n",
       "DSContArea: [[9567845,8768556,8466694,19939082,9120895,...,51344956,79742280,40945124,18966482,39952012],[56264020,96734968,55261088,19388568,113535328,...,6912127,10256733,9292961,7553025.5,4734316.5],[12430192,7897780,16780592,6775369,7803790,...,10233235,9136435,4879280,5911555,5180645.5]]\n",
       "strmDrop: [[42.07,34.66,11.98,0.91,67.48,...,0,0,6.92,0,36.19],[25.08,8.53,0,0,8.44,...,2.2,8.47,9.2,1.15,0],[1.4,7.99,1.8,0,2.67,...,0,0,0,0.76,0]]\n",
       "..."
      ]
     },
     "execution_count": 85,
     "metadata": {},
     "output_type": "execute_result"
    }
   ],
   "source": [
    "# Get the table\n",
    "ga_pa_table[1]"
   ]
  },
  {
   "cell_type": "code",
   "execution_count": null,
   "metadata": {},
   "outputs": [
    {
     "name": "stdout",
     "output_type": "stream",
     "text": [
      "CPU times: user 16.8 ms, sys: 61.2 ms, total: 78 ms\n",
      "Wall time: 10.4 ms\n"
     ]
    }
   ],
   "source": [
    "%%time\n",
    "# Looks like the conversion to pandas is fast\n",
    "pa_df = pa_table[1].to_pandas()"
   ]
  },
  {
   "cell_type": "code",
   "execution_count": null,
   "metadata": {},
   "outputs": [
    {
     "data": {
      "text/plain": [
       "numpy.int32"
      ]
     },
     "execution_count": 94,
     "metadata": {},
     "output_type": "execute_result"
    }
   ],
   "source": [
    "type(pa_df.LINKNO[0])"
   ]
  },
  {
   "cell_type": "code",
   "execution_count": null,
   "metadata": {},
   "outputs": [
    {
     "data": {
      "text/plain": [
       "geoarrow.pandas.lib.GeoArrowExtensionScalar"
      ]
     },
     "execution_count": 102,
     "metadata": {},
     "output_type": "execute_result"
    }
   ],
   "source": [
    "type(pa_df.geom[0])"
   ]
  },
  {
   "cell_type": "code",
   "execution_count": null,
   "metadata": {},
   "outputs": [
    {
     "data": {
      "text/plain": [
       "pandas.core.series.Series"
      ]
     },
     "execution_count": 103,
     "metadata": {},
     "output_type": "execute_result"
    }
   ],
   "source": [
    "type(pa_df.geom)"
   ]
  },
  {
   "cell_type": "code",
   "execution_count": null,
   "metadata": {},
   "outputs": [
    {
     "name": "stdout",
     "output_type": "stream",
     "text": [
      "<class 'pandas.core.frame.DataFrame'>\n",
      "RangeIndex: 140097 entries, 0 to 140096\n",
      "Data columns (total 18 columns):\n",
      " #   Column      Non-Null Count   Dtype                                                                                                                                                                                                                                                                                                                                                                                                                                                                                                                                                                                                                                                                                                                                                                                                                                                                                                                                                                                                                                                                                                                                                                                                                                                                                                                                                                                                                                                                                                                                                                                                                                                                                                                                                                                                                                                                                                                                                                                                                                                                                                                                                                                               \n",
      "---  ------      --------------   -----                                                                                                                                                                                                                                                                                                                                                                                                                                                                                                                                                                                                                                                                                                                                                                                                                                                                                                                                                                                                                                                                                                                                                                                                                                                                                                                                                                                                                                                                                                                                                                                                                                                                                                                                                                                                                                                                                                                                                                                                                                                                                                                                                                                               \n",
      " 0   LINKNO      140097 non-null  int32                                                                                                                                                                                                                                                                                                                                                                                                                                                                                                                                                                                                                                                                                                                                                                                                                                                                                                                                                                                                                                                                                                                                                                                                                                                                                                                                                                                                                                                                                                                                                                                                                                                                                                                                                                                                                                                                                                                                                                                                                                                                                                                                                                                               \n",
      " 1   DSLINKNO    140097 non-null  int32                                                                                                                                                                                                                                                                                                                                                                                                                                                                                                                                                                                                                                                                                                                                                                                                                                                                                                                                                                                                                                                                                                                                                                                                                                                                                                                                                                                                                                                                                                                                                                                                                                                                                                                                                                                                                                                                                                                                                                                                                                                                                                                                                                                               \n",
      " 2   USLINKNO1   140097 non-null  int32                                                                                                                                                                                                                                                                                                                                                                                                                                                                                                                                                                                                                                                                                                                                                                                                                                                                                                                                                                                                                                                                                                                                                                                                                                                                                                                                                                                                                                                                                                                                                                                                                                                                                                                                                                                                                                                                                                                                                                                                                                                                                                                                                                                               \n",
      " 3   USLINKNO2   140097 non-null  int32                                                                                                                                                                                                                                                                                                                                                                                                                                                                                                                                                                                                                                                                                                                                                                                                                                                                                                                                                                                                                                                                                                                                                                                                                                                                                                                                                                                                                                                                                                                                                                                                                                                                                                                                                                                                                                                                                                                                                                                                                                                                                                                                                                                               \n",
      " 4   DSNODEID    140097 non-null  int64                                                                                                                                                                                                                                                                                                                                                                                                                                                                                                                                                                                                                                                                                                                                                                                                                                                                                                                                                                                                                                                                                                                                                                                                                                                                                                                                                                                                                                                                                                                                                                                                                                                                                                                                                                                                                                                                                                                                                                                                                                                                                                                                                                                               \n",
      " 5   strmOrder   140097 non-null  int32                                                                                                                                                                                                                                                                                                                                                                                                                                                                                                                                                                                                                                                                                                                                                                                                                                                                                                                                                                                                                                                                                                                                                                                                                                                                                                                                                                                                                                                                                                                                                                                                                                                                                                                                                                                                                                                                                                                                                                                                                                                                                                                                                                                               \n",
      " 6   Length      140097 non-null  float64                                                                                                                                                                                                                                                                                                                                                                                                                                                                                                                                                                                                                                                                                                                                                                                                                                                                                                                                                                                                                                                                                                                                                                                                                                                                                                                                                                                                                                                                                                                                                                                                                                                                                                                                                                                                                                                                                                                                                                                                                                                                                                                                                                                             \n",
      " 7   Magnitude   140097 non-null  int32                                                                                                                                                                                                                                                                                                                                                                                                                                                                                                                                                                                                                                                                                                                                                                                                                                                                                                                                                                                                                                                                                                                                                                                                                                                                                                                                                                                                                                                                                                                                                                                                                                                                                                                                                                                                                                                                                                                                                                                                                                                                                                                                                                                               \n",
      " 8   DSContArea  140097 non-null  float64                                                                                                                                                                                                                                                                                                                                                                                                                                                                                                                                                                                                                                                                                                                                                                                                                                                                                                                                                                                                                                                                                                                                                                                                                                                                                                                                                                                                                                                                                                                                                                                                                                                                                                                                                                                                                                                                                                                                                                                                                                                                                                                                                                                             \n",
      " 9   strmDrop    140097 non-null  float64                                                                                                                                                                                                                                                                                                                                                                                                                                                                                                                                                                                                                                                                                                                                                                                                                                                                                                                                                                                                                                                                                                                                                                                                                                                                                                                                                                                                                                                                                                                                                                                                                                                                                                                                                                                                                                                                                                                                                                                                                                                                                                                                                                                             \n",
      " 10  Slope       140097 non-null  float64                                                                                                                                                                                                                                                                                                                                                                                                                                                                                                                                                                                                                                                                                                                                                                                                                                                                                                                                                                                                                                                                                                                                                                                                                                                                                                                                                                                                                                                                                                                                                                                                                                                                                                                                                                                                                                                                                                                                                                                                                                                                                                                                                                                             \n",
      " 11  StraightL   140097 non-null  float64                                                                                                                                                                                                                                                                                                                                                                                                                                                                                                                                                                                                                                                                                                                                                                                                                                                                                                                                                                                                                                                                                                                                                                                                                                                                                                                                                                                                                                                                                                                                                                                                                                                                                                                                                                                                                                                                                                                                                                                                                                                                                                                                                                                             \n",
      " 12  USContArea  140097 non-null  float64                                                                                                                                                                                                                                                                                                                                                                                                                                                                                                                                                                                                                                                                                                                                                                                                                                                                                                                                                                                                                                                                                                                                                                                                                                                                                                                                                                                                                                                                                                                                                                                                                                                                                                                                                                                                                                                                                                                                                                                                                                                                                                                                                                                             \n",
      " 13  WSNO        140097 non-null  int32                                                                                                                                                                                                                                                                                                                                                                                                                                                                                                                                                                                                                                                                                                                                                                                                                                                                                                                                                                                                                                                                                                                                                                                                                                                                                                                                                                                                                                                                                                                                                                                                                                                                                                                                                                                                                                                                                                                                                                                                                                                                                                                                                                                               \n",
      " 14  DOUTEND     140097 non-null  float64                                                                                                                                                                                                                                                                                                                                                                                                                                                                                                                                                                                                                                                                                                                                                                                                                                                                                                                                                                                                                                                                                                                                                                                                                                                                                                                                                                                                                                                                                                                                                                                                                                                                                                                                                                                                                                                                                                                                                                                                                                                                                                                                                                                             \n",
      " 15  DOUTSTART   140097 non-null  float64                                                                                                                                                                                                                                                                                                                                                                                                                                                                                                                                                                                                                                                                                                                                                                                                                                                                                                                                                                                                                                                                                                                                                                                                                                                                                                                                                                                                                                                                                                                                                                                                                                                                                                                                                                                                                                                                                                                                                                                                                                                                                                                                                                                             \n",
      " 16  DOUTMID     140097 non-null  float64                                                                                                                                                                                                                                                                                                                                                                                                                                                                                                                                                                                                                                                                                                                                                                                                                                                                                                                                                                                                                                                                                                                                                                                                                                                                                                                                                                                                                                                                                                                                                                                                                                                                                                                                                                                                                                                                                                                                                                                                                                                                                                                                                                                             \n",
      " 17  geom        140097 non-null  geoarrow.wkb{\"crs\":{\n",
      "  \"$schema\": \"https://proj.org/schemas/v0.7/projjson.schema.json\",\n",
      "  \"type\": \"GeographicCRS\",\n",
      "  \"name\": \"WGS 84\",\n",
      "  \"datum_ensemble\": {\n",
      "    \"name\": \"World Geodetic System 1984 ensemble\",\n",
      "    \"members\": [\n",
      "      {\n",
      "        \"name\": \"World Geodetic System 1984 (Transit)\",\n",
      "        \"id\": {\n",
      "          \"authority\": \"EPSG\",\n",
      "          \"code\": 1166\n",
      "        }\n",
      "      },\n",
      "      {\n",
      "        \"name\": \"World Geodetic System 1984 (G730)\",\n",
      "        \"id\": {\n",
      "          \"authority\": \"EPSG\",\n",
      "          \"code\": 1152\n",
      "        }\n",
      "      },\n",
      "      {\n",
      "        \"name\": \"World Geodetic System 1984 (G873)\",\n",
      "        \"id\": {\n",
      "          \"authority\": \"EPSG\",\n",
      "          \"code\": 1153\n",
      "        }\n",
      "      },\n",
      "      {\n",
      "        \"name\": \"World Geodetic System 1984 (G1150)\",\n",
      "        \"id\": {\n",
      "          \"authority\": \"EPSG\",\n",
      "          \"code\": 1154\n",
      "        }\n",
      "      },\n",
      "      {\n",
      "        \"name\": \"World Geodetic System 1984 (G1674)\",\n",
      "        \"id\": {\n",
      "          \"authority\": \"EPSG\",\n",
      "          \"code\": 1155\n",
      "        }\n",
      "      },\n",
      "      {\n",
      "        \"name\": \"World Geodetic System 1984 (G1762)\",\n",
      "        \"id\": {\n",
      "          \"authority\": \"EPSG\",\n",
      "          \"code\": 1156\n",
      "        }\n",
      "      },\n",
      "      {\n",
      "        \"name\": \"World Geodetic System 1984 (G2139)\",\n",
      "        \"id\": {\n",
      "          \"authority\": \"EPSG\",\n",
      "          \"code\": 1309\n",
      "        }\n",
      "      }\n",
      "    ],\n",
      "    \"ellipsoid\": {\n",
      "      \"name\": \"WGS 84\",\n",
      "      \"semi_major_axis\": 6378137,\n",
      "      \"inverse_flattening\": 298.257223563\n",
      "    },\n",
      "    \"accuracy\": \"2.0\",\n",
      "    \"id\": {\n",
      "      \"authority\": \"EPSG\",\n",
      "      \"code\": 6326\n",
      "    }\n",
      "  },\n",
      "  \"coordinate_system\": {\n",
      "    \"subtype\": \"ellipsoidal\",\n",
      "    \"axis\": [\n",
      "      {\n",
      "        \"name\": \"Geodetic latitude\",\n",
      "        \"abbreviation\": \"Lat\",\n",
      "        \"direction\": \"north\",\n",
      "        \"unit\": \"degree\"\n",
      "      },\n",
      "      {\n",
      "        \"name\": \"Geodetic longitude\",\n",
      "        \"abbreviation\": \"Lon\",\n",
      "        \"direction\": \"east\",\n",
      "        \"unit\": \"degree\"\n",
      "      }\n",
      "    ]\n",
      "  },\n",
      "  \"scope\": \"Horizontal component of 3D system.\",\n",
      "  \"area\": \"World.\",\n",
      "  \"bbox\": {\n",
      "    \"south_latitude\": -90,\n",
      "    \"west_longitude\": -180,\n",
      "    \"north_latitude\": 90,\n",
      "    \"east_longitude\": 180\n",
      "  },\n",
      "  \"id\": {\n",
      "    \"authority\": \"EPSG\",\n",
      "    \"code\": 4326\n",
      "  }\n",
      "}}\n",
      "dtypes: float64(9), geoarrow.wkb{\"crs\":{\n",
      "  \"$schema\": \"https://proj.org/schemas/v0.7/projjson.schema.json\",\n",
      "  \"type\": \"GeographicCRS\",\n",
      "  \"name\": \"WGS 84\",\n",
      "  \"datum_ensemble\": {\n",
      "    \"name\": \"World Geodetic System 1984 ensemble\",\n",
      "    \"members\": [\n",
      "      {\n",
      "        \"name\": \"World Geodetic System 1984 (Transit)\",\n",
      "        \"id\": {\n",
      "          \"authority\": \"EPSG\",\n",
      "          \"code\": 1166\n",
      "        }\n",
      "      },\n",
      "      {\n",
      "        \"name\": \"World Geodetic System 1984 (G730)\",\n",
      "        \"id\": {\n",
      "          \"authority\": \"EPSG\",\n",
      "          \"code\": 1152\n",
      "        }\n",
      "      },\n",
      "      {\n",
      "        \"name\": \"World Geodetic System 1984 (G873)\",\n",
      "        \"id\": {\n",
      "          \"authority\": \"EPSG\",\n",
      "          \"code\": 1153\n",
      "        }\n",
      "      },\n",
      "      {\n",
      "        \"name\": \"World Geodetic System 1984 (G1150)\",\n",
      "        \"id\": {\n",
      "          \"authority\": \"EPSG\",\n",
      "          \"code\": 1154\n",
      "        }\n",
      "      },\n",
      "      {\n",
      "        \"name\": \"World Geodetic System 1984 (G1674)\",\n",
      "        \"id\": {\n",
      "          \"authority\": \"EPSG\",\n",
      "          \"code\": 1155\n",
      "        }\n",
      "      },\n",
      "      {\n",
      "        \"name\": \"World Geodetic System 1984 (G1762)\",\n",
      "        \"id\": {\n",
      "          \"authority\": \"EPSG\",\n",
      "          \"code\": 1156\n",
      "        }\n",
      "      },\n",
      "      {\n",
      "        \"name\": \"World Geodetic System 1984 (G2139)\",\n",
      "        \"id\": {\n",
      "          \"authority\": \"EPSG\",\n",
      "          \"code\": 1309\n",
      "        }\n",
      "      }\n",
      "    ],\n",
      "    \"ellipsoid\": {\n",
      "      \"name\": \"WGS 84\",\n",
      "      \"semi_major_axis\": 6378137,\n",
      "      \"inverse_flattening\": 298.257223563\n",
      "    },\n",
      "    \"accuracy\": \"2.0\",\n",
      "    \"id\": {\n",
      "      \"authority\": \"EPSG\",\n",
      "      \"code\": 6326\n",
      "    }\n",
      "  },\n",
      "  \"coordinate_system\": {\n",
      "    \"subtype\": \"ellipsoidal\",\n",
      "    \"axis\": [\n",
      "      {\n",
      "        \"name\": \"Geodetic latitude\",\n",
      "        \"abbreviation\": \"Lat\",\n",
      "        \"direction\": \"north\",\n",
      "        \"unit\": \"degree\"\n",
      "      },\n",
      "      {\n",
      "        \"name\": \"Geodetic longitude\",\n",
      "        \"abbreviation\": \"Lon\",\n",
      "        \"direction\": \"east\",\n",
      "        \"unit\": \"degree\"\n",
      "      }\n",
      "    ]\n",
      "  },\n",
      "  \"scope\": \"Horizontal component of 3D system.\",\n",
      "  \"area\": \"World.\",\n",
      "  \"bbox\": {\n",
      "    \"south_latitude\": -90,\n",
      "    \"west_longitude\": -180,\n",
      "    \"north_latitude\": 90,\n",
      "    \"east_longitude\": 180\n",
      "  },\n",
      "  \"id\": {\n",
      "    \"authority\": \"EPSG\",\n",
      "    \"code\": 4326\n",
      "  }\n",
      "}}(1), int32(7), int64(1)\n",
      "memory usage: 568.2 MB\n"
     ]
    }
   ],
   "source": [
    "pa_df.info()"
   ]
  },
  {
   "cell_type": "markdown",
   "metadata": {},
   "source": [
    "# Benchmark Write Methods"
   ]
  },
  {
   "cell_type": "markdown",
   "metadata": {},
   "source": [
    "## Compare Numpy vs Arrow backed dataframes with no geometry\n",
    "\n",
    "from otherwise identical Pandas dataframes created above."
   ]
  },
  {
   "cell_type": "code",
   "execution_count": null,
   "metadata": {},
   "outputs": [
    {
     "name": "stdout",
     "output_type": "stream",
     "text": [
      "CPU times: user 1.14 s, sys: 69.5 ms, total: 1.21 s\n",
      "Wall time: 1.24 s\n"
     ]
    },
    {
     "data": {
      "text/plain": [
       "8216670"
      ]
     },
     "execution_count": 46,
     "metadata": {},
     "output_type": "execute_result"
    }
   ],
   "source": [
    "%%time\n",
    "file_path = data_dir / 'test_df.parquet'\n",
    "df.to_parquet(file_path,compression='brotli',)\n",
    "local_fs.info(file_path)['size']"
   ]
  },
  {
   "cell_type": "code",
   "execution_count": null,
   "metadata": {},
   "outputs": [
    {
     "name": "stdout",
     "output_type": "stream",
     "text": [
      "17.6 ms ± 468 µs per loop (mean ± std. dev. of 7 runs, 10 loops each)\n"
     ]
    }
   ],
   "source": [
    "%%timeit\n",
    "pd.read_parquet(file_path)"
   ]
  },
  {
   "cell_type": "code",
   "execution_count": null,
   "metadata": {},
   "outputs": [
    {
     "name": "stdout",
     "output_type": "stream",
     "text": [
      "CPU times: user 1.15 s, sys: 71 ms, total: 1.23 s\n",
      "Wall time: 1.25 s\n"
     ]
    },
    {
     "data": {
      "text/plain": [
       "8217006"
      ]
     },
     "execution_count": 49,
     "metadata": {},
     "output_type": "execute_result"
    }
   ],
   "source": [
    "%%time\n",
    "file_path = data_dir / 'test_pa_df.parquet'\n",
    "pa_df.to_parquet(file_path,compression='brotli',)\n",
    "local_fs.info(file_path)['size']"
   ]
  },
  {
   "cell_type": "code",
   "execution_count": null,
   "metadata": {},
   "outputs": [
    {
     "name": "stdout",
     "output_type": "stream",
     "text": [
      "16.6 ms ± 111 µs per loop (mean ± std. dev. of 7 runs, 100 loops each)\n"
     ]
    }
   ],
   "source": [
    "%%timeit\n",
    "pd.read_parquet(file_path)"
   ]
  },
  {
   "cell_type": "markdown",
   "metadata": {},
   "source": [
    "Conclusion: about the same write speed and storage size!"
   ]
  },
  {
   "cell_type": "markdown",
   "metadata": {},
   "source": [
    "## Compare geometry as GeoArrow"
   ]
  },
  {
   "cell_type": "code",
   "execution_count": null,
   "metadata": {},
   "outputs": [
    {
     "data": {
      "text/plain": [
       "<geopandas.array.GeometryDtype at 0x168fce190>"
      ]
     },
     "execution_count": 98,
     "metadata": {},
     "output_type": "execute_result"
    }
   ],
   "source": [
    "gdf.geometry.dtype"
   ]
  },
  {
   "cell_type": "code",
   "execution_count": null,
   "metadata": {},
   "outputs": [
    {
     "name": "stdout",
     "output_type": "stream",
     "text": [
      "CPU times: user 51.4 s, sys: 3.66 s, total: 55 s\n",
      "Wall time: 55.6 s\n"
     ]
    },
    {
     "data": {
      "text/plain": [
       "109243077"
      ]
     },
     "execution_count": 42,
     "metadata": {},
     "output_type": "execute_result"
    }
   ],
   "source": [
    "%%time\n",
    "file_path = data_dir / 'test_gdf.parquet'\n",
    "gdf.to_parquet(file_path,compression='brotli',)\n",
    "local_fs.info(file_path)['size']"
   ]
  },
  {
   "cell_type": "code",
   "execution_count": null,
   "metadata": {},
   "outputs": [
    {
     "name": "stdout",
     "output_type": "stream",
     "text": [
      "3.26 s ± 50.2 ms per loop (mean ± std. dev. of 7 runs, 1 loop each)\n"
     ]
    }
   ],
   "source": [
    "%%timeit\n",
    "gpd.read_parquet(data_dir / 'test_gdf.parquet')"
   ]
  },
  {
   "cell_type": "markdown",
   "metadata": {},
   "source": [
    "### Save DF with GeoArrow Geom"
   ]
  },
  {
   "cell_type": "code",
   "execution_count": null,
   "metadata": {},
   "outputs": [
    {
     "data": {
      "text/plain": [
       "GeoArrowExtensionDtype(geoarrow.wkb <PROJJSON:{\n",
       "  \"$schema\": \"https://p...>)"
      ]
     },
     "execution_count": 97,
     "metadata": {},
     "output_type": "execute_result"
    }
   ],
   "source": [
    "pa_df.geom.dtype"
   ]
  },
  {
   "cell_type": "code",
   "execution_count": null,
   "metadata": {},
   "outputs": [
    {
     "name": "stdout",
     "output_type": "stream",
     "text": [
      "CPU times: user 49.7 s, sys: 2.18 s, total: 51.9 s\n",
      "Wall time: 52.7 s\n"
     ]
    },
    {
     "data": {
      "text/plain": [
       "109248267"
      ]
     },
     "execution_count": 95,
     "metadata": {},
     "output_type": "execute_result"
    }
   ],
   "source": [
    "%%time\n",
    "file_path = data_dir / 'test_pa_df.parquet'\n",
    "pa_df.to_parquet(file_path,compression='brotli',)\n",
    "local_fs.info(file_path)['size']"
   ]
  },
  {
   "cell_type": "code",
   "execution_count": null,
   "metadata": {},
   "outputs": [
    {
     "ename": "ValueError",
     "evalue": "format number 1 of \"geoarrow.wkb{\"crs\":{\n  \"$schema\": \"https://proj.org/schemas/v0.7/projjson.schema.json\",\n  \"type\": \"GeographicCRS\",\n  \"name\": \"WGS 84\",\n  \"datum_ensemble\": {\n    \"name\": \"World Geodetic System 1984 ensemble\",\n    \"members\": [\n      {\n        \"name\": \"World Geodetic System 1984 (Transit)\",\n        \"id\": {\n          \"authority\": \"EPSG\",\n          \"code\": 1166\n        }\n      },\n      {\n        \"name\": \"World Geodetic System 1984 (G730)\",\n        \"id\": {\n          \"authority\": \"EPSG\",\n          \"code\": 1152\n        }\n      },\n      {\n        \"name\": \"World Geodetic System 1984 (G873)\",\n        \"id\": {\n          \"authority\": \"EPSG\",\n          \"code\": 1153\n        }\n      },\n      {\n        \"name\": \"World Geodetic System 1984 (G1150)\",\n        \"id\": {\n          \"authority\": \"EPSG\",\n          \"code\": 1154\n        }\n      },\n      {\n        \"name\": \"World Geodetic System 1984 (G1674)\",\n        \"id\": {\n          \"authority\": \"EPSG\",\n          \"code\": 1155\n        }\n      },\n      {\n        \"name\": \"World Geodetic System 1984 (G1762)\",\n        \"id\": {\n          \"authority\": \"EPSG\",\n          \"code\": 1156\n        }\n      },\n      {\n        \"name\": \"World Geodetic System 1984 (G2139)\",\n        \"id\": {\n          \"authority\": \"EPSG\",\n          \"code\": 1309\n        }\n      }\n    ],\n    \"ellipsoid\": {\n      \"name\": \"WGS 84\",\n      \"semi_major_axis\": 6378137,\n      \"inverse_flattening\": 298.257223563\n    },\n    \"accuracy\": \"2.0\",\n    \"id\": {\n      \"authority\": \"EPSG\",\n      \"code\": 6326\n    }\n  },\n  \"coordinate_system\": {\n    \"subtype\": \"ellipsoidal\",\n    \"axis\": [\n      {\n        \"name\": \"Geodetic latitude\",\n        \"abbreviation\": \"Lat\",\n        \"direction\": \"north\",\n        \"unit\": \"degree\"\n      },\n      {\n        \"name\": \"Geodetic longitude\",\n        \"abbreviation\": \"Lon\",\n        \"direction\": \"east\",\n        \"unit\": \"degree\"\n      }\n    ]\n  },\n  \"scope\": \"Horizontal component of 3D system.\",\n  \"area\": \"World.\",\n  \"bbox\": {\n    \"south_latitude\": -90,\n    \"west_longitude\": -180,\n    \"north_latitude\": 90,\n    \"east_longitude\": 180\n  },\n  \"id\": {\n    \"authority\": \"EPSG\",\n    \"code\": 4326\n  }\n}}\" is not recognized",
     "output_type": "error",
     "traceback": [
      "\u001b[0;31m---------------------------------------------------------------------------\u001b[0m",
      "\u001b[0;31mValueError\u001b[0m                                Traceback (most recent call last)",
      "Cell \u001b[0;32mIn[100], line 1\u001b[0m\n\u001b[0;32m----> 1\u001b[0m \u001b[43mget_ipython\u001b[49m\u001b[43m(\u001b[49m\u001b[43m)\u001b[49m\u001b[38;5;241;43m.\u001b[39;49m\u001b[43mrun_cell_magic\u001b[49m\u001b[43m(\u001b[49m\u001b[38;5;124;43m'\u001b[39;49m\u001b[38;5;124;43mtimeit\u001b[39;49m\u001b[38;5;124;43m'\u001b[39;49m\u001b[43m,\u001b[49m\u001b[43m \u001b[49m\u001b[38;5;124;43m'\u001b[39;49m\u001b[38;5;124;43m'\u001b[39;49m\u001b[43m,\u001b[49m\u001b[43m \u001b[49m\u001b[38;5;124;43m\"\u001b[39;49m\u001b[38;5;124;43mpd.read_parquet(data_dir / \u001b[39;49m\u001b[38;5;124;43m'\u001b[39;49m\u001b[38;5;124;43mtest_pa_df.parquet\u001b[39;49m\u001b[38;5;124;43m'\u001b[39;49m\u001b[38;5;124;43m)\u001b[39;49m\u001b[38;5;130;43;01m\\n\u001b[39;49;00m\u001b[38;5;124;43m\"\u001b[39;49m\u001b[43m)\u001b[49m\n",
      "File \u001b[0;32m~/miniconda3/envs/hydrography/lib/python3.11/site-packages/IPython/core/interactiveshell.py:2541\u001b[0m, in \u001b[0;36mInteractiveShell.run_cell_magic\u001b[0;34m(self, magic_name, line, cell)\u001b[0m\n\u001b[1;32m   2539\u001b[0m \u001b[38;5;28;01mwith\u001b[39;00m \u001b[38;5;28mself\u001b[39m\u001b[38;5;241m.\u001b[39mbuiltin_trap:\n\u001b[1;32m   2540\u001b[0m     args \u001b[38;5;241m=\u001b[39m (magic_arg_s, cell)\n\u001b[0;32m-> 2541\u001b[0m     result \u001b[38;5;241m=\u001b[39m \u001b[43mfn\u001b[49m\u001b[43m(\u001b[49m\u001b[38;5;241;43m*\u001b[39;49m\u001b[43margs\u001b[49m\u001b[43m,\u001b[49m\u001b[43m \u001b[49m\u001b[38;5;241;43m*\u001b[39;49m\u001b[38;5;241;43m*\u001b[39;49m\u001b[43mkwargs\u001b[49m\u001b[43m)\u001b[49m\n\u001b[1;32m   2543\u001b[0m \u001b[38;5;66;03m# The code below prevents the output from being displayed\u001b[39;00m\n\u001b[1;32m   2544\u001b[0m \u001b[38;5;66;03m# when using magics with decorator @output_can_be_silenced\u001b[39;00m\n\u001b[1;32m   2545\u001b[0m \u001b[38;5;66;03m# when the last Python token in the expression is a ';'.\u001b[39;00m\n\u001b[1;32m   2546\u001b[0m \u001b[38;5;28;01mif\u001b[39;00m \u001b[38;5;28mgetattr\u001b[39m(fn, magic\u001b[38;5;241m.\u001b[39mMAGIC_OUTPUT_CAN_BE_SILENCED, \u001b[38;5;28;01mFalse\u001b[39;00m):\n",
      "File \u001b[0;32m~/miniconda3/envs/hydrography/lib/python3.11/site-packages/IPython/core/magics/execution.py:1185\u001b[0m, in \u001b[0;36mExecutionMagics.timeit\u001b[0;34m(self, line, cell, local_ns)\u001b[0m\n\u001b[1;32m   1183\u001b[0m \u001b[38;5;28;01mfor\u001b[39;00m index \u001b[38;5;129;01min\u001b[39;00m \u001b[38;5;28mrange\u001b[39m(\u001b[38;5;241m0\u001b[39m, \u001b[38;5;241m10\u001b[39m):\n\u001b[1;32m   1184\u001b[0m     number \u001b[38;5;241m=\u001b[39m \u001b[38;5;241m10\u001b[39m \u001b[38;5;241m*\u001b[39m\u001b[38;5;241m*\u001b[39m index\n\u001b[0;32m-> 1185\u001b[0m     time_number \u001b[38;5;241m=\u001b[39m \u001b[43mtimer\u001b[49m\u001b[38;5;241;43m.\u001b[39;49m\u001b[43mtimeit\u001b[49m\u001b[43m(\u001b[49m\u001b[43mnumber\u001b[49m\u001b[43m)\u001b[49m\n\u001b[1;32m   1186\u001b[0m     \u001b[38;5;28;01mif\u001b[39;00m time_number \u001b[38;5;241m>\u001b[39m\u001b[38;5;241m=\u001b[39m \u001b[38;5;241m0.2\u001b[39m:\n\u001b[1;32m   1187\u001b[0m         \u001b[38;5;28;01mbreak\u001b[39;00m\n",
      "File \u001b[0;32m~/miniconda3/envs/hydrography/lib/python3.11/site-packages/IPython/core/magics/execution.py:173\u001b[0m, in \u001b[0;36mTimer.timeit\u001b[0;34m(self, number)\u001b[0m\n\u001b[1;32m    171\u001b[0m gc\u001b[38;5;241m.\u001b[39mdisable()\n\u001b[1;32m    172\u001b[0m \u001b[38;5;28;01mtry\u001b[39;00m:\n\u001b[0;32m--> 173\u001b[0m     timing \u001b[38;5;241m=\u001b[39m \u001b[38;5;28;43mself\u001b[39;49m\u001b[38;5;241;43m.\u001b[39;49m\u001b[43minner\u001b[49m\u001b[43m(\u001b[49m\u001b[43mit\u001b[49m\u001b[43m,\u001b[49m\u001b[43m \u001b[49m\u001b[38;5;28;43mself\u001b[39;49m\u001b[38;5;241;43m.\u001b[39;49m\u001b[43mtimer\u001b[49m\u001b[43m)\u001b[49m\n\u001b[1;32m    174\u001b[0m \u001b[38;5;28;01mfinally\u001b[39;00m:\n\u001b[1;32m    175\u001b[0m     \u001b[38;5;28;01mif\u001b[39;00m gcold:\n",
      "File \u001b[0;32m<magic-timeit>:1\u001b[0m, in \u001b[0;36minner\u001b[0;34m(_it, _timer)\u001b[0m\n",
      "File \u001b[0;32m~/miniconda3/envs/hydrography/lib/python3.11/site-packages/pandas/io/parquet.py:667\u001b[0m, in \u001b[0;36mread_parquet\u001b[0;34m(path, engine, columns, storage_options, use_nullable_dtypes, dtype_backend, filesystem, filters, **kwargs)\u001b[0m\n\u001b[1;32m    664\u001b[0m     use_nullable_dtypes \u001b[38;5;241m=\u001b[39m \u001b[38;5;28;01mFalse\u001b[39;00m\n\u001b[1;32m    665\u001b[0m check_dtype_backend(dtype_backend)\n\u001b[0;32m--> 667\u001b[0m \u001b[38;5;28;01mreturn\u001b[39;00m \u001b[43mimpl\u001b[49m\u001b[38;5;241;43m.\u001b[39;49m\u001b[43mread\u001b[49m\u001b[43m(\u001b[49m\n\u001b[1;32m    668\u001b[0m \u001b[43m    \u001b[49m\u001b[43mpath\u001b[49m\u001b[43m,\u001b[49m\n\u001b[1;32m    669\u001b[0m \u001b[43m    \u001b[49m\u001b[43mcolumns\u001b[49m\u001b[38;5;241;43m=\u001b[39;49m\u001b[43mcolumns\u001b[49m\u001b[43m,\u001b[49m\n\u001b[1;32m    670\u001b[0m \u001b[43m    \u001b[49m\u001b[43mfilters\u001b[49m\u001b[38;5;241;43m=\u001b[39;49m\u001b[43mfilters\u001b[49m\u001b[43m,\u001b[49m\n\u001b[1;32m    671\u001b[0m \u001b[43m    \u001b[49m\u001b[43mstorage_options\u001b[49m\u001b[38;5;241;43m=\u001b[39;49m\u001b[43mstorage_options\u001b[49m\u001b[43m,\u001b[49m\n\u001b[1;32m    672\u001b[0m \u001b[43m    \u001b[49m\u001b[43muse_nullable_dtypes\u001b[49m\u001b[38;5;241;43m=\u001b[39;49m\u001b[43muse_nullable_dtypes\u001b[49m\u001b[43m,\u001b[49m\n\u001b[1;32m    673\u001b[0m \u001b[43m    \u001b[49m\u001b[43mdtype_backend\u001b[49m\u001b[38;5;241;43m=\u001b[39;49m\u001b[43mdtype_backend\u001b[49m\u001b[43m,\u001b[49m\n\u001b[1;32m    674\u001b[0m \u001b[43m    \u001b[49m\u001b[43mfilesystem\u001b[49m\u001b[38;5;241;43m=\u001b[39;49m\u001b[43mfilesystem\u001b[49m\u001b[43m,\u001b[49m\n\u001b[1;32m    675\u001b[0m \u001b[43m    \u001b[49m\u001b[38;5;241;43m*\u001b[39;49m\u001b[38;5;241;43m*\u001b[39;49m\u001b[43mkwargs\u001b[49m\u001b[43m,\u001b[49m\n\u001b[1;32m    676\u001b[0m \u001b[43m\u001b[49m\u001b[43m)\u001b[49m\n",
      "File \u001b[0;32m~/miniconda3/envs/hydrography/lib/python3.11/site-packages/pandas/io/parquet.py:281\u001b[0m, in \u001b[0;36mPyArrowImpl.read\u001b[0;34m(self, path, columns, filters, use_nullable_dtypes, dtype_backend, storage_options, filesystem, **kwargs)\u001b[0m\n\u001b[1;32m    273\u001b[0m \u001b[38;5;28;01mtry\u001b[39;00m:\n\u001b[1;32m    274\u001b[0m     pa_table \u001b[38;5;241m=\u001b[39m \u001b[38;5;28mself\u001b[39m\u001b[38;5;241m.\u001b[39mapi\u001b[38;5;241m.\u001b[39mparquet\u001b[38;5;241m.\u001b[39mread_table(\n\u001b[1;32m    275\u001b[0m         path_or_handle,\n\u001b[1;32m    276\u001b[0m         columns\u001b[38;5;241m=\u001b[39mcolumns,\n\u001b[0;32m   (...)\u001b[0m\n\u001b[1;32m    279\u001b[0m         \u001b[38;5;241m*\u001b[39m\u001b[38;5;241m*\u001b[39mkwargs,\n\u001b[1;32m    280\u001b[0m     )\n\u001b[0;32m--> 281\u001b[0m     result \u001b[38;5;241m=\u001b[39m \u001b[43mpa_table\u001b[49m\u001b[38;5;241;43m.\u001b[39;49m\u001b[43mto_pandas\u001b[49m\u001b[43m(\u001b[49m\u001b[38;5;241;43m*\u001b[39;49m\u001b[38;5;241;43m*\u001b[39;49m\u001b[43mto_pandas_kwargs\u001b[49m\u001b[43m)\u001b[49m\n\u001b[1;32m    283\u001b[0m     \u001b[38;5;28;01mif\u001b[39;00m manager \u001b[38;5;241m==\u001b[39m \u001b[38;5;124m\"\u001b[39m\u001b[38;5;124marray\u001b[39m\u001b[38;5;124m\"\u001b[39m:\n\u001b[1;32m    284\u001b[0m         result \u001b[38;5;241m=\u001b[39m result\u001b[38;5;241m.\u001b[39m_as_manager(\u001b[38;5;124m\"\u001b[39m\u001b[38;5;124marray\u001b[39m\u001b[38;5;124m\"\u001b[39m, copy\u001b[38;5;241m=\u001b[39m\u001b[38;5;28;01mFalse\u001b[39;00m)\n",
      "File \u001b[0;32m~/miniconda3/envs/hydrography/lib/python3.11/site-packages/pyarrow/array.pxi:872\u001b[0m, in \u001b[0;36mpyarrow.lib._PandasConvertible.to_pandas\u001b[0;34m()\u001b[0m\n",
      "File \u001b[0;32m~/miniconda3/envs/hydrography/lib/python3.11/site-packages/pyarrow/table.pxi:4904\u001b[0m, in \u001b[0;36mpyarrow.lib.Table._to_pandas\u001b[0;34m()\u001b[0m\n",
      "File \u001b[0;32m~/miniconda3/envs/hydrography/lib/python3.11/site-packages/pyarrow/pandas_compat.py:769\u001b[0m, in \u001b[0;36mtable_to_dataframe\u001b[0;34m(options, table, categories, ignore_metadata, types_mapper)\u001b[0m\n\u001b[1;32m    766\u001b[0m     table \u001b[38;5;241m=\u001b[39m _add_any_metadata(table, pandas_metadata)\n\u001b[1;32m    767\u001b[0m     table, index \u001b[38;5;241m=\u001b[39m _reconstruct_index(table, index_descriptors,\n\u001b[1;32m    768\u001b[0m                                       all_columns, types_mapper)\n\u001b[0;32m--> 769\u001b[0m     ext_columns_dtypes \u001b[38;5;241m=\u001b[39m \u001b[43m_get_extension_dtypes\u001b[49m\u001b[43m(\u001b[49m\n\u001b[1;32m    770\u001b[0m \u001b[43m        \u001b[49m\u001b[43mtable\u001b[49m\u001b[43m,\u001b[49m\u001b[43m \u001b[49m\u001b[43mall_columns\u001b[49m\u001b[43m,\u001b[49m\u001b[43m \u001b[49m\u001b[43mtypes_mapper\u001b[49m\u001b[43m)\u001b[49m\n\u001b[1;32m    771\u001b[0m \u001b[38;5;28;01melse\u001b[39;00m:\n\u001b[1;32m    772\u001b[0m     index \u001b[38;5;241m=\u001b[39m _pandas_api\u001b[38;5;241m.\u001b[39mpd\u001b[38;5;241m.\u001b[39mRangeIndex(table\u001b[38;5;241m.\u001b[39mnum_rows)\n",
      "File \u001b[0;32m~/miniconda3/envs/hydrography/lib/python3.11/site-packages/pyarrow/pandas_compat.py:848\u001b[0m, in \u001b[0;36m_get_extension_dtypes\u001b[0;34m(table, columns_metadata, types_mapper)\u001b[0m\n\u001b[1;32m    843\u001b[0m dtype \u001b[38;5;241m=\u001b[39m col_meta[\u001b[38;5;124m'\u001b[39m\u001b[38;5;124mnumpy_type\u001b[39m\u001b[38;5;124m'\u001b[39m]\n\u001b[1;32m    845\u001b[0m \u001b[38;5;28;01mif\u001b[39;00m dtype \u001b[38;5;129;01mnot\u001b[39;00m \u001b[38;5;129;01min\u001b[39;00m _pandas_supported_numpy_types:\n\u001b[1;32m    846\u001b[0m     \u001b[38;5;66;03m# pandas_dtype is expensive, so avoid doing this for types\u001b[39;00m\n\u001b[1;32m    847\u001b[0m     \u001b[38;5;66;03m# that are certainly numpy dtypes\u001b[39;00m\n\u001b[0;32m--> 848\u001b[0m     pandas_dtype \u001b[38;5;241m=\u001b[39m \u001b[43m_pandas_api\u001b[49m\u001b[38;5;241;43m.\u001b[39;49m\u001b[43mpandas_dtype\u001b[49m\u001b[43m(\u001b[49m\u001b[43mdtype\u001b[49m\u001b[43m)\u001b[49m\n\u001b[1;32m    849\u001b[0m     \u001b[38;5;28;01mif\u001b[39;00m \u001b[38;5;28misinstance\u001b[39m(pandas_dtype, _pandas_api\u001b[38;5;241m.\u001b[39mextension_dtype):\n\u001b[1;32m    850\u001b[0m         \u001b[38;5;28;01mif\u001b[39;00m \u001b[38;5;28mhasattr\u001b[39m(pandas_dtype, \u001b[38;5;124m\"\u001b[39m\u001b[38;5;124m__from_arrow__\u001b[39m\u001b[38;5;124m\"\u001b[39m):\n",
      "File \u001b[0;32m~/miniconda3/envs/hydrography/lib/python3.11/site-packages/pyarrow/pandas-shim.pxi:148\u001b[0m, in \u001b[0;36mpyarrow.lib._PandasAPIShim.pandas_dtype\u001b[0;34m()\u001b[0m\n",
      "File \u001b[0;32m~/miniconda3/envs/hydrography/lib/python3.11/site-packages/pyarrow/pandas-shim.pxi:151\u001b[0m, in \u001b[0;36mpyarrow.lib._PandasAPIShim.pandas_dtype\u001b[0;34m()\u001b[0m\n",
      "File \u001b[0;32m~/miniconda3/envs/hydrography/lib/python3.11/site-packages/pandas/core/dtypes/common.py:1645\u001b[0m, in \u001b[0;36mpandas_dtype\u001b[0;34m(dtype)\u001b[0m\n\u001b[1;32m   1640\u001b[0m     \u001b[38;5;28;01mwith\u001b[39;00m warnings\u001b[38;5;241m.\u001b[39mcatch_warnings():\n\u001b[1;32m   1641\u001b[0m         \u001b[38;5;66;03m# GH#51523 - Series.astype(np.integer) doesn't show\u001b[39;00m\n\u001b[1;32m   1642\u001b[0m         \u001b[38;5;66;03m# numpy deprecation warning of np.integer\u001b[39;00m\n\u001b[1;32m   1643\u001b[0m         \u001b[38;5;66;03m# Hence enabling DeprecationWarning\u001b[39;00m\n\u001b[1;32m   1644\u001b[0m         warnings\u001b[38;5;241m.\u001b[39msimplefilter(\u001b[38;5;124m\"\u001b[39m\u001b[38;5;124malways\u001b[39m\u001b[38;5;124m\"\u001b[39m, \u001b[38;5;167;01mDeprecationWarning\u001b[39;00m)\n\u001b[0;32m-> 1645\u001b[0m         npdtype \u001b[38;5;241m=\u001b[39m \u001b[43mnp\u001b[49m\u001b[38;5;241;43m.\u001b[39;49m\u001b[43mdtype\u001b[49m\u001b[43m(\u001b[49m\u001b[43mdtype\u001b[49m\u001b[43m)\u001b[49m\n\u001b[1;32m   1646\u001b[0m \u001b[38;5;28;01mexcept\u001b[39;00m \u001b[38;5;167;01mSyntaxError\u001b[39;00m \u001b[38;5;28;01mas\u001b[39;00m err:\n\u001b[1;32m   1647\u001b[0m     \u001b[38;5;66;03m# np.dtype uses `eval` which can raise SyntaxError\u001b[39;00m\n\u001b[1;32m   1648\u001b[0m     \u001b[38;5;28;01mraise\u001b[39;00m \u001b[38;5;167;01mTypeError\u001b[39;00m(\u001b[38;5;124mf\u001b[39m\u001b[38;5;124m\"\u001b[39m\u001b[38;5;124mdata type \u001b[39m\u001b[38;5;124m'\u001b[39m\u001b[38;5;132;01m{\u001b[39;00mdtype\u001b[38;5;132;01m}\u001b[39;00m\u001b[38;5;124m'\u001b[39m\u001b[38;5;124m not understood\u001b[39m\u001b[38;5;124m\"\u001b[39m) \u001b[38;5;28;01mfrom\u001b[39;00m \u001b[38;5;21;01merr\u001b[39;00m\n",
      "File \u001b[0;32m~/miniconda3/envs/hydrography/lib/python3.11/site-packages/numpy/core/_internal.py:176\u001b[0m, in \u001b[0;36m_commastring\u001b[0;34m(astr)\u001b[0m\n\u001b[1;32m    174\u001b[0m         mo \u001b[38;5;241m=\u001b[39m sep_re\u001b[38;5;241m.\u001b[39mmatch(astr, pos\u001b[38;5;241m=\u001b[39mstartindex)\n\u001b[1;32m    175\u001b[0m         \u001b[38;5;28;01mif\u001b[39;00m \u001b[38;5;129;01mnot\u001b[39;00m mo:\n\u001b[0;32m--> 176\u001b[0m             \u001b[38;5;28;01mraise\u001b[39;00m \u001b[38;5;167;01mValueError\u001b[39;00m(\n\u001b[1;32m    177\u001b[0m                 \u001b[38;5;124m'\u001b[39m\u001b[38;5;124mformat number \u001b[39m\u001b[38;5;132;01m%d\u001b[39;00m\u001b[38;5;124m of \u001b[39m\u001b[38;5;124m\"\u001b[39m\u001b[38;5;132;01m%s\u001b[39;00m\u001b[38;5;124m\"\u001b[39m\u001b[38;5;124m is not recognized\u001b[39m\u001b[38;5;124m'\u001b[39m \u001b[38;5;241m%\u001b[39m\n\u001b[1;32m    178\u001b[0m                 (\u001b[38;5;28mlen\u001b[39m(result)\u001b[38;5;241m+\u001b[39m\u001b[38;5;241m1\u001b[39m, astr))\n\u001b[1;32m    179\u001b[0m         startindex \u001b[38;5;241m=\u001b[39m mo\u001b[38;5;241m.\u001b[39mend()\n\u001b[1;32m    181\u001b[0m \u001b[38;5;28;01mif\u001b[39;00m order2 \u001b[38;5;241m==\u001b[39m \u001b[38;5;124m'\u001b[39m\u001b[38;5;124m'\u001b[39m:\n",
      "\u001b[0;31mValueError\u001b[0m: format number 1 of \"geoarrow.wkb{\"crs\":{\n  \"$schema\": \"https://proj.org/schemas/v0.7/projjson.schema.json\",\n  \"type\": \"GeographicCRS\",\n  \"name\": \"WGS 84\",\n  \"datum_ensemble\": {\n    \"name\": \"World Geodetic System 1984 ensemble\",\n    \"members\": [\n      {\n        \"name\": \"World Geodetic System 1984 (Transit)\",\n        \"id\": {\n          \"authority\": \"EPSG\",\n          \"code\": 1166\n        }\n      },\n      {\n        \"name\": \"World Geodetic System 1984 (G730)\",\n        \"id\": {\n          \"authority\": \"EPSG\",\n          \"code\": 1152\n        }\n      },\n      {\n        \"name\": \"World Geodetic System 1984 (G873)\",\n        \"id\": {\n          \"authority\": \"EPSG\",\n          \"code\": 1153\n        }\n      },\n      {\n        \"name\": \"World Geodetic System 1984 (G1150)\",\n        \"id\": {\n          \"authority\": \"EPSG\",\n          \"code\": 1154\n        }\n      },\n      {\n        \"name\": \"World Geodetic System 1984 (G1674)\",\n        \"id\": {\n          \"authority\": \"EPSG\",\n          \"code\": 1155\n        }\n      },\n      {\n        \"name\": \"World Geodetic System 1984 (G1762)\",\n        \"id\": {\n          \"authority\": \"EPSG\",\n          \"code\": 1156\n        }\n      },\n      {\n        \"name\": \"World Geodetic System 1984 (G2139)\",\n        \"id\": {\n          \"authority\": \"EPSG\",\n          \"code\": 1309\n        }\n      }\n    ],\n    \"ellipsoid\": {\n      \"name\": \"WGS 84\",\n      \"semi_major_axis\": 6378137,\n      \"inverse_flattening\": 298.257223563\n    },\n    \"accuracy\": \"2.0\",\n    \"id\": {\n      \"authority\": \"EPSG\",\n      \"code\": 6326\n    }\n  },\n  \"coordinate_system\": {\n    \"subtype\": \"ellipsoidal\",\n    \"axis\": [\n      {\n        \"name\": \"Geodetic latitude\",\n        \"abbreviation\": \"Lat\",\n        \"direction\": \"north\",\n        \"unit\": \"degree\"\n      },\n      {\n        \"name\": \"Geodetic longitude\",\n        \"abbreviation\": \"Lon\",\n        \"direction\": \"east\",\n        \"unit\": \"degree\"\n      }\n    ]\n  },\n  \"scope\": \"Horizontal component of 3D system.\",\n  \"area\": \"World.\",\n  \"bbox\": {\n    \"south_latitude\": -90,\n    \"west_longitude\": -180,\n    \"north_latitude\": 90,\n    \"east_longitude\": 180\n  },\n  \"id\": {\n    \"authority\": \"EPSG\",\n    \"code\": 4326\n  }\n}}\" is not recognized"
     ]
    }
   ],
   "source": [
    "%%timeit\n",
    "pd.read_parquet(data_dir / 'test_pa_df.parquet')"
   ]
  },
  {
   "cell_type": "markdown",
   "metadata": {},
   "source": [
    "## GeoArrow only works with Pandas, not GeoPandas!"
   ]
  },
  {
   "cell_type": "code",
   "execution_count": null,
   "metadata": {},
   "outputs": [
    {
     "data": {
      "text/plain": [
       "0         LINESTRING (-69.67822 46.41356, -69.67822 46.4...\n",
       "1         LINESTRING (-69.68589 46.40778, -69.68600 46.4...\n",
       "2         LINESTRING (-69.67822 46.41356, -69.67811 46.4...\n",
       "3         LINESTRING (-69.68589 46.40778, -69.68589 46.4...\n",
       "4         LINESTRING (-69.68700 46.37911, -69.68700 46.3...\n",
       "                                ...                        \n",
       "140092    LINESTRING (-81.59922 24.64033, -81.59911 24.6...\n",
       "140093    LINESTRING (-81.63022 24.61767, -81.63011 24.6...\n",
       "140094    LINESTRING (-81.60144 24.58478, -81.60156 24.5...\n",
       "140095    LINESTRING (-81.64478 24.57489, -81.64489 24.5...\n",
       "140096    LINESTRING (-81.68000 24.55900, -81.68011 24.5...\n",
       "Name: geometry, Length: 140097, dtype: geometry"
      ]
     },
     "execution_count": 62,
     "metadata": {},
     "output_type": "execute_result"
    }
   ],
   "source": [
    "gdf.geometry"
   ]
  },
  {
   "cell_type": "code",
   "execution_count": null,
   "metadata": {},
   "outputs": [],
   "source": [
    "# Convert to geoarrow\n",
    "ga_gdf = gdf.copy(deep=True)"
   ]
  },
  {
   "cell_type": "code",
   "execution_count": null,
   "metadata": {},
   "outputs": [
    {
     "data": {
      "text/plain": [
       "0         LINESTRING (-69.67822222222121 46.413555555555...\n",
       "1         LINESTRING (-69.68588888888787 46.407777777777...\n",
       "2         LINESTRING (-69.67822222222121 46.413555555555...\n",
       "3         LINESTRING (-69.68588888888787 46.407777777777...\n",
       "4         LINESTRING (-69.68699999999899 46.379111111111...\n",
       "                                ...                        \n",
       "140092    LINESTRING (-81.59922222222181 24.640333333332...\n",
       "140093    LINESTRING (-81.6302222222218 24.6176666666655...\n",
       "140094    LINESTRING (-81.60144444444403 24.584777777776...\n",
       "140095    LINESTRING (-81.64477777777736 24.574888888887...\n",
       "140096    LINESTRING (-81.67999999999958 24.558999999998...\n",
       "Length: 140097, dtype: geoarrow.linestring{\"crs\":{\"$schema\":\"https://proj.org/schemas/v0.7/projjson.schema.json\",\"type\":\"GeographicCRS\",\"name\":\"WGS 84\",\"datum_ensemble\":{\"name\":\"World Geodetic System 1984 ensemble\",\"members\":[{\"name\":\"World Geodetic System 1984 (Transit)\",\"id\":{\"authority\":\"EPSG\",\"code\":1166}},{\"name\":\"World Geodetic System 1984 (G730)\",\"id\":{\"authority\":\"EPSG\",\"code\":1152}},{\"name\":\"World Geodetic System 1984 (G873)\",\"id\":{\"authority\":\"EPSG\",\"code\":1153}},{\"name\":\"World Geodetic System 1984 (G1150)\",\"id\":{\"authority\":\"EPSG\",\"code\":1154}},{\"name\":\"World Geodetic System 1984 (G1674)\",\"id\":{\"authority\":\"EPSG\",\"code\":1155}},{\"name\":\"World Geodetic System 1984 (G1762)\",\"id\":{\"authority\":\"EPSG\",\"code\":1156}},{\"name\":\"World Geodetic System 1984 (G2139)\",\"id\":{\"authority\":\"EPSG\",\"code\":1309}}],\"ellipsoid\":{\"name\":\"WGS 84\",\"semi_major_axis\":6378137,\"inverse_flattening\":298.257223563},\"accuracy\":\"2.0\",\"id\":{\"authority\":\"EPSG\",\"code\":6326}},\"coordinate_system\":{\"subtype\":\"ellipsoidal\",\"axis\":[{\"name\":\"Geodetic latitude\",\"abbreviation\":\"Lat\",\"direction\":\"north\",\"unit\":\"degree\"},{\"name\":\"Geodetic longitude\",\"abbreviation\":\"Lon\",\"direction\":\"east\",\"unit\":\"degree\"}]},\"scope\":\"Horizontal component of 3D system.\",\"area\":\"World.\",\"bbox\":{\"south_latitude\":-90,\"west_longitude\":-180,\"north_latitude\":90,\"east_longitude\":180},\"id\":{\"authority\":\"EPSG\",\"code\":4326}}}"
      ]
     },
     "execution_count": 76,
     "metadata": {},
     "output_type": "execute_result"
    }
   ],
   "source": [
    "ga_gdf.geometry.geoarrow.as_geoarrow()"
   ]
  },
  {
   "cell_type": "code",
   "execution_count": null,
   "metadata": {},
   "outputs": [],
   "source": []
  }
 ],
 "metadata": {
  "kernelspec": {
   "display_name": "hydrography",
   "language": "python",
   "name": "python3"
  },
  "language_info": {
   "codemirror_mode": {
    "name": "ipython",
    "version": 3
   },
   "file_extension": ".py",
   "mimetype": "text/x-python",
   "name": "python",
   "nbconvert_exporter": "python",
   "pygments_lexer": "ipython3",
   "version": "3.11.9"
  }
 },
 "nbformat": 4,
 "nbformat_minor": 2
}
