{
 "cells": [
  {
   "cell_type": "markdown",
   "metadata": {},
   "source": [
    "# Get Global Hydrography from NGA TDX-Hydro \n",
    "\n",
    "This notebook demonstrates how to use functions in the [WikiWatershed/global-hydrography](https://github.com/WikiWatershed/global-hydrography) package to fetch data files from the TDX-Hydro dataserts released by the [US National Geospatial-Intelligence Agency (NGA)](https://www.nga.mil).\n",
    "\n",
    "It uses processes that were explored in these notebooks:\n",
    "- `sandbox/explore_data_sources.ipynb`\n",
    "- `sandbox/reading_files.ipynb`"
   ]
  },
  {
   "cell_type": "markdown",
   "metadata": {},
   "source": [
    "# Installation and Setup\n",
    "\n",
    "Carefully follow our **[Installation Instructions](README.md#get-started)**, especially including:\n",
    "- Creating a virtual environment for this repository (step 3)"
   ]
  },
  {
   "cell_type": "markdown",
   "metadata": {},
   "source": [
    "## Python Imports\n",
    "Using common conventions and following the [Google Python Style Guide](https://google.github.io/styleguide/pyguide.html): \n",
    "- https://google.github.io/styleguide/pyguide.html#s2.2-imports"
   ]
  },
  {
   "cell_type": "code",
   "execution_count": 1,
   "metadata": {},
   "outputs": [],
   "source": [
    "import os\n",
    "from pathlib import Path\n",
    "from importlib import reload\n",
    "\n",
    "import fsspec\n",
    "import s3fs\n",
    "import numpy as np\n",
    "import pandas as pd\n",
    "import geopandas as gpd\n",
    "import pyogrio\n",
    "import pyarrow as pa"
   ]
  },
  {
   "cell_type": "code",
   "execution_count": 2,
   "metadata": {},
   "outputs": [
    {
     "data": {
      "text/plain": [
       "'hydrography'"
      ]
     },
     "execution_count": 2,
     "metadata": {},
     "output_type": "execute_result"
    }
   ],
   "source": [
    "# Confirm conda environment\n",
    "os.environ['CONDA_DEFAULT_ENV']"
   ]
  },
  {
   "cell_type": "code",
   "execution_count": 3,
   "metadata": {},
   "outputs": [],
   "source": [
    "# Custom functions for Global Hydrography\n",
    "import global_hydrography as gh"
   ]
  },
  {
   "cell_type": "markdown",
   "metadata": {},
   "source": [
    "### If you get `ModuleNotFoundError`:\n",
    "\n",
    "Then follow Installation instructions Step **4. Add your `global_hydrography` Path to Miniconda/Anaconda sites-packages** in the main ReadMe, running the following in your console, replacing `/your/path/to/global_hydrography/src` with your specific path.\n",
    "\n",
    "```console\n",
    "conda develop '/your/path/to/global_hydrography/src'\n",
    "```\n",
    "\n",
    "Then restart the kernel and rerun the imports above.\n"
   ]
  },
  {
   "cell_type": "code",
   "execution_count": 4,
   "metadata": {},
   "outputs": [
    {
     "name": "stdout",
     "output_type": "stream",
     "text": [
      "path exists, skipping /Users/aaufdenkampe/Documents/Python/global-hydrography/src\n",
      "completed operation for: /Users/aaufdenkampe/Documents/Python/global-hydrography/src\n"
     ]
    }
   ],
   "source": [
    "! conda develop '/Users/aaufdenkampe/Documents/Python/global-hydrography/src'"
   ]
  },
  {
   "cell_type": "code",
   "execution_count": 5,
   "metadata": {},
   "outputs": [
    {
     "data": {
      "text/plain": [
       "['__builtins__',\n",
       " '__cached__',\n",
       " '__doc__',\n",
       " '__file__',\n",
       " '__loader__',\n",
       " '__name__',\n",
       " '__package__',\n",
       " '__path__',\n",
       " '__spec__',\n",
       " 'io']"
      ]
     },
     "execution_count": 5,
     "metadata": {},
     "output_type": "execute_result"
    }
   ],
   "source": [
    "# Explore the namespace for global-hydrography modules, functions, etc.\n",
    "dir(gh)"
   ]
  },
  {
   "cell_type": "code",
   "execution_count": 6,
   "metadata": {},
   "outputs": [
    {
     "data": {
      "text/plain": [
       "{'af': 'Africa',\n",
       " 'ar': 'North American Arctic',\n",
       " 'as': 'Central and South-East Asia',\n",
       " 'au': 'Australia and Oceania',\n",
       " 'eu': 'Europe and Middle East',\n",
       " 'gr': 'Greenland',\n",
       " 'na': 'North America and Caribbean sa South America',\n",
       " 'si': 'Siberia'}"
      ]
     },
     "execution_count": 6,
     "metadata": {},
     "output_type": "execute_result"
    }
   ],
   "source": [
    "# Check imports\n",
    "gh.io.hybas_region_dict"
   ]
  },
  {
   "cell_type": "code",
   "execution_count": 7,
   "metadata": {},
   "outputs": [
    {
     "data": {
      "text/plain": [
       "<module 'global_hydrography.io' from '/Users/aaufdenkampe/Documents/Python/global-hydrography/src/global_hydrography/io.py'>"
      ]
     },
     "execution_count": 7,
     "metadata": {},
     "output_type": "execute_result"
    }
   ],
   "source": [
    "# Reload the module as necessary during development.\n",
    "reload(gh.io)"
   ]
  },
  {
   "cell_type": "markdown",
   "metadata": {},
   "source": [
    "## Set Paths for Data Inputs/Outputs\n",
    "Use the [`pathlib`](https://docs.python.org/3/library/pathlib.html) library, whose many benfits for managing paths over  `os` library or string-based approaches are described in [this blog post](https://medium.com/@ageitgey/python-3-quick-tip-the-easy-way-to-deal-with-file-paths-on-windows-mac-and-linux-11a072b58d5f).\n",
    "- [pathlib](https://docs.python.org/3/library/pathlib.html) user guide: https://realpython.com/python-pathlib/"
   ]
  },
  {
   "cell_type": "code",
   "execution_count": 8,
   "metadata": {},
   "outputs": [
    {
     "data": {
      "text/plain": [
       "PosixPath('/Users/aaufdenkampe/Documents/Python/global-hydrography/data_temp')"
      ]
     },
     "execution_count": 8,
     "metadata": {},
     "output_type": "execute_result"
    }
   ],
   "source": [
    "# Confirm your current working directory (cwd) and repo/project directory\n",
    "working_dir = Path.cwd()\n",
    "project_dir = working_dir.parent\n",
    "data_dir = project_dir / 'data_temp' # a temporary data directory that we .gitignore\n",
    "data_dir"
   ]
  },
  {
   "cell_type": "markdown",
   "metadata": {},
   "source": [
    "## Create local file system using `fsspec` library\n",
    "\n",
    "We'll use the Filesystem Spec ([`fsspec`](https://filesystem-spec.readthedocs.io)) library and its extensions throughout this project to provide a unified pythonic interface to local, remote and embedded file systems and bytes storage."
   ]
  },
  {
   "cell_type": "code",
   "execution_count": 9,
   "metadata": {},
   "outputs": [],
   "source": [
    "# Create local file system using fsspec library\n",
    "# local_fs = fsspec.implementations.local.LocalFileSystem()\n",
    "local_fs = fsspec.filesystem('local') "
   ]
  },
  {
   "cell_type": "code",
   "execution_count": 10,
   "metadata": {},
   "outputs": [
    {
     "data": {
      "text/plain": [
       "['/Users/aaufdenkampe/Documents/Python/global-hydrography/data_temp/global_hydrography.qgz',\n",
       " '/Users/aaufdenkampe/Documents/Python/global-hydrography/data_temp/geoglows-v2',\n",
       " '/Users/aaufdenkampe/Documents/Python/global-hydrography/data_temp/.DS_Store',\n",
       " '/Users/aaufdenkampe/Documents/Python/global-hydrography/data_temp/io_10m_annual_lulc',\n",
       " '/Users/aaufdenkampe/Documents/Python/global-hydrography/data_temp/nhdplus2',\n",
       " '/Users/aaufdenkampe/Documents/Python/global-hydrography/data_temp/hydrobasins',\n",
       " '/Users/aaufdenkampe/Documents/Python/global-hydrography/data_temp/nga']"
      ]
     },
     "execution_count": 10,
     "metadata": {},
     "output_type": "execute_result"
    }
   ],
   "source": [
    "# List files in our temporary data directory\n",
    "local_fs.ls(data_dir)"
   ]
  },
  {
   "cell_type": "code",
   "execution_count": 12,
   "metadata": {},
   "outputs": [
    {
     "data": {
      "text/plain": [
       "{'name': '/Users/aaufdenkampe/Documents/Python/global-hydrography/data_temp/global_hydrography.qgz',\n",
       " 'size': 136080,\n",
       " 'type': 'file',\n",
       " 'created': 1715865642.721543,\n",
       " 'islink': False,\n",
       " 'mode': 33188,\n",
       " 'uid': 502,\n",
       " 'gid': 20,\n",
       " 'mtime': 1715865642.721089,\n",
       " 'ino': 270190000,\n",
       " 'nlink': 1}"
      ]
     },
     "execution_count": 12,
     "metadata": {},
     "output_type": "execute_result"
    }
   ],
   "source": [
    "# List file details (equivalent to file info)\n",
    "local_data_list = local_fs.ls(data_dir, detail=True)\n",
    "# Show first item's details\n",
    "local_data_list[0]"
   ]
  },
  {
   "cell_type": "markdown",
   "metadata": {},
   "source": [
    "# NGA TDX-Hydro\n",
    "\n",
    "Data downloadable from the National Geospatial-Intelligence Agency (NGA) Office for Geomatics website, https://earth-info.nga.mil/, under the \"Geosciences\" tab.\n",
    "\n",
    "The [TDX-Hydro Technical Document](https://earth-info.nga.mil/php/download.php?file=tdx-hydro-technical-doc) provides detailed information on how the datasets were developed and validated."
   ]
  },
  {
   "cell_type": "code",
   "execution_count": 17,
   "metadata": {},
   "outputs": [
    {
     "data": {
      "text/plain": [
       "PosixPath('/Users/aaufdenkampe/Documents/Python/global-hydrography/data_temp/nga')"
      ]
     },
     "execution_count": 17,
     "metadata": {},
     "output_type": "execute_result"
    }
   ],
   "source": [
    "# Create local data directory\n",
    "tdx_dir = data_dir / 'nga'\n",
    "tdx_dir"
   ]
  },
  {
   "cell_type": "code",
   "execution_count": 16,
   "metadata": {},
   "outputs": [
    {
     "data": {
      "text/plain": [
       "True"
      ]
     },
     "execution_count": 16,
     "metadata": {},
     "output_type": "execute_result"
    }
   ],
   "source": [
    "local_fs.exists(tdx_dir)"
   ]
  },
  {
   "cell_type": "markdown",
   "metadata": {},
   "source": [
    "## Get TDX-Hydro Metadata\n",
    "\n",
    "TDX-Hydro datasets are organized into 55 continental sub-units using the same 10-digit Level 2 codes (HYBAS_ID) developed by [HydroSHEDS v1 HydroBASINS](https://www.hydrosheds.org/products/hydrobasins). More information on the semantics of these codes are provided in the [HydroBASINS Technical Documentation](https://data.hydrosheds.org/file/technical-documentation/HydroBASINS_TechDoc_v1c.pdf).\n",
    "\n",
    "The exact boundaries of the TDX-Hydro 55 continental sub-units differ from HydroBASINS, and are provided by the \"Basin GeoJSON File with ID Numbers\" (95 MB)."
   ]
  },
  {
   "cell_type": "code",
   "execution_count": 24,
   "metadata": {},
   "outputs": [
    {
     "data": {
      "text/plain": [
       "'https://earth-info.nga.mil/php/download.php?file=hydrobasins_level2'"
      ]
     },
     "execution_count": 24,
     "metadata": {},
     "output_type": "execute_result"
    }
   ],
   "source": [
    "tdx_root_url = 'https://earth-info.nga.mil/php/download.php'\n",
    "\n",
    "tdx_hydrobasins_filename = 'hydrobasins_level2'\n",
    "# Download URL for Basin GeoJSON File with ID Numbers\n",
    "tdx_hydrobasins_url = f'{tdx_root_url}?file={tdx_hydrobasins_filename}'\n",
    "tdx_hydrobasins_url"
   ]
  },
  {
   "cell_type": "code",
   "execution_count": 25,
   "metadata": {},
   "outputs": [],
   "source": [
    "# Set up file system for TDX-Hydro HTTP filesystem, which unfortunately \n",
    "# isn't set up in accessible directories so files need to be accessed one at a time.\n",
    "tdx_fs = fsspec.filesystem(protocol='http')"
   ]
  },
  {
   "cell_type": "code",
   "execution_count": 26,
   "metadata": {},
   "outputs": [
    {
     "data": {
      "text/plain": [
       "{'name': 'https://earth-info.nga.mil/php/download.php?file=hydrobasins_level2',\n",
       " 'size': 95389402,\n",
       " 'mimetype': 'application/octet-stream',\n",
       " 'url': 'https://earth-info.nga.mil/php/download.php?file=hydrobasins_level2',\n",
       " 'type': 'file'}"
      ]
     },
     "execution_count": 26,
     "metadata": {},
     "output_type": "execute_result"
    }
   ],
   "source": [
    "# Get info on the file, which should only take a few seconds\n",
    "tdx_fs.info(tdx_hydrobasins_url)"
   ]
  },
  {
   "cell_type": "code",
   "execution_count": 27,
   "metadata": {},
   "outputs": [
    {
     "name": "stdout",
     "output_type": "stream",
     "text": [
      "CPU times: user 2.85 s, sys: 1.5 s, total: 4.36 s\n",
      "Wall time: 59 s\n"
     ]
    },
    {
     "data": {
      "text/plain": [
       "[None]"
      ]
     },
     "execution_count": 27,
     "metadata": {},
     "output_type": "execute_result"
    }
   ],
   "source": [
    "%%time\n",
    "# Get the remote file and save to local directory, returns None\n",
    "tdx_fs.get(tdx_hydrobasins_url, str(tdx_dir))\n"
   ]
  },
  {
   "cell_type": "code",
   "execution_count": 34,
   "metadata": {},
   "outputs": [
    {
     "data": {
      "text/plain": [
       "'/Users/aaufdenkampe/Documents/Python/global-hydrography/data_temp/nga/download.php?file=hydrobasins_level2'"
      ]
     },
     "execution_count": 34,
     "metadata": {},
     "output_type": "execute_result"
    }
   ],
   "source": [
    "# NOTE: the file is named 'download.php?file=hydrobasins_level2'\n",
    "local_fs.ls(tdx_dir)[5]"
   ]
  },
  {
   "cell_type": "markdown",
   "metadata": {},
   "source": [
    "TODO: Wrap the command below into a function that:\n",
    "- includes a 'local_filename' argument\n",
    "- checks if the 'local_filename' exists\n",
    "- If not, downloads the file and renames it to 'local_filename'\n",
    "\n",
    "The check might look something like this:\n",
    "\n",
    "```py\n",
    "if local_filepath.exists():\n",
    "    print('We have it!')\n",
    "else:\n",
    "    tdx_fs.get(tdx_hydrobasins_url, str(tdx_dir))\n",
    "    print('Dowloaded!')\n",
    "```\n"
   ]
  },
  {
   "cell_type": "markdown",
   "metadata": {},
   "source": [
    "## Get TDX-Hydro GPKG files by HYBAS_ID"
   ]
  },
  {
   "cell_type": "code",
   "execution_count": null,
   "metadata": {},
   "outputs": [],
   "source": []
  },
  {
   "cell_type": "code",
   "execution_count": null,
   "metadata": {},
   "outputs": [],
   "source": []
  },
  {
   "cell_type": "markdown",
   "metadata": {},
   "source": [
    "# End"
   ]
  },
  {
   "cell_type": "markdown",
   "metadata": {},
   "source": []
  }
 ],
 "metadata": {
  "kernelspec": {
   "display_name": "hydrography",
   "language": "python",
   "name": "python3"
  },
  "language_info": {
   "codemirror_mode": {
    "name": "ipython",
    "version": 3
   },
   "file_extension": ".py",
   "mimetype": "text/x-python",
   "name": "python",
   "nbconvert_exporter": "python",
   "pygments_lexer": "ipython3",
   "version": "3.11.9"
  }
 },
 "nbformat": 4,
 "nbformat_minor": 2
}
